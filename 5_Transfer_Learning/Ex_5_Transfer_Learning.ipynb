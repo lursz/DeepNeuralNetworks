{
 "cells": [
  {
   "cell_type": "markdown",
   "metadata": {},
   "source": [
    "**Table of contents**<a id='toc0_'></a>    \n",
    "- [Imports](#toc1_1_)    \n",
    "  - [Visualize the data](#toc1_2_)    \n",
    "- [Transfer Learning](#toc2_)    \n",
    "  - [Prepare Data](#toc2_1_)    \n",
    "  - [Features Extraction Method (faster but no augmentation)](#toc2_2_)    \n",
    "    - [Define ResNet Model](#toc2_2_1_)    \n",
    "    - [Extract features from ResNet](#toc2_2_2_)    \n",
    "    - [New model](#toc2_2_3_)    \n",
    "    - [Train](#toc2_2_4_)    \n",
    "  - [Fine-Tuning method (slower but with augmentation)](#toc2_3_)    \n",
    "    - [Prepare Data](#toc2_3_1_)    \n",
    "    - [Create model](#toc2_3_2_)    \n",
    "- [Tuning Method (unfreeze few layers from ResNet)](#toc3_)    \n",
    "- [Conclusion](#toc4_)    \n",
    "\n",
    "<!-- vscode-jupyter-toc-config\n",
    "\tnumbering=false\n",
    "\tanchor=true\n",
    "\tflat=false\n",
    "\tminLevel=1\n",
    "\tmaxLevel=6\n",
    "\t/vscode-jupyter-toc-config -->\n",
    "<!-- THIS CELL WILL BE REPLACED ON TOC UPDATE. DO NOT WRITE YOUR TEXT IN THIS CELL -->"
   ]
  },
  {
   "cell_type": "markdown",
   "metadata": {},
   "source": [
    "## <a id='toc1_1_'></a>[Imports](#toc0_)"
   ]
  },
  {
   "cell_type": "code",
   "execution_count": 91,
   "metadata": {},
   "outputs": [
    {
     "data": {
      "text/plain": [
       "True"
      ]
     },
     "execution_count": 91,
     "metadata": {},
     "output_type": "execute_result"
    }
   ],
   "source": [
    "import torch\n",
    "from torch import nn\n",
    "from torch import Tensor\n",
    "import torch.optim as optim\n",
    "from torchvision import models, transforms, datasets\n",
    "from tqdm import tqdm\n",
    "\n",
    "torch.cuda.is_available()"
   ]
  },
  {
   "cell_type": "code",
   "execution_count": 92,
   "metadata": {},
   "outputs": [],
   "source": [
    "import matplotlib.pyplot as plt\n",
    "import numpy as np\n",
    "import glob\n",
    "import pandas as pd\n",
    "from torch.utils.data import Dataset, DataLoader\n",
    "import cv2"
   ]
  },
  {
   "cell_type": "code",
   "execution_count": 93,
   "metadata": {},
   "outputs": [
    {
     "name": "stdout",
     "output_type": "stream",
     "text": [
      "Using device: cuda\n"
     ]
    }
   ],
   "source": [
    "device = torch.device(\"cuda\" if torch.cuda.is_available() else \"cpu\")\n",
    "print(f\"Using device: {device}\")"
   ]
  },
  {
   "cell_type": "markdown",
   "metadata": {},
   "source": [
    "## <a id='toc1_2_'></a>[Visualize the data](#toc0_)"
   ]
  },
  {
   "cell_type": "code",
   "execution_count": 94,
   "metadata": {},
   "outputs": [],
   "source": [
    "def plot_accuracy_from_history(*histories, labels=None) -> None:\n",
    "    plt.rcParams['figure.figsize'] = (25.0, 5.0)  # set default size of plots\n",
    "\n",
    "    for i, history in enumerate(histories):\n",
    "        epochs = np.arange(1, len(history['accuracy']) + 1)\n",
    "        \n",
    "        color = ['b', 'r', 'g', 'c', 'm', 'y'][i % 6]  # Choose color cyclically\n",
    "        label = labels[i] if labels else f'Model {i+1}'\n",
    "        acc = history['accuracy']\n",
    "        val_acc = history['val_accuracy']\n",
    "        \n",
    "        plt.plot(epochs, acc, color + 'o', label=f'Training accuracy for {label}')\n",
    "        plt.plot(epochs, val_acc, color, label=f'Validation accuracy for {label}')"
   ]
  },
  {
   "cell_type": "markdown",
   "metadata": {},
   "source": [
    "# <a id='toc2_'></a>[Transfer Learning](#toc0_)"
   ]
  },
  {
   "cell_type": "markdown",
   "metadata": {},
   "source": [
    "## <a id='toc2_1_'></a>[Prepare Data](#toc0_)"
   ]
  },
  {
   "cell_type": "code",
   "execution_count": 95,
   "metadata": {},
   "outputs": [],
   "source": [
    "EPOCHS: int = 50"
   ]
  },
  {
   "cell_type": "code",
   "execution_count": 96,
   "metadata": {},
   "outputs": [],
   "source": [
    "data_transforms = {\n",
    "    'train': transforms.Compose([\n",
    "        transforms.Resize(150),\n",
    "        transforms.CenterCrop(150),\n",
    "        transforms.ToTensor(),\n",
    "        transforms.Normalize(mean=[0.485, 0.456, 0.406], std=[0.229, 0.224, 0.225])\n",
    "    ]),\n",
    "    'validation': transforms.Compose([\n",
    "        transforms.Resize(150),\n",
    "        transforms.CenterCrop(150),\n",
    "        transforms.ToTensor(),\n",
    "        transforms.Normalize(mean=[0.485, 0.456, 0.406], std=[0.229, 0.224, 0.225])\n",
    "    ]),\n",
    "    'test': transforms.Compose([\n",
    "        transforms.Resize(150),\n",
    "        transforms.CenterCrop(150),\n",
    "        transforms.ToTensor(),\n",
    "        transforms.Normalize(mean=[0.485, 0.456, 0.406], std=[0.229, 0.224, 0.225])\n",
    "    ])\n",
    "}\n",
    "\n",
    "# Define data directories\n",
    "data_dir: str = 'kaggle/cats_and_dogs_small/'\n",
    "image_datasets = {x: datasets.ImageFolder(root=data_dir+x, transform=data_transforms[x]) for x in ['train', 'validation', 'test']}\n",
    "dataloaders = {x: DataLoader(image_datasets[x], batch_size=20, shuffle=False) for x in ['train', 'validation', 'test']}\n"
   ]
  },
  {
   "cell_type": "markdown",
   "metadata": {},
   "source": [
    "## <a id='toc2_2_'></a>[Features Extraction Method (faster but no augmentation)](#toc0_)"
   ]
  },
  {
   "cell_type": "markdown",
   "metadata": {},
   "source": [
    "### <a id='toc2_2_1_'></a>[Define ResNet Model](#toc0_)"
   ]
  },
  {
   "cell_type": "code",
   "execution_count": 97,
   "metadata": {},
   "outputs": [],
   "source": [
    "class ResNetModel(nn.Module):\n",
    "    def __init__(self):\n",
    "        super(ResNetModel, self).__init__()\n",
    "        self.resnet = models.resnet18(pretrained=True)\n",
    "        self.resnet.fc = nn.Identity()  # Remove the final fully connected layer\n",
    "\n",
    "    def forward(self, x):\n",
    "        x = self.resnet(x)\n",
    "        return x"
   ]
  },
  {
   "cell_type": "markdown",
   "metadata": {},
   "source": [
    "### <a id='toc2_2_2_'></a>[Extract features from ResNet](#toc0_)"
   ]
  },
  {
   "cell_type": "code",
   "execution_count": 98,
   "metadata": {},
   "outputs": [],
   "source": [
    "def extract_features(model, dataloader, dataset_size) -> tuple[torch.Tensor, torch.Tensor]:\n",
    "    model.eval()\n",
    "    features = torch.zeros(dataset_size, 512, 4, 4, device=device)\n",
    "    labels = torch.zeros(dataset_size, device=device)\n",
    "    with torch.no_grad():\n",
    "        for i, (inputs, labels_batch) in enumerate(dataloader):\n",
    "            inputs = inputs.to(device)  # Move inputs to the same device as the model\n",
    "            outputs = model(inputs)\n",
    "            # Reshape or unsqueeze outputs to match the shape of features\n",
    "            outputs = torch.unsqueeze(torch.unsqueeze(outputs, -1), -1)\n",
    "            features[i * dataloader.batch_size : (i + 1) * dataloader.batch_size] = outputs\n",
    "            labels[i * dataloader.batch_size : (i + 1) * dataloader.batch_size] = labels_batch\n",
    "    return features, labels"
   ]
  },
  {
   "cell_type": "code",
   "execution_count": 99,
   "metadata": {},
   "outputs": [
    {
     "name": "stdout",
     "output_type": "stream",
     "text": [
      "torch.Size([8000, 8192])\n",
      "torch.Size([1000, 8192])\n",
      "torch.Size([2000, 8192])\n"
     ]
    }
   ],
   "source": [
    "resnet_model = ResNetModel().to(device)\n",
    "\n",
    "train_features, train_labels = extract_features(resnet_model, dataloaders['train'], len(image_datasets['train']))\n",
    "validation_features, validation_labels = extract_features(resnet_model, dataloaders['validation'], len(image_datasets['validation']))\n",
    "test_features, test_labels = extract_features(resnet_model, dataloaders['test'], len(image_datasets['test']))\n",
    "\n",
    "# Reshape\n",
    "train_features = train_features.view(len(image_datasets['train']), -1)\n",
    "validation_features = validation_features.view(len(image_datasets['validation']), -1)\n",
    "test_features = test_features.view(len(image_datasets['test']), -1)\n",
    "\n",
    "print(train_features.shape)\n",
    "print(validation_features.shape)\n",
    "print(test_features.shape)"
   ]
  },
  {
   "cell_type": "code",
   "execution_count": 100,
   "metadata": {},
   "outputs": [],
   "source": [
    "train_dataset = torch.utils.data.TensorDataset(train_features, train_labels)\n",
    "validation_dataset = torch.utils.data.TensorDataset(validation_features, validation_labels)\n",
    "test_dataset = torch.utils.data.TensorDataset(test_features, test_labels)\n",
    "\n",
    "train_loader = torch.utils.data.DataLoader(train_dataset, batch_size=20, shuffle=True)\n",
    "validation_loader = torch.utils.data.DataLoader(validation_dataset, batch_size=20, shuffle=True)\n",
    "test_loader = torch.utils.data.DataLoader(test_dataset, batch_size=20, shuffle=True)"
   ]
  },
  {
   "cell_type": "markdown",
   "metadata": {},
   "source": [
    "### <a id='toc2_2_3_'></a>[New model](#toc0_)"
   ]
  },
  {
   "cell_type": "code",
   "execution_count": 101,
   "metadata": {},
   "outputs": [],
   "source": [
    "class ModelWithExtracted(nn.Module):\n",
    "    def __init__(self):\n",
    "        super().__init__()\n",
    "        self.model = nn.Sequential(\n",
    "            nn.Linear(train_features.shape[1], 256),\n",
    "            nn.ReLU(),\n",
    "            nn.Dropout(0.5),\n",
    "            nn.Linear(256, 1),\n",
    "            nn.Sigmoid(),\n",
    "            nn.Flatten(0, 1)\n",
    "        )\n",
    "\n",
    "    def forward(self, x):\n",
    "        x = self.model(x)\n",
    "        return x"
   ]
  },
  {
   "cell_type": "markdown",
   "metadata": {},
   "source": [
    "### <a id='toc2_2_4_'></a>[Train](#toc0_)"
   ]
  },
  {
   "cell_type": "code",
   "execution_count": 102,
   "metadata": {},
   "outputs": [
    {
     "name": "stderr",
     "output_type": "stream",
     "text": [
      "100%|██████████| 400/400 [00:01<00:00, 221.41it/s]\n"
     ]
    },
    {
     "name": "stdout",
     "output_type": "stream",
     "text": [
      "Epoch 1/50 Loss: 0.3242 Acc: 0.9476\n",
      "Validation Loss: 0.0399 Acc: 0.9500\n"
     ]
    },
    {
     "name": "stderr",
     "output_type": "stream",
     "text": [
      "100%|██████████| 400/400 [00:01<00:00, 220.86it/s]\n"
     ]
    },
    {
     "name": "stdout",
     "output_type": "stream",
     "text": [
      "Epoch 2/50 Loss: 0.0881 Acc: 0.9656\n",
      "Validation Loss: 0.0953 Acc: 0.9500\n"
     ]
    },
    {
     "name": "stderr",
     "output_type": "stream",
     "text": [
      "100%|██████████| 400/400 [00:01<00:00, 207.55it/s]\n"
     ]
    },
    {
     "name": "stdout",
     "output_type": "stream",
     "text": [
      "Epoch 3/50 Loss: 0.0864 Acc: 0.9671\n",
      "Validation Loss: 0.1016 Acc: 0.9500\n"
     ]
    },
    {
     "name": "stderr",
     "output_type": "stream",
     "text": [
      "100%|██████████| 400/400 [00:01<00:00, 221.32it/s]\n"
     ]
    },
    {
     "name": "stdout",
     "output_type": "stream",
     "text": [
      "Epoch 4/50 Loss: 0.0856 Acc: 0.9684\n",
      "Validation Loss: 0.2002 Acc: 0.9000\n"
     ]
    },
    {
     "name": "stderr",
     "output_type": "stream",
     "text": [
      "100%|██████████| 400/400 [00:01<00:00, 226.77it/s]\n"
     ]
    },
    {
     "name": "stdout",
     "output_type": "stream",
     "text": [
      "Epoch 5/50 Loss: 0.0699 Acc: 0.9724\n",
      "Validation Loss: 0.0949 Acc: 0.9500\n"
     ]
    },
    {
     "name": "stderr",
     "output_type": "stream",
     "text": [
      "100%|██████████| 400/400 [00:01<00:00, 233.21it/s]\n"
     ]
    },
    {
     "name": "stdout",
     "output_type": "stream",
     "text": [
      "Epoch 6/50 Loss: 0.0777 Acc: 0.9704\n",
      "Validation Loss: 0.2190 Acc: 0.9000\n"
     ]
    },
    {
     "name": "stderr",
     "output_type": "stream",
     "text": [
      "100%|██████████| 400/400 [00:01<00:00, 235.34it/s]\n"
     ]
    },
    {
     "name": "stdout",
     "output_type": "stream",
     "text": [
      "Epoch 7/50 Loss: 0.0689 Acc: 0.9738\n",
      "Validation Loss: 0.0020 Acc: 1.0000\n"
     ]
    },
    {
     "name": "stderr",
     "output_type": "stream",
     "text": [
      "100%|██████████| 400/400 [00:01<00:00, 234.46it/s]\n"
     ]
    },
    {
     "name": "stdout",
     "output_type": "stream",
     "text": [
      "Epoch 8/50 Loss: 0.0707 Acc: 0.9744\n",
      "Validation Loss: 0.0360 Acc: 1.0000\n"
     ]
    },
    {
     "name": "stderr",
     "output_type": "stream",
     "text": [
      "100%|██████████| 400/400 [00:01<00:00, 231.34it/s]\n"
     ]
    },
    {
     "name": "stdout",
     "output_type": "stream",
     "text": [
      "Epoch 9/50 Loss: 0.0688 Acc: 0.9731\n",
      "Validation Loss: 0.1602 Acc: 0.9500\n"
     ]
    },
    {
     "name": "stderr",
     "output_type": "stream",
     "text": [
      "100%|██████████| 400/400 [00:02<00:00, 180.97it/s]\n"
     ]
    },
    {
     "name": "stdout",
     "output_type": "stream",
     "text": [
      "Epoch 10/50 Loss: 0.0620 Acc: 0.9728\n",
      "Validation Loss: 0.2151 Acc: 0.9500\n"
     ]
    },
    {
     "name": "stderr",
     "output_type": "stream",
     "text": [
      "100%|██████████| 400/400 [00:01<00:00, 234.90it/s]\n"
     ]
    },
    {
     "name": "stdout",
     "output_type": "stream",
     "text": [
      "Epoch 11/50 Loss: 0.0698 Acc: 0.9720\n",
      "Validation Loss: 0.0899 Acc: 0.9500\n"
     ]
    },
    {
     "name": "stderr",
     "output_type": "stream",
     "text": [
      "100%|██████████| 400/400 [00:01<00:00, 233.75it/s]\n"
     ]
    },
    {
     "name": "stdout",
     "output_type": "stream",
     "text": [
      "Epoch 12/50 Loss: 0.0622 Acc: 0.9764\n",
      "Validation Loss: 0.0195 Acc: 1.0000\n"
     ]
    },
    {
     "name": "stderr",
     "output_type": "stream",
     "text": [
      "100%|██████████| 400/400 [00:01<00:00, 240.79it/s]\n"
     ]
    },
    {
     "name": "stdout",
     "output_type": "stream",
     "text": [
      "Epoch 13/50 Loss: 0.0582 Acc: 0.9764\n",
      "Validation Loss: 0.0303 Acc: 1.0000\n"
     ]
    },
    {
     "name": "stderr",
     "output_type": "stream",
     "text": [
      "100%|██████████| 400/400 [00:01<00:00, 230.61it/s]\n"
     ]
    },
    {
     "name": "stdout",
     "output_type": "stream",
     "text": [
      "Epoch 14/50 Loss: 0.0532 Acc: 0.9789\n",
      "Validation Loss: 0.0675 Acc: 0.9500\n"
     ]
    },
    {
     "name": "stderr",
     "output_type": "stream",
     "text": [
      "100%|██████████| 400/400 [00:01<00:00, 235.99it/s]\n"
     ]
    },
    {
     "name": "stdout",
     "output_type": "stream",
     "text": [
      "Epoch 15/50 Loss: 0.0576 Acc: 0.9765\n",
      "Validation Loss: 0.0603 Acc: 0.9500\n"
     ]
    },
    {
     "name": "stderr",
     "output_type": "stream",
     "text": [
      "100%|██████████| 400/400 [00:01<00:00, 237.00it/s]\n"
     ]
    },
    {
     "name": "stdout",
     "output_type": "stream",
     "text": [
      "Epoch 16/50 Loss: 0.0470 Acc: 0.9814\n",
      "Validation Loss: 0.6348 Acc: 0.9000\n"
     ]
    },
    {
     "name": "stderr",
     "output_type": "stream",
     "text": [
      "100%|██████████| 400/400 [00:01<00:00, 238.50it/s]\n"
     ]
    },
    {
     "name": "stdout",
     "output_type": "stream",
     "text": [
      "Epoch 17/50 Loss: 0.0510 Acc: 0.9799\n",
      "Validation Loss: 0.0008 Acc: 1.0000\n"
     ]
    },
    {
     "name": "stderr",
     "output_type": "stream",
     "text": [
      "100%|██████████| 400/400 [00:01<00:00, 231.29it/s]\n"
     ]
    },
    {
     "name": "stdout",
     "output_type": "stream",
     "text": [
      "Epoch 18/50 Loss: 0.0519 Acc: 0.9816\n",
      "Validation Loss: 0.0332 Acc: 1.0000\n"
     ]
    },
    {
     "name": "stderr",
     "output_type": "stream",
     "text": [
      "100%|██████████| 400/400 [00:01<00:00, 234.69it/s]\n"
     ]
    },
    {
     "name": "stdout",
     "output_type": "stream",
     "text": [
      "Epoch 19/50 Loss: 0.0504 Acc: 0.9796\n",
      "Validation Loss: 0.0945 Acc: 0.9500\n"
     ]
    },
    {
     "name": "stderr",
     "output_type": "stream",
     "text": [
      "100%|██████████| 400/400 [00:01<00:00, 237.62it/s]\n"
     ]
    },
    {
     "name": "stdout",
     "output_type": "stream",
     "text": [
      "Epoch 20/50 Loss: 0.0543 Acc: 0.9788\n",
      "Validation Loss: 0.0478 Acc: 0.9500\n"
     ]
    },
    {
     "name": "stderr",
     "output_type": "stream",
     "text": [
      "100%|██████████| 400/400 [00:01<00:00, 223.87it/s]\n"
     ]
    },
    {
     "name": "stdout",
     "output_type": "stream",
     "text": [
      "Epoch 21/50 Loss: 0.0485 Acc: 0.9816\n",
      "Validation Loss: 0.0001 Acc: 1.0000\n"
     ]
    },
    {
     "name": "stderr",
     "output_type": "stream",
     "text": [
      "100%|██████████| 400/400 [00:01<00:00, 238.43it/s]\n"
     ]
    },
    {
     "name": "stdout",
     "output_type": "stream",
     "text": [
      "Epoch 22/50 Loss: 0.0491 Acc: 0.9806\n",
      "Validation Loss: 0.0054 Acc: 1.0000\n"
     ]
    },
    {
     "name": "stderr",
     "output_type": "stream",
     "text": [
      "100%|██████████| 400/400 [00:01<00:00, 241.28it/s]\n"
     ]
    },
    {
     "name": "stdout",
     "output_type": "stream",
     "text": [
      "Epoch 23/50 Loss: 0.0459 Acc: 0.9804\n",
      "Validation Loss: 0.2243 Acc: 0.9500\n"
     ]
    },
    {
     "name": "stderr",
     "output_type": "stream",
     "text": [
      "100%|██████████| 400/400 [00:01<00:00, 228.94it/s]\n"
     ]
    },
    {
     "name": "stdout",
     "output_type": "stream",
     "text": [
      "Epoch 24/50 Loss: 0.0489 Acc: 0.9793\n",
      "Validation Loss: 0.0000 Acc: 1.0000\n"
     ]
    },
    {
     "name": "stderr",
     "output_type": "stream",
     "text": [
      "100%|██████████| 400/400 [00:01<00:00, 238.06it/s]\n"
     ]
    },
    {
     "name": "stdout",
     "output_type": "stream",
     "text": [
      "Epoch 25/50 Loss: 0.0415 Acc: 0.9829\n",
      "Validation Loss: 0.0000 Acc: 1.0000\n"
     ]
    },
    {
     "name": "stderr",
     "output_type": "stream",
     "text": [
      "100%|██████████| 400/400 [00:01<00:00, 235.10it/s]\n"
     ]
    },
    {
     "name": "stdout",
     "output_type": "stream",
     "text": [
      "Epoch 26/50 Loss: 0.0408 Acc: 0.9830\n",
      "Validation Loss: 0.0968 Acc: 0.9500\n"
     ]
    },
    {
     "name": "stderr",
     "output_type": "stream",
     "text": [
      "100%|██████████| 400/400 [00:01<00:00, 239.22it/s]\n"
     ]
    },
    {
     "name": "stdout",
     "output_type": "stream",
     "text": [
      "Epoch 27/50 Loss: 0.0410 Acc: 0.9828\n",
      "Validation Loss: 0.0186 Acc: 1.0000\n"
     ]
    },
    {
     "name": "stderr",
     "output_type": "stream",
     "text": [
      "100%|██████████| 400/400 [00:01<00:00, 237.11it/s]\n"
     ]
    },
    {
     "name": "stdout",
     "output_type": "stream",
     "text": [
      "Epoch 28/50 Loss: 0.0389 Acc: 0.9813\n",
      "Validation Loss: 0.0029 Acc: 1.0000\n"
     ]
    },
    {
     "name": "stderr",
     "output_type": "stream",
     "text": [
      "100%|██████████| 400/400 [00:02<00:00, 174.90it/s]\n"
     ]
    },
    {
     "name": "stdout",
     "output_type": "stream",
     "text": [
      "Epoch 29/50 Loss: 0.0376 Acc: 0.9846\n",
      "Validation Loss: 0.0369 Acc: 1.0000\n"
     ]
    },
    {
     "name": "stderr",
     "output_type": "stream",
     "text": [
      "100%|██████████| 400/400 [00:01<00:00, 235.30it/s]\n"
     ]
    },
    {
     "name": "stdout",
     "output_type": "stream",
     "text": [
      "Epoch 30/50 Loss: 0.0385 Acc: 0.9843\n",
      "Validation Loss: 0.1768 Acc: 0.9500\n"
     ]
    },
    {
     "name": "stderr",
     "output_type": "stream",
     "text": [
      "100%|██████████| 400/400 [00:01<00:00, 229.74it/s]\n"
     ]
    },
    {
     "name": "stdout",
     "output_type": "stream",
     "text": [
      "Epoch 31/50 Loss: 0.0420 Acc: 0.9814\n",
      "Validation Loss: 0.1945 Acc: 0.9500\n"
     ]
    },
    {
     "name": "stderr",
     "output_type": "stream",
     "text": [
      "100%|██████████| 400/400 [00:01<00:00, 226.37it/s]\n"
     ]
    },
    {
     "name": "stdout",
     "output_type": "stream",
     "text": [
      "Epoch 32/50 Loss: 0.0444 Acc: 0.9838\n",
      "Validation Loss: 0.0384 Acc: 1.0000\n"
     ]
    },
    {
     "name": "stderr",
     "output_type": "stream",
     "text": [
      "100%|██████████| 400/400 [00:01<00:00, 231.40it/s]\n"
     ]
    },
    {
     "name": "stdout",
     "output_type": "stream",
     "text": [
      "Epoch 33/50 Loss: 0.0345 Acc: 0.9856\n",
      "Validation Loss: 0.1981 Acc: 0.9000\n"
     ]
    },
    {
     "name": "stderr",
     "output_type": "stream",
     "text": [
      "100%|██████████| 400/400 [00:01<00:00, 231.34it/s]\n"
     ]
    },
    {
     "name": "stdout",
     "output_type": "stream",
     "text": [
      "Epoch 34/50 Loss: 0.0341 Acc: 0.9851\n",
      "Validation Loss: 0.2415 Acc: 0.9500\n"
     ]
    },
    {
     "name": "stderr",
     "output_type": "stream",
     "text": [
      "100%|██████████| 400/400 [00:01<00:00, 231.59it/s]\n"
     ]
    },
    {
     "name": "stdout",
     "output_type": "stream",
     "text": [
      "Epoch 35/50 Loss: 0.0313 Acc: 0.9874\n",
      "Validation Loss: 0.0000 Acc: 1.0000\n"
     ]
    },
    {
     "name": "stderr",
     "output_type": "stream",
     "text": [
      "100%|██████████| 400/400 [00:01<00:00, 224.25it/s]\n"
     ]
    },
    {
     "name": "stdout",
     "output_type": "stream",
     "text": [
      "Epoch 36/50 Loss: 0.0354 Acc: 0.9843\n",
      "Validation Loss: 0.0000 Acc: 1.0000\n"
     ]
    },
    {
     "name": "stderr",
     "output_type": "stream",
     "text": [
      "100%|██████████| 400/400 [00:01<00:00, 233.38it/s]\n"
     ]
    },
    {
     "name": "stdout",
     "output_type": "stream",
     "text": [
      "Epoch 37/50 Loss: 0.0317 Acc: 0.9870\n",
      "Validation Loss: 0.0371 Acc: 1.0000\n"
     ]
    },
    {
     "name": "stderr",
     "output_type": "stream",
     "text": [
      "100%|██████████| 400/400 [00:01<00:00, 227.98it/s]\n"
     ]
    },
    {
     "name": "stdout",
     "output_type": "stream",
     "text": [
      "Epoch 38/50 Loss: 0.0334 Acc: 0.9851\n",
      "Validation Loss: 0.0424 Acc: 1.0000\n"
     ]
    },
    {
     "name": "stderr",
     "output_type": "stream",
     "text": [
      "100%|██████████| 400/400 [00:01<00:00, 235.95it/s]\n"
     ]
    },
    {
     "name": "stdout",
     "output_type": "stream",
     "text": [
      "Epoch 39/50 Loss: 0.0372 Acc: 0.9833\n",
      "Validation Loss: 0.0186 Acc: 1.0000\n"
     ]
    },
    {
     "name": "stderr",
     "output_type": "stream",
     "text": [
      "100%|██████████| 400/400 [00:01<00:00, 231.08it/s]\n"
     ]
    },
    {
     "name": "stdout",
     "output_type": "stream",
     "text": [
      "Epoch 40/50 Loss: 0.0390 Acc: 0.9815\n",
      "Validation Loss: 0.0843 Acc: 0.9500\n"
     ]
    },
    {
     "name": "stderr",
     "output_type": "stream",
     "text": [
      "100%|██████████| 400/400 [00:01<00:00, 231.19it/s]\n"
     ]
    },
    {
     "name": "stdout",
     "output_type": "stream",
     "text": [
      "Epoch 41/50 Loss: 0.0421 Acc: 0.9838\n",
      "Validation Loss: 0.0234 Acc: 1.0000\n"
     ]
    },
    {
     "name": "stderr",
     "output_type": "stream",
     "text": [
      "100%|██████████| 400/400 [00:01<00:00, 238.90it/s]\n"
     ]
    },
    {
     "name": "stdout",
     "output_type": "stream",
     "text": [
      "Epoch 42/50 Loss: 0.0305 Acc: 0.9863\n",
      "Validation Loss: 0.0582 Acc: 0.9500\n"
     ]
    },
    {
     "name": "stderr",
     "output_type": "stream",
     "text": [
      "100%|██████████| 400/400 [00:01<00:00, 233.60it/s]\n"
     ]
    },
    {
     "name": "stdout",
     "output_type": "stream",
     "text": [
      "Epoch 43/50 Loss: 0.0318 Acc: 0.9861\n",
      "Validation Loss: 0.1862 Acc: 0.9500\n"
     ]
    },
    {
     "name": "stderr",
     "output_type": "stream",
     "text": [
      "100%|██████████| 400/400 [00:01<00:00, 230.45it/s]\n"
     ]
    },
    {
     "name": "stdout",
     "output_type": "stream",
     "text": [
      "Epoch 44/50 Loss: 0.0278 Acc: 0.9870\n",
      "Validation Loss: 0.0071 Acc: 1.0000\n"
     ]
    },
    {
     "name": "stderr",
     "output_type": "stream",
     "text": [
      "100%|██████████| 400/400 [00:01<00:00, 235.87it/s]\n"
     ]
    },
    {
     "name": "stdout",
     "output_type": "stream",
     "text": [
      "Epoch 45/50 Loss: 0.0326 Acc: 0.9863\n",
      "Validation Loss: 0.0000 Acc: 1.0000\n"
     ]
    },
    {
     "name": "stderr",
     "output_type": "stream",
     "text": [
      "100%|██████████| 400/400 [00:01<00:00, 230.02it/s]\n"
     ]
    },
    {
     "name": "stdout",
     "output_type": "stream",
     "text": [
      "Epoch 46/50 Loss: 0.0308 Acc: 0.9865\n",
      "Validation Loss: 0.1493 Acc: 0.9500\n"
     ]
    },
    {
     "name": "stderr",
     "output_type": "stream",
     "text": [
      "100%|██████████| 400/400 [00:02<00:00, 175.86it/s]\n"
     ]
    },
    {
     "name": "stdout",
     "output_type": "stream",
     "text": [
      "Epoch 47/50 Loss: 0.0316 Acc: 0.9873\n",
      "Validation Loss: 0.0000 Acc: 1.0000\n"
     ]
    },
    {
     "name": "stderr",
     "output_type": "stream",
     "text": [
      "100%|██████████| 400/400 [00:01<00:00, 234.09it/s]\n"
     ]
    },
    {
     "name": "stdout",
     "output_type": "stream",
     "text": [
      "Epoch 48/50 Loss: 0.0299 Acc: 0.9864\n",
      "Validation Loss: 0.0009 Acc: 1.0000\n"
     ]
    },
    {
     "name": "stderr",
     "output_type": "stream",
     "text": [
      "100%|██████████| 400/400 [00:01<00:00, 236.57it/s]\n"
     ]
    },
    {
     "name": "stdout",
     "output_type": "stream",
     "text": [
      "Epoch 49/50 Loss: 0.0369 Acc: 0.9833\n",
      "Validation Loss: 0.0000 Acc: 1.0000\n"
     ]
    },
    {
     "name": "stderr",
     "output_type": "stream",
     "text": [
      "100%|██████████| 400/400 [00:01<00:00, 231.02it/s]"
     ]
    },
    {
     "name": "stdout",
     "output_type": "stream",
     "text": [
      "Epoch 50/50 Loss: 0.0316 Acc: 0.9878\n",
      "Validation Loss: 0.0995 Acc: 0.9500\n"
     ]
    },
    {
     "name": "stderr",
     "output_type": "stream",
     "text": [
      "\n"
     ]
    }
   ],
   "source": [
    "model1 = ModelWithExtracted().to(device)\n",
    "criterion = nn.BCELoss()\n",
    "optimizer = optim.Adam(model1.parameters(), lr=0.001)\n",
    "\n",
    "def train_model(model, criterion, optimizer) -> None:\n",
    "    accuracy_history: list = []\n",
    "    loss_history: list = []\n",
    "    val_accuracy_history: list = []\n",
    "    val_loss_history: list = []\n",
    "    \n",
    "    for epoch in range(EPOCHS):\n",
    "        model.train()\n",
    "        running_loss = 0.0\n",
    "        running_corrects = 0\n",
    "        for inputs, labels in tqdm(train_loader):\n",
    "            inputs = inputs.to(device)\n",
    "            labels = labels.float().to(device)\n",
    "            optimizer.zero_grad()\n",
    "            outputs = model(inputs)\n",
    "            loss = criterion(outputs, labels)\n",
    "            loss.backward()\n",
    "            optimizer.step()\n",
    "            running_loss += loss.item() * inputs.size(0)\n",
    "            running_corrects += torch.sum((outputs > 0.5) == labels.byte())\n",
    "        epoch_loss = running_loss / len(image_datasets['train'])\n",
    "        epoch_acc = running_corrects / len(image_datasets['train'])\n",
    "        accuracy_history.append(epoch_acc)\n",
    "        loss_history.append(epoch_loss)\n",
    "        \n",
    "        inputs_val, labels_val = next(iter(validation_loader))\n",
    "        with torch.no_grad():\n",
    "            model.eval()\n",
    "            inputs_val = inputs_val.to(device)\n",
    "            labels_val = labels_val.float().to(device)\n",
    "            val_outputs = model(inputs_val)\n",
    "            val_loss = criterion(val_outputs, labels_val)\n",
    "            val_preds = torch.round(val_outputs)\n",
    "            val_acc = (val_preds == labels_val).float().mean()\n",
    "            val_accuracy_history.append(val_acc)\n",
    "            val_loss_history.append(val_loss)\n",
    "        \n",
    "            print(f\"Epoch {epoch+1}/{EPOCHS} Loss: {epoch_loss:.4f} Acc: {epoch_acc:.4f}\")\n",
    "            print(f\"Validation Loss: {val_loss:.4f} Acc: {val_acc:.4f}\")\n",
    "    \n",
    "    history = {\n",
    "        'accuracy': accuracy_history,\n",
    "        'loss': loss_history,\n",
    "        'val_accuracy': val_accuracy_history,\n",
    "        'val_loss': val_loss_history\n",
    "    }\n",
    "    return history\n",
    "        \n",
    "history1 = train_model(model1, criterion, optimizer)"
   ]
  },
  {
   "cell_type": "code",
   "execution_count": 103,
   "metadata": {},
   "outputs": [
    {
     "data": {
      "image/png": "[encoded data removed]",
      "text/plain": [
       "<Figure size 2500x500 with 1 Axes>"
      ]
     },
     "metadata": {},
     "output_type": "display_data"
    }
   ],
   "source": [
    "history1 = {k: [v.cpu().numpy() if isinstance(v, torch.Tensor) else v for v in vs] for k, vs in history1.items()}\n",
    "plot_accuracy_from_history(history1)"
   ]
  },
  {
   "cell_type": "markdown",
   "metadata": {},
   "source": [
    "## <a id='toc2_3_'></a>[Fine-Tuning method (slower but with augmentation)](#toc0_)"
   ]
  },
  {
   "cell_type": "markdown",
   "metadata": {},
   "source": [
    "### <a id='toc2_3_1_'></a>[Prepare Data](#toc0_)"
   ]
  },
  {
   "cell_type": "code",
   "execution_count": 104,
   "metadata": {},
   "outputs": [],
   "source": [
    "data_transforms = {\n",
    "    'train': transforms.Compose([\n",
    "        transforms.Resize(150),\n",
    "        transforms.CenterCrop(150),\n",
    "        transforms.ToTensor(),\n",
    "        transforms.Normalize(mean=[0.485, 0.456, 0.406], std=[0.229, 0.224, 0.225]),\n",
    "        # random horizontal flip\n",
    "        transforms.RandomHorizontalFlip(),\n",
    "        # random Linear Transformation\n",
    "        transforms.RandomAffine(degrees=20, translate=(0.1, 0.1), scale=(0.9, 1.1)),\n",
    "    ]),\n",
    "    'validation': transforms.Compose([\n",
    "        transforms.Resize(150),\n",
    "        transforms.CenterCrop(150),\n",
    "        transforms.ToTensor(),\n",
    "        transforms.Normalize(mean=[0.485, 0.456, 0.406], std=[0.229, 0.224, 0.225])\n",
    "    ]),\n",
    "    'test': transforms.Compose([\n",
    "        transforms.Resize(150),\n",
    "        transforms.CenterCrop(150),\n",
    "        transforms.ToTensor(),\n",
    "        transforms.Normalize(mean=[0.485, 0.456, 0.406], std=[0.229, 0.224, 0.225])\n",
    "    ])\n",
    "}\n",
    "\n",
    "# Define data directories\n",
    "data_dir = 'kaggle/cats_and_dogs_small/'\n",
    "image_datasets = {x: datasets.ImageFolder(root=data_dir+x, transform=data_transforms[x]) for x in ['train', 'validation', 'test']}\n",
    "dataloaders = {x: DataLoader(image_datasets[x], batch_size=20, shuffle=True) for x in ['train', 'validation', 'test']}"
   ]
  },
  {
   "cell_type": "markdown",
   "metadata": {},
   "source": [
    "### <a id='toc2_3_2_'></a>[Create model](#toc0_)"
   ]
  },
  {
   "cell_type": "code",
   "execution_count": 105,
   "metadata": {},
   "outputs": [],
   "source": [
    "class ModelFineTuning(nn.Module):\n",
    "    def __init__(self):\n",
    "        super().__init__()\n",
    "        self.resnet = models.resnet18(pretrained=True)\n",
    "        for param in self.resnet.parameters(): # freeze the ResNet layers\n",
    "            param.requires_grad = False\n",
    "        self.resnet.fc = nn.Identity()\n",
    "        self.model = nn.Sequential(\n",
    "            nn.Linear(512, 256),\n",
    "            nn.ReLU(),\n",
    "            nn.Dropout(0.5),\n",
    "            nn.Linear(256, 1),\n",
    "            nn.Sigmoid(),\n",
    "            nn.Flatten(0, 1)\n",
    "        )\n",
    "\n",
    "    def forward(self, x):\n",
    "        x = self.resnet(x)\n",
    "        x = self.model(x)\n",
    "        return x\n",
    "    \n",
    "    \n",
    "model2 = ModelFineTuning().to(device)\n",
    "# Define loss function and optimizer\n",
    "criterion = nn.BCELoss()\n",
    "optimizer = optim.RMSprop(model2.parameters(), lr=2e-5)"
   ]
  },
  {
   "cell_type": "code",
   "execution_count": 106,
   "metadata": {},
   "outputs": [
    {
     "name": "stderr",
     "output_type": "stream",
     "text": [
      "  0%|          | 0/400 [00:00<?, ?it/s]"
     ]
    },
    {
     "name": "stderr",
     "output_type": "stream",
     "text": [
      "100%|██████████| 400/400 [00:39<00:00, 10.25it/s]\n"
     ]
    },
    {
     "name": "stdout",
     "output_type": "stream",
     "text": [
      "Epoch 1/50 Loss: 0.4452 Acc: 0.8346\n",
      "Validation Loss: 0.2926 Acc: 0.9340\n"
     ]
    },
    {
     "name": "stderr",
     "output_type": "stream",
     "text": [
      "100%|██████████| 400/400 [00:38<00:00, 10.32it/s]\n"
     ]
    },
    {
     "name": "stdout",
     "output_type": "stream",
     "text": [
      "Epoch 2/50 Loss: 0.3048 Acc: 0.8888\n",
      "Validation Loss: 0.2127 Acc: 0.9370\n"
     ]
    },
    {
     "name": "stderr",
     "output_type": "stream",
     "text": [
      "100%|██████████| 400/400 [00:38<00:00, 10.32it/s]\n"
     ]
    },
    {
     "name": "stdout",
     "output_type": "stream",
     "text": [
      "Epoch 3/50 Loss: 0.2674 Acc: 0.8949\n",
      "Validation Loss: 0.1842 Acc: 0.9350\n"
     ]
    },
    {
     "name": "stderr",
     "output_type": "stream",
     "text": [
      "100%|██████████| 400/400 [00:38<00:00, 10.41it/s]\n"
     ]
    },
    {
     "name": "stdout",
     "output_type": "stream",
     "text": [
      "Epoch 4/50 Loss: 0.2468 Acc: 0.8974\n",
      "Validation Loss: 0.1694 Acc: 0.9410\n"
     ]
    },
    {
     "name": "stderr",
     "output_type": "stream",
     "text": [
      "100%|██████████| 400/400 [00:39<00:00, 10.20it/s]\n"
     ]
    },
    {
     "name": "stdout",
     "output_type": "stream",
     "text": [
      "Epoch 5/50 Loss: 0.2254 Acc: 0.9079\n",
      "Validation Loss: 0.1585 Acc: 0.9430\n"
     ]
    },
    {
     "name": "stderr",
     "output_type": "stream",
     "text": [
      "100%|██████████| 400/400 [00:41<00:00,  9.73it/s]\n"
     ]
    },
    {
     "name": "stdout",
     "output_type": "stream",
     "text": [
      "Epoch 6/50 Loss: 0.2180 Acc: 0.9080\n",
      "Validation Loss: 0.1490 Acc: 0.9450\n"
     ]
    },
    {
     "name": "stderr",
     "output_type": "stream",
     "text": [
      "100%|██████████| 400/400 [00:40<00:00,  9.99it/s]\n"
     ]
    },
    {
     "name": "stdout",
     "output_type": "stream",
     "text": [
      "Epoch 7/50 Loss: 0.2078 Acc: 0.9140\n",
      "Validation Loss: 0.1436 Acc: 0.9430\n"
     ]
    },
    {
     "name": "stderr",
     "output_type": "stream",
     "text": [
      "100%|██████████| 400/400 [00:39<00:00, 10.08it/s]\n"
     ]
    },
    {
     "name": "stdout",
     "output_type": "stream",
     "text": [
      "Epoch 8/50 Loss: 0.2092 Acc: 0.9093\n",
      "Validation Loss: 0.1403 Acc: 0.9450\n"
     ]
    },
    {
     "name": "stderr",
     "output_type": "stream",
     "text": [
      "100%|██████████| 400/400 [00:39<00:00, 10.21it/s]\n"
     ]
    },
    {
     "name": "stdout",
     "output_type": "stream",
     "text": [
      "Epoch 9/50 Loss: 0.2060 Acc: 0.9094\n",
      "Validation Loss: 0.1371 Acc: 0.9480\n"
     ]
    },
    {
     "name": "stderr",
     "output_type": "stream",
     "text": [
      "100%|██████████| 400/400 [00:39<00:00, 10.01it/s]\n"
     ]
    },
    {
     "name": "stdout",
     "output_type": "stream",
     "text": [
      "Epoch 10/50 Loss: 0.2089 Acc: 0.9110\n",
      "Validation Loss: 0.1341 Acc: 0.9490\n"
     ]
    },
    {
     "name": "stderr",
     "output_type": "stream",
     "text": [
      "100%|██████████| 400/400 [00:39<00:00, 10.09it/s]\n"
     ]
    },
    {
     "name": "stdout",
     "output_type": "stream",
     "text": [
      "Epoch 11/50 Loss: 0.2020 Acc: 0.9145\n",
      "Validation Loss: 0.1260 Acc: 0.9510\n"
     ]
    },
    {
     "name": "stderr",
     "output_type": "stream",
     "text": [
      "100%|██████████| 400/400 [00:39<00:00, 10.16it/s]\n"
     ]
    },
    {
     "name": "stdout",
     "output_type": "stream",
     "text": [
      "Epoch 12/50 Loss: 0.2026 Acc: 0.9156\n",
      "Validation Loss: 0.1314 Acc: 0.9490\n"
     ]
    },
    {
     "name": "stderr",
     "output_type": "stream",
     "text": [
      "100%|██████████| 400/400 [00:39<00:00, 10.05it/s]\n"
     ]
    },
    {
     "name": "stdout",
     "output_type": "stream",
     "text": [
      "Epoch 13/50 Loss: 0.1996 Acc: 0.9155\n",
      "Validation Loss: 0.1240 Acc: 0.9530\n"
     ]
    },
    {
     "name": "stderr",
     "output_type": "stream",
     "text": [
      "100%|██████████| 400/400 [00:37<00:00, 10.65it/s]\n"
     ]
    },
    {
     "name": "stdout",
     "output_type": "stream",
     "text": [
      "Epoch 14/50 Loss: 0.2003 Acc: 0.9138\n",
      "Validation Loss: 0.1274 Acc: 0.9490\n"
     ]
    },
    {
     "name": "stderr",
     "output_type": "stream",
     "text": [
      "100%|██████████| 400/400 [00:38<00:00, 10.33it/s]\n"
     ]
    },
    {
     "name": "stdout",
     "output_type": "stream",
     "text": [
      "Epoch 15/50 Loss: 0.1986 Acc: 0.9176\n",
      "Validation Loss: 0.1245 Acc: 0.9580\n"
     ]
    },
    {
     "name": "stderr",
     "output_type": "stream",
     "text": [
      "100%|██████████| 400/400 [00:38<00:00, 10.40it/s]\n"
     ]
    },
    {
     "name": "stdout",
     "output_type": "stream",
     "text": [
      "Epoch 16/50 Loss: 0.1989 Acc: 0.9166\n",
      "Validation Loss: 0.1242 Acc: 0.9500\n"
     ]
    },
    {
     "name": "stderr",
     "output_type": "stream",
     "text": [
      "100%|██████████| 400/400 [00:38<00:00, 10.37it/s]\n"
     ]
    },
    {
     "name": "stdout",
     "output_type": "stream",
     "text": [
      "Epoch 17/50 Loss: 0.1923 Acc: 0.9208\n",
      "Validation Loss: 0.1254 Acc: 0.9540\n"
     ]
    },
    {
     "name": "stderr",
     "output_type": "stream",
     "text": [
      "100%|██████████| 400/400 [00:40<00:00,  9.80it/s]\n"
     ]
    },
    {
     "name": "stdout",
     "output_type": "stream",
     "text": [
      "Epoch 18/50 Loss: 0.1963 Acc: 0.9186\n",
      "Validation Loss: 0.1188 Acc: 0.9520\n"
     ]
    },
    {
     "name": "stderr",
     "output_type": "stream",
     "text": [
      "100%|██████████| 400/400 [00:38<00:00, 10.26it/s]\n"
     ]
    },
    {
     "name": "stdout",
     "output_type": "stream",
     "text": [
      "Epoch 19/50 Loss: 0.1933 Acc: 0.9146\n",
      "Validation Loss: 0.1253 Acc: 0.9510\n"
     ]
    },
    {
     "name": "stderr",
     "output_type": "stream",
     "text": [
      "100%|██████████| 400/400 [00:41<00:00,  9.63it/s]\n"
     ]
    },
    {
     "name": "stdout",
     "output_type": "stream",
     "text": [
      "Epoch 20/50 Loss: 0.1904 Acc: 0.9184\n",
      "Validation Loss: 0.1206 Acc: 0.9530\n"
     ]
    },
    {
     "name": "stderr",
     "output_type": "stream",
     "text": [
      "100%|██████████| 400/400 [00:38<00:00, 10.46it/s]\n"
     ]
    },
    {
     "name": "stdout",
     "output_type": "stream",
     "text": [
      "Epoch 21/50 Loss: 0.1829 Acc: 0.9233\n",
      "Validation Loss: 0.1201 Acc: 0.9560\n"
     ]
    },
    {
     "name": "stderr",
     "output_type": "stream",
     "text": [
      "100%|██████████| 400/400 [00:42<00:00,  9.47it/s]\n"
     ]
    },
    {
     "name": "stdout",
     "output_type": "stream",
     "text": [
      "Epoch 22/50 Loss: 0.1772 Acc: 0.9253\n",
      "Validation Loss: 0.1211 Acc: 0.9540\n"
     ]
    },
    {
     "name": "stderr",
     "output_type": "stream",
     "text": [
      "100%|██████████| 400/400 [00:44<00:00,  8.99it/s]\n"
     ]
    },
    {
     "name": "stdout",
     "output_type": "stream",
     "text": [
      "Epoch 23/50 Loss: 0.1918 Acc: 0.9160\n",
      "Validation Loss: 0.1230 Acc: 0.9520\n"
     ]
    },
    {
     "name": "stderr",
     "output_type": "stream",
     "text": [
      "100%|██████████| 400/400 [00:42<00:00,  9.48it/s]\n"
     ]
    },
    {
     "name": "stdout",
     "output_type": "stream",
     "text": [
      "Epoch 24/50 Loss: 0.1900 Acc: 0.9196\n",
      "Validation Loss: 0.1217 Acc: 0.9480\n"
     ]
    },
    {
     "name": "stderr",
     "output_type": "stream",
     "text": [
      "100%|██████████| 400/400 [00:41<00:00,  9.71it/s]\n"
     ]
    },
    {
     "name": "stdout",
     "output_type": "stream",
     "text": [
      "Epoch 25/50 Loss: 0.1904 Acc: 0.9190\n",
      "Validation Loss: 0.1181 Acc: 0.9560\n"
     ]
    },
    {
     "name": "stderr",
     "output_type": "stream",
     "text": [
      "100%|██████████| 400/400 [00:38<00:00, 10.46it/s]\n"
     ]
    },
    {
     "name": "stdout",
     "output_type": "stream",
     "text": [
      "Epoch 26/50 Loss: 0.1941 Acc: 0.9208\n",
      "Validation Loss: 0.1182 Acc: 0.9510\n"
     ]
    },
    {
     "name": "stderr",
     "output_type": "stream",
     "text": [
      "100%|██████████| 400/400 [00:37<00:00, 10.58it/s]\n"
     ]
    },
    {
     "name": "stdout",
     "output_type": "stream",
     "text": [
      "Epoch 27/50 Loss: 0.1886 Acc: 0.9193\n",
      "Validation Loss: 0.1185 Acc: 0.9530\n"
     ]
    },
    {
     "name": "stderr",
     "output_type": "stream",
     "text": [
      "100%|██████████| 400/400 [00:37<00:00, 10.59it/s]\n"
     ]
    },
    {
     "name": "stdout",
     "output_type": "stream",
     "text": [
      "Epoch 28/50 Loss: 0.1813 Acc: 0.9225\n",
      "Validation Loss: 0.1138 Acc: 0.9550\n"
     ]
    },
    {
     "name": "stderr",
     "output_type": "stream",
     "text": [
      "100%|██████████| 400/400 [00:38<00:00, 10.34it/s]\n"
     ]
    },
    {
     "name": "stdout",
     "output_type": "stream",
     "text": [
      "Epoch 29/50 Loss: 0.1752 Acc: 0.9271\n",
      "Validation Loss: 0.1152 Acc: 0.9520\n"
     ]
    },
    {
     "name": "stderr",
     "output_type": "stream",
     "text": [
      "100%|██████████| 400/400 [00:37<00:00, 10.53it/s]\n"
     ]
    },
    {
     "name": "stdout",
     "output_type": "stream",
     "text": [
      "Epoch 30/50 Loss: 0.1888 Acc: 0.9208\n",
      "Validation Loss: 0.1153 Acc: 0.9540\n"
     ]
    },
    {
     "name": "stderr",
     "output_type": "stream",
     "text": [
      "100%|██████████| 400/400 [00:38<00:00, 10.42it/s]\n"
     ]
    },
    {
     "name": "stdout",
     "output_type": "stream",
     "text": [
      "Epoch 31/50 Loss: 0.1765 Acc: 0.9249\n",
      "Validation Loss: 0.1162 Acc: 0.9570\n"
     ]
    },
    {
     "name": "stderr",
     "output_type": "stream",
     "text": [
      "100%|██████████| 400/400 [00:38<00:00, 10.46it/s]\n"
     ]
    },
    {
     "name": "stdout",
     "output_type": "stream",
     "text": [
      "Epoch 32/50 Loss: 0.1799 Acc: 0.9224\n",
      "Validation Loss: 0.1130 Acc: 0.9550\n"
     ]
    },
    {
     "name": "stderr",
     "output_type": "stream",
     "text": [
      "100%|██████████| 400/400 [00:42<00:00,  9.41it/s]\n"
     ]
    },
    {
     "name": "stdout",
     "output_type": "stream",
     "text": [
      "Epoch 33/50 Loss: 0.1853 Acc: 0.9195\n",
      "Validation Loss: 0.1166 Acc: 0.9550\n"
     ]
    },
    {
     "name": "stderr",
     "output_type": "stream",
     "text": [
      "100%|██████████| 400/400 [00:46<00:00,  8.57it/s]\n"
     ]
    },
    {
     "name": "stdout",
     "output_type": "stream",
     "text": [
      "Epoch 34/50 Loss: 0.1784 Acc: 0.9254\n",
      "Validation Loss: 0.1182 Acc: 0.9530\n"
     ]
    },
    {
     "name": "stderr",
     "output_type": "stream",
     "text": [
      "100%|██████████| 400/400 [00:47<00:00,  8.49it/s]\n"
     ]
    },
    {
     "name": "stdout",
     "output_type": "stream",
     "text": [
      "Epoch 35/50 Loss: 0.1789 Acc: 0.9225\n",
      "Validation Loss: 0.1144 Acc: 0.9570\n"
     ]
    },
    {
     "name": "stderr",
     "output_type": "stream",
     "text": [
      "100%|██████████| 400/400 [00:48<00:00,  8.33it/s]\n"
     ]
    },
    {
     "name": "stdout",
     "output_type": "stream",
     "text": [
      "Epoch 36/50 Loss: 0.1804 Acc: 0.9268\n",
      "Validation Loss: 0.1172 Acc: 0.9540\n"
     ]
    },
    {
     "name": "stderr",
     "output_type": "stream",
     "text": [
      "100%|██████████| 400/400 [00:47<00:00,  8.49it/s]\n"
     ]
    },
    {
     "name": "stdout",
     "output_type": "stream",
     "text": [
      "Epoch 37/50 Loss: 0.1775 Acc: 0.9225\n",
      "Validation Loss: 0.1130 Acc: 0.9530\n"
     ]
    },
    {
     "name": "stderr",
     "output_type": "stream",
     "text": [
      "100%|██████████| 400/400 [00:46<00:00,  8.65it/s]\n"
     ]
    },
    {
     "name": "stdout",
     "output_type": "stream",
     "text": [
      "Epoch 38/50 Loss: 0.1801 Acc: 0.9225\n",
      "Validation Loss: 0.1142 Acc: 0.9580\n"
     ]
    },
    {
     "name": "stderr",
     "output_type": "stream",
     "text": [
      "100%|██████████| 400/400 [00:43<00:00,  9.11it/s]\n"
     ]
    },
    {
     "name": "stdout",
     "output_type": "stream",
     "text": [
      "Epoch 39/50 Loss: 0.1820 Acc: 0.9211\n",
      "Validation Loss: 0.1109 Acc: 0.9560\n"
     ]
    },
    {
     "name": "stderr",
     "output_type": "stream",
     "text": [
      "100%|██████████| 400/400 [00:38<00:00, 10.38it/s]\n"
     ]
    },
    {
     "name": "stdout",
     "output_type": "stream",
     "text": [
      "Epoch 40/50 Loss: 0.1778 Acc: 0.9248\n",
      "Validation Loss: 0.1143 Acc: 0.9530\n"
     ]
    },
    {
     "name": "stderr",
     "output_type": "stream",
     "text": [
      "100%|██████████| 400/400 [00:38<00:00, 10.34it/s]\n"
     ]
    },
    {
     "name": "stdout",
     "output_type": "stream",
     "text": [
      "Epoch 41/50 Loss: 0.1772 Acc: 0.9219\n",
      "Validation Loss: 0.1123 Acc: 0.9560\n"
     ]
    },
    {
     "name": "stderr",
     "output_type": "stream",
     "text": [
      "100%|██████████| 400/400 [00:38<00:00, 10.37it/s]\n"
     ]
    },
    {
     "name": "stdout",
     "output_type": "stream",
     "text": [
      "Epoch 42/50 Loss: 0.1746 Acc: 0.9256\n",
      "Validation Loss: 0.1105 Acc: 0.9570\n"
     ]
    },
    {
     "name": "stderr",
     "output_type": "stream",
     "text": [
      "100%|██████████| 400/400 [00:39<00:00, 10.14it/s]\n"
     ]
    },
    {
     "name": "stdout",
     "output_type": "stream",
     "text": [
      "Epoch 43/50 Loss: 0.1837 Acc: 0.9196\n",
      "Validation Loss: 0.1128 Acc: 0.9570\n"
     ]
    },
    {
     "name": "stderr",
     "output_type": "stream",
     "text": [
      "100%|██████████| 400/400 [00:38<00:00, 10.34it/s]\n"
     ]
    },
    {
     "name": "stdout",
     "output_type": "stream",
     "text": [
      "Epoch 44/50 Loss: 0.1764 Acc: 0.9270\n",
      "Validation Loss: 0.1120 Acc: 0.9570\n"
     ]
    },
    {
     "name": "stderr",
     "output_type": "stream",
     "text": [
      "100%|██████████| 400/400 [00:38<00:00, 10.32it/s]\n"
     ]
    },
    {
     "name": "stdout",
     "output_type": "stream",
     "text": [
      "Epoch 45/50 Loss: 0.1779 Acc: 0.9240\n",
      "Validation Loss: 0.1095 Acc: 0.9590\n"
     ]
    },
    {
     "name": "stderr",
     "output_type": "stream",
     "text": [
      "100%|██████████| 400/400 [00:43<00:00,  9.29it/s]\n"
     ]
    },
    {
     "name": "stdout",
     "output_type": "stream",
     "text": [
      "Epoch 46/50 Loss: 0.1750 Acc: 0.9266\n",
      "Validation Loss: 0.1110 Acc: 0.9590\n"
     ]
    },
    {
     "name": "stderr",
     "output_type": "stream",
     "text": [
      "100%|██████████| 400/400 [00:46<00:00,  8.56it/s]\n"
     ]
    },
    {
     "name": "stdout",
     "output_type": "stream",
     "text": [
      "Epoch 47/50 Loss: 0.1662 Acc: 0.9325\n",
      "Validation Loss: 0.1103 Acc: 0.9550\n"
     ]
    },
    {
     "name": "stderr",
     "output_type": "stream",
     "text": [
      "100%|██████████| 400/400 [00:47<00:00,  8.46it/s]\n"
     ]
    },
    {
     "name": "stdout",
     "output_type": "stream",
     "text": [
      "Epoch 48/50 Loss: 0.1720 Acc: 0.9311\n",
      "Validation Loss: 0.1121 Acc: 0.9560\n"
     ]
    },
    {
     "name": "stderr",
     "output_type": "stream",
     "text": [
      "100%|██████████| 400/400 [00:46<00:00,  8.66it/s]\n"
     ]
    },
    {
     "name": "stdout",
     "output_type": "stream",
     "text": [
      "Epoch 49/50 Loss: 0.1756 Acc: 0.9265\n",
      "Validation Loss: 0.1093 Acc: 0.9600\n"
     ]
    },
    {
     "name": "stderr",
     "output_type": "stream",
     "text": [
      "100%|██████████| 400/400 [00:47<00:00,  8.42it/s]\n"
     ]
    },
    {
     "name": "stdout",
     "output_type": "stream",
     "text": [
      "Epoch 50/50 Loss: 0.1726 Acc: 0.9288\n",
      "Validation Loss: 0.1124 Acc: 0.9550\n"
     ]
    }
   ],
   "source": [
    "# Training loop\n",
    "accuracy_history: list = []\n",
    "loss_history: list = []\n",
    "val_accuracy_history: list = []\n",
    "val_loss_history: list = []\n",
    "\n",
    "for epoch in range(EPOCHS):\n",
    "    \n",
    "    model2.train()\n",
    "    running_loss = 0.0\n",
    "    running_corrects = 0\n",
    "    for inputs, labels in tqdm(dataloaders['train']):\n",
    "        optimizer.zero_grad()\n",
    "        inputs = inputs.to(device)\n",
    "        labels = labels.to(device)\n",
    "        \n",
    "        outputs = model2(inputs)\n",
    "        loss = criterion(outputs, labels.float())\n",
    "        loss.backward()\n",
    "        optimizer.step()\n",
    "        running_loss += loss.cpu().item() * inputs.size(0)\n",
    "        running_corrects += torch.sum((outputs > 0.5) == labels.byte())\n",
    "    epoch_loss = running_loss / len(image_datasets['train'])\n",
    "    epoch_acc = running_corrects / len(image_datasets['train'])\n",
    "    accuracy_history.append(epoch_acc)\n",
    "    loss_history.append(epoch_loss)\n",
    "\n",
    "    # Validation loop\n",
    "    model2.eval()\n",
    "    val_running_loss = 0.0\n",
    "    val_running_corrects = 0\n",
    "    with torch.no_grad():\n",
    "        for inputs, labels in tqdm(dataloaders['validation'], disable=True):\n",
    "            inputs = inputs.to(device)\n",
    "            labels = labels.to(device)\n",
    "            \n",
    "            outputs = model2(inputs)\n",
    "            val_loss = criterion(outputs, labels.float())\n",
    "            val_running_loss += val_loss.cpu().item() * inputs.size(0)\n",
    "            val_running_corrects += torch.sum((outputs > 0.5) == labels.byte())\n",
    "    val_epoch_loss = val_running_loss / len(image_datasets['validation'])\n",
    "    val_epoch_acc = val_running_corrects / len(image_datasets['validation'])\n",
    "    val_accuracy_history.append(val_epoch_acc)\n",
    "    val_loss_history.append(val_epoch_loss)\n",
    "\n",
    "    print(f'Epoch {epoch+1}/{EPOCHS} Loss: {epoch_loss:.4f} Acc: {epoch_acc:.4f}')\n",
    "    print(f'Validation Loss: {val_epoch_loss:.4f} Acc: {val_epoch_acc:.4f}')\n",
    "    \n",
    "history2: dict = {\n",
    "        'accuracy': accuracy_history,\n",
    "        'loss': loss_history,\n",
    "        'val_accuracy': val_accuracy_history,\n",
    "        'val_loss': val_loss_history\n",
    "}\n",
    "    \n",
    "    "
   ]
  },
  {
   "cell_type": "code",
   "execution_count": 107,
   "metadata": {},
   "outputs": [
    {
     "data": {
      "image/png": "[encoded data removed]",
      "text/plain": [
       "<Figure size 2500x500 with 1 Axes>"
      ]
     },
     "metadata": {},
     "output_type": "display_data"
    }
   ],
   "source": [
    "history2 = {k: [v.cpu().numpy() if isinstance(v, torch.Tensor) else v for v in vs] for k, vs in history2.items()}\n",
    "plot_accuracy_from_history(history2)"
   ]
  },
  {
   "cell_type": "markdown",
   "metadata": {},
   "source": [
    "# <a id='toc3_'></a>[Tuning Method (unfreeze few layers from ResNet)](#toc0_)"
   ]
  },
  {
   "cell_type": "code",
   "execution_count": 108,
   "metadata": {},
   "outputs": [],
   "source": [
    "class ModelTuning(nn.Module):\n",
    "    def __init__(self):\n",
    "        super().__init__()\n",
    "        self.resnet = models.resnet18(pretrained=True)\n",
    "        for param in self.resnet.parameters(): # freeze the ResNet layers\n",
    "            param.requires_grad = False\n",
    "        for param in self.resnet.layer4.parameters(): # unfreeze the last layer\n",
    "            param.requires_grad = True\n",
    "        self.resnet.fc = nn.Identity()\n",
    "        self.model = nn.Sequential(\n",
    "            nn.Linear(512, 256),\n",
    "            nn.ReLU(),\n",
    "            nn.Dropout(0.5),\n",
    "            nn.Linear(256, 1),\n",
    "            nn.Sigmoid(),\n",
    "            nn.Flatten(0, 1)\n",
    "        )\n",
    "\n",
    "    def forward(self, x):\n",
    "        x = self.resnet(x)\n",
    "        x = self.model(x)\n",
    "        return x\n",
    "    \n",
    "    \n",
    "model3 = ModelTuning().to(device)\n",
    "# Define loss function and optimizer\n",
    "criterion = nn.BCELoss()\n",
    "optimizer = optim.RMSprop(model3.parameters(), lr=2e-5)"
   ]
  },
  {
   "cell_type": "code",
   "execution_count": 109,
   "metadata": {},
   "outputs": [
    {
     "name": "stdout",
     "output_type": "stream",
     "text": [
      "Epoch 1/50 Loss: 0.2119 Acc: 0.9234\n",
      "Validation Loss: 0.1112 Acc: 0.9570\n",
      "Epoch 2/50 Loss: 0.1369 Acc: 0.9453\n",
      "Validation Loss: 0.1056 Acc: 0.9570\n",
      "Epoch 3/50 Loss: 0.1207 Acc: 0.9541\n",
      "Validation Loss: 0.0902 Acc: 0.9620\n",
      "Epoch 4/50 Loss: 0.1043 Acc: 0.9566\n",
      "Validation Loss: 0.0811 Acc: 0.9630\n",
      "Epoch 5/50 Loss: 0.0940 Acc: 0.9616\n",
      "Validation Loss: 0.0895 Acc: 0.9610\n",
      "Epoch 6/50 Loss: 0.0919 Acc: 0.9661\n",
      "Validation Loss: 0.0808 Acc: 0.9650\n",
      "Epoch 7/50 Loss: 0.0778 Acc: 0.9695\n",
      "Validation Loss: 0.0758 Acc: 0.9660\n",
      "Epoch 8/50 Loss: 0.0763 Acc: 0.9729\n",
      "Validation Loss: 0.0816 Acc: 0.9630\n",
      "Epoch 9/50 Loss: 0.0719 Acc: 0.9744\n",
      "Validation Loss: 0.0756 Acc: 0.9670\n",
      "Epoch 10/50 Loss: 0.0585 Acc: 0.9790\n",
      "Validation Loss: 0.0830 Acc: 0.9640\n",
      "Epoch 11/50 Loss: 0.0621 Acc: 0.9766\n",
      "Validation Loss: 0.0775 Acc: 0.9650\n",
      "Epoch 12/50 Loss: 0.0608 Acc: 0.9778\n",
      "Validation Loss: 0.0812 Acc: 0.9650\n",
      "Epoch 13/50 Loss: 0.0489 Acc: 0.9833\n",
      "Validation Loss: 0.1044 Acc: 0.9570\n",
      "Epoch 14/50 Loss: 0.0472 Acc: 0.9823\n",
      "Validation Loss: 0.0897 Acc: 0.9640\n",
      "Epoch 15/50 Loss: 0.0445 Acc: 0.9836\n",
      "Validation Loss: 0.1036 Acc: 0.9580\n",
      "Epoch 16/50 Loss: 0.0388 Acc: 0.9856\n",
      "Validation Loss: 0.1049 Acc: 0.9640\n",
      "Epoch 17/50 Loss: 0.0346 Acc: 0.9885\n",
      "Validation Loss: 0.0979 Acc: 0.9650\n",
      "Epoch 18/50 Loss: 0.0322 Acc: 0.9886\n",
      "Validation Loss: 0.0952 Acc: 0.9600\n",
      "Epoch 19/50 Loss: 0.0314 Acc: 0.9894\n",
      "Validation Loss: 0.0995 Acc: 0.9660\n",
      "Epoch 20/50 Loss: 0.0272 Acc: 0.9899\n",
      "Validation Loss: 0.1084 Acc: 0.9680\n",
      "Epoch 21/50 Loss: 0.0243 Acc: 0.9920\n",
      "Validation Loss: 0.1094 Acc: 0.9650\n",
      "Epoch 22/50 Loss: 0.0245 Acc: 0.9909\n",
      "Validation Loss: 0.0898 Acc: 0.9690\n",
      "Epoch 23/50 Loss: 0.0257 Acc: 0.9899\n",
      "Validation Loss: 0.0973 Acc: 0.9690\n",
      "Epoch 24/50 Loss: 0.0249 Acc: 0.9908\n",
      "Validation Loss: 0.0933 Acc: 0.9680\n",
      "Epoch 25/50 Loss: 0.0267 Acc: 0.9900\n",
      "Validation Loss: 0.1029 Acc: 0.9670\n",
      "Epoch 26/50 Loss: 0.0191 Acc: 0.9936\n",
      "Validation Loss: 0.1102 Acc: 0.9670\n",
      "Epoch 27/50 Loss: 0.0236 Acc: 0.9911\n",
      "Validation Loss: 0.1223 Acc: 0.9650\n",
      "Epoch 28/50 Loss: 0.0187 Acc: 0.9929\n",
      "Validation Loss: 0.1070 Acc: 0.9710\n",
      "Epoch 29/50 Loss: 0.0256 Acc: 0.9915\n",
      "Validation Loss: 0.1074 Acc: 0.9670\n",
      "Epoch 30/50 Loss: 0.0179 Acc: 0.9946\n",
      "Validation Loss: 0.1172 Acc: 0.9720\n",
      "Epoch 31/50 Loss: 0.0123 Acc: 0.9961\n",
      "Validation Loss: 0.1363 Acc: 0.9640\n",
      "Epoch 32/50 Loss: 0.0194 Acc: 0.9935\n",
      "Validation Loss: 0.1268 Acc: 0.9650\n",
      "Epoch 33/50 Loss: 0.0173 Acc: 0.9940\n",
      "Validation Loss: 0.1039 Acc: 0.9700\n",
      "Epoch 34/50 Loss: 0.0189 Acc: 0.9948\n",
      "Validation Loss: 0.1217 Acc: 0.9630\n",
      "Epoch 35/50 Loss: 0.0153 Acc: 0.9955\n",
      "Validation Loss: 0.1280 Acc: 0.9620\n",
      "Epoch 36/50 Loss: 0.0156 Acc: 0.9953\n",
      "Validation Loss: 0.1451 Acc: 0.9610\n",
      "Epoch 37/50 Loss: 0.0151 Acc: 0.9954\n",
      "Validation Loss: 0.1108 Acc: 0.9660\n",
      "Epoch 38/50 Loss: 0.0125 Acc: 0.9958\n",
      "Validation Loss: 0.1186 Acc: 0.9640\n",
      "Epoch 39/50 Loss: 0.0139 Acc: 0.9946\n",
      "Validation Loss: 0.1263 Acc: 0.9650\n",
      "Epoch 40/50 Loss: 0.0178 Acc: 0.9939\n",
      "Validation Loss: 0.1088 Acc: 0.9720\n",
      "Epoch 41/50 Loss: 0.0169 Acc: 0.9946\n",
      "Validation Loss: 0.1014 Acc: 0.9730\n",
      "Epoch 42/50 Loss: 0.0128 Acc: 0.9963\n",
      "Validation Loss: 0.1204 Acc: 0.9630\n",
      "Epoch 43/50 Loss: 0.0134 Acc: 0.9955\n",
      "Validation Loss: 0.1981 Acc: 0.9590\n",
      "Epoch 44/50 Loss: 0.0115 Acc: 0.9961\n",
      "Validation Loss: 0.1135 Acc: 0.9680\n",
      "Epoch 45/50 Loss: 0.0084 Acc: 0.9974\n",
      "Validation Loss: 0.1201 Acc: 0.9690\n",
      "Epoch 46/50 Loss: 0.0119 Acc: 0.9955\n",
      "Validation Loss: 0.1387 Acc: 0.9670\n",
      "Epoch 47/50 Loss: 0.0110 Acc: 0.9964\n",
      "Validation Loss: 0.2052 Acc: 0.9580\n",
      "Epoch 48/50 Loss: 0.0133 Acc: 0.9963\n",
      "Validation Loss: 0.1403 Acc: 0.9670\n",
      "Epoch 49/50 Loss: 0.0109 Acc: 0.9965\n",
      "Validation Loss: 0.1308 Acc: 0.9710\n",
      "Epoch 50/50 Loss: 0.0109 Acc: 0.9959\n",
      "Validation Loss: 0.1237 Acc: 0.9710\n"
     ]
    }
   ],
   "source": [
    "accuracy_history: list = []\n",
    "loss_history: list = []\n",
    "val_accuracy_history: list = []\n",
    "val_loss_history: list = []\n",
    "\n",
    "for epoch in range(EPOCHS):\n",
    "    model3.train()\n",
    "    \n",
    "    running_loss = 0.0\n",
    "    running_corrects = 0\n",
    "    for inputs, labels in tqdm(dataloaders['train'], disable=True):\n",
    "        optimizer.zero_grad()\n",
    "        inputs = inputs.to(device)\n",
    "        labels = labels.to(device)\n",
    "        \n",
    "        outputs = model3(inputs)\n",
    "        loss = criterion(outputs, labels.float())\n",
    "        loss.backward()\n",
    "        optimizer.step()\n",
    "        running_loss += loss.cpu().item() * inputs.size(0)\n",
    "        running_corrects += torch.sum((outputs > 0.5) == labels.byte())\n",
    "    epoch_loss = running_loss / len(image_datasets['train'])\n",
    "    epoch_acc = running_corrects / len(image_datasets['train'])\n",
    "    accuracy_history.append(epoch_acc)\n",
    "    loss_history.append(epoch_loss)\n",
    "\n",
    "    # Validation loop\n",
    "    model3.eval()\n",
    "    val_running_loss = 0.0\n",
    "    val_running_corrects = 0\n",
    "    with torch.no_grad():\n",
    "        for inputs, labels in tqdm(dataloaders['validation'], disable=True):\n",
    "            inputs = inputs.to(device)\n",
    "            labels = labels.to(device)\n",
    "            \n",
    "            outputs = model3(inputs)\n",
    "            val_loss = criterion(outputs, labels.float())\n",
    "            val_running_loss += val_loss.cpu().item() * inputs.size(0)\n",
    "            val_running_corrects += torch.sum((outputs > 0.5) == labels.byte())\n",
    "    val_epoch_loss = val_running_loss / len(image_datasets['validation'])\n",
    "    val_epoch_acc = val_running_corrects / len(image_datasets['validation'])\n",
    "    val_accuracy_history.append(val_epoch_acc)\n",
    "    val_loss_history.append(val_epoch_loss)\n",
    "\n",
    "    print(f'Epoch {epoch+1}/{EPOCHS} Loss: {epoch_loss:.4f} Acc: {epoch_acc:.4f}')\n",
    "    print(f'Validation Loss: {val_epoch_loss:.4f} Acc: {val_epoch_acc:.4f}')\n",
    "    \n",
    "history3: dict = {\n",
    "        'accuracy': accuracy_history,\n",
    "        'loss': loss_history,\n",
    "        'val_accuracy': val_accuracy_history,\n",
    "        'val_loss': val_loss_history\n",
    "    }"
   ]
  },
  {
   "cell_type": "code",
   "execution_count": 110,
   "metadata": {},
   "outputs": [
    {
     "name": "stdout",
     "output_type": "stream",
     "text": [
      "[array(0.92337507, dtype=float32), array(0.94525003, dtype=float32), array(0.95412505, dtype=float32), array(0.95662504, dtype=float32), array(0.96162504, dtype=float32), array(0.9661251, dtype=float32), array(0.96950006, dtype=float32), array(0.97287506, dtype=float32), array(0.97437507, dtype=float32), array(0.97900003, dtype=float32), array(0.976625, dtype=float32), array(0.97775006, dtype=float32), array(0.98325, dtype=float32), array(0.98225003, dtype=float32), array(0.98362505, dtype=float32), array(0.985625, dtype=float32), array(0.98850006, dtype=float32), array(0.98862505, dtype=float32), array(0.98937505, dtype=float32), array(0.989875, dtype=float32), array(0.99200004, dtype=float32), array(0.99087507, dtype=float32), array(0.989875, dtype=float32), array(0.9907501, dtype=float32), array(0.99000007, dtype=float32), array(0.99362504, dtype=float32), array(0.99112505, dtype=float32), array(0.99287504, dtype=float32), array(0.9915, dtype=float32), array(0.99462503, dtype=float32), array(0.99612504, dtype=float32), array(0.99350005, dtype=float32), array(0.994, dtype=float32), array(0.99475, dtype=float32), array(0.9955, dtype=float32), array(0.99525005, dtype=float32), array(0.99537504, dtype=float32), array(0.99575007, dtype=float32), array(0.99462503, dtype=float32), array(0.993875, dtype=float32), array(0.99462503, dtype=float32), array(0.99625003, dtype=float32), array(0.9955, dtype=float32), array(0.99612504, dtype=float32), array(0.9973751, dtype=float32), array(0.9955, dtype=float32), array(0.996375, dtype=float32), array(0.99625003, dtype=float32), array(0.9965001, dtype=float32), array(0.99587506, dtype=float32)]\n"
     ]
    },
    {
     "data": {
      "image/png": "[encoded data removed]",
      "text/plain": [
       "<Figure size 2500x500 with 1 Axes>"
      ]
     },
     "metadata": {},
     "output_type": "display_data"
    }
   ],
   "source": [
    "history3 = {k: [v.cpu().numpy() if isinstance(v, torch.Tensor) else v for v in vs] for k, vs in history3.items()}\n",
    "plot_accuracy_from_history(history3)\n",
    "print(history3['accuracy'])"
   ]
  },
  {
   "cell_type": "markdown",
   "metadata": {},
   "source": [
    "# <a id='toc4_'></a>[Conclusion](#toc0_)"
   ]
  },
  {
   "cell_type": "markdown",
   "metadata": {},
   "source": [
    "In this notebook, I decided in favour of reimplementing the entire thing in PyTorch for training purposes. Also, I quickly realised how advantageous the ResNet model is, so I decided to use it for feature extraction and fine-tuning. This obviously forced changes in all parameters, but the final result was worth it. I must say that an accuracy of 0.92 in the first epoch is a sight to behold.\n",
    "\n",
    "Stuff I've learned:\n",
    "- PyTorch practice\n",
    "- ResNet (how it works, how to use it and it's advantages)\n",
    "- Transfer Learning methods and their differences\n",
    "- Data Augumentation in PyTorch"
   ]
  }
 ],
 "metadata": {
  "kernelspec": {
   "display_name": ".venv",
   "language": "python",
   "name": "python3"
  },
  "language_info": {
   "codemirror_mode": {
    "name": "ipython",
    "version": 3
   },
   "file_extension": ".py",
   "mimetype": "text/x-python",
   "name": "python",
   "nbconvert_exporter": "python",
   "pygments_lexer": "ipython3",
   "version": "3.12.2"
  }
 },
 "nbformat": 4,
 "nbformat_minor": 2
}
