{
 "cells": [
  {
   "cell_type": "markdown",
   "metadata": {},
   "source": [
    "## Imports"
   ]
  },
  {
   "cell_type": "code",
   "execution_count": 110,
   "metadata": {},
   "outputs": [
    {
     "data": {
      "text/plain": [
       "True"
      ]
     },
     "execution_count": 110,
     "metadata": {},
     "output_type": "execute_result"
    }
   ],
   "source": [
    "import torch\n",
    "from torch import nn\n",
    "from torch import Tensor\n",
    "import torch.optim as optim\n",
    "from torchvision import models, transforms, datasets\n",
    "from tqdm import tqdm\n",
    "\n",
    "torch.cuda.is_available()"
   ]
  },
  {
   "cell_type": "code",
   "execution_count": 111,
   "metadata": {},
   "outputs": [],
   "source": [
    "import matplotlib.pyplot as plt\n",
    "import numpy as np\n",
    "import glob\n",
    "import os\n",
    "import pandas as pd\n",
    "from torch.utils.data import Dataset, DataLoader\n",
    "import cv2\n",
    "import shutil"
   ]
  },
  {
   "cell_type": "code",
   "execution_count": 112,
   "metadata": {},
   "outputs": [
    {
     "name": "stdout",
     "output_type": "stream",
     "text": [
      "Using device: cuda\n"
     ]
    }
   ],
   "source": [
    "device = torch.device(\"cuda\" if torch.cuda.is_available() else \"cpu\")\n",
    "print(f\"Using device: {device}\")"
   ]
  },
  {
   "cell_type": "markdown",
   "metadata": {},
   "source": [
    "## Visualize the data"
   ]
  },
  {
   "cell_type": "code",
   "execution_count": 113,
   "metadata": {},
   "outputs": [],
   "source": [
    "def plot_accuracy_from_history(*histories, labels=None) -> None:\n",
    "    plt.rcParams['figure.figsize'] = (25.0, 5.0)  # set default size of plots\n",
    "\n",
    "    for i, history in enumerate(histories):\n",
    "        epochs = np.arange(1, len(history['accuracy']) + 1)\n",
    "        \n",
    "        color = ['b', 'r', 'g', 'c', 'm', 'y'][i % 6]  # Choose color cyclically\n",
    "        label = labels[i] if labels else f'Model {i+1}'\n",
    "        acc = history['accuracy']\n",
    "        val_acc = history['val_accuracy']\n",
    "        \n",
    "        plt.plot(epochs, acc, color + 'o', label=f'Training accuracy for {label}')\n",
    "        plt.plot(epochs, val_acc, color, label=f'Validation accuracy for {label}')"
   ]
  },
  {
   "cell_type": "markdown",
   "metadata": {},
   "source": [
    "# Transfer Learning"
   ]
  },
  {
   "cell_type": "markdown",
   "metadata": {},
   "source": [
    "## Prepare Data"
   ]
  },
  {
   "cell_type": "code",
   "execution_count": 114,
   "metadata": {},
   "outputs": [],
   "source": [
    "EPOCHS: int = 5"
   ]
  },
  {
   "cell_type": "code",
   "execution_count": 115,
   "metadata": {},
   "outputs": [],
   "source": [
    "\n",
    "kaggle_dir = \"flowers\"\n",
    "    \n",
    "processed_dir = kaggle_dir + \"/processed\"\n",
    "flowers_dir = processed_dir + \"\"\n",
    "base_dir = flowers_dir + \"/\"\n",
    "\n",
    "train_dir: str = base_dir + \"train/\"\n",
    "train_daisy_dir: str = train_dir + \"daisy/\"\n",
    "train_dandelion_dir: str = train_dir + \"dandelion/\"\n",
    "train_rose_dir: str = train_dir + \"rose/\"\n",
    "train_sunflower_dir: str = train_dir + \"sunflower/\"\n",
    "train_tulip_dir: str = train_dir + \"tulip/\"\n",
    "\n",
    "validation_dir: str = base_dir + \"validation/\"\n",
    "validation_daisy_dir: str = validation_dir + \"daisy/\"\n",
    "validation_dandelion_dir: str = validation_dir + \"dandelion/\"\n",
    "validation_rose_dir: str = validation_dir + \"rose/\"\n",
    "validation_sunflower_dir: str = validation_dir + \"sunflower/\"\n",
    "validation_tulip_dir: str = validation_dir + \"tulip/\"\n",
    "\n",
    "test_dir: str = base_dir + \"test/\"\n",
    "test_daisy_dir: str = test_dir + \"daisy/\"\n",
    "test_dandelion_dir: str = test_dir + \"dandelion/\"\n",
    "test_rose_dir: str = test_dir + \"rose/\"\n",
    "test_sunflower_dir: str = test_dir + \"sunflower/\"\n",
    "test_tulip_dir: str = test_dir + \"tulip/\"\n",
    "\n",
    "models_dir: str = \"models/\"\n",
    "\n",
    "def create_dirs() -> None:\n",
    "    all_paths: list[str] = [kaggle_dir, processed_dir, flowers_dir,\n",
    "                            base_dir, train_dir, train_daisy_dir, train_dandelion_dir, train_rose_dir, train_sunflower_dir, train_tulip_dir, validation_dir, validation_daisy_dir, validation_dandelion_dir, validation_rose_dir, validation_sunflower_dir, validation_tulip_dir, test_dir, test_daisy_dir, test_dandelion_dir, test_rose_dir, test_sunflower_dir, test_tulip_dir, models_dir]\n",
    "    # create dirs if not exist\n",
    "    for path in all_paths:\n",
    "        if not os.path.exists(path):\n",
    "            os.makedirs(path)\n",
    "\n",
    "def copy_train_images(indices: np.ndarray, animal: str ='cat', dir_type: str ='train') -> None:\n",
    "    for index in indices:\n",
    "        src: str = f\"{kaggle_dir}/original/train/{animal}.{index}.jpg\"\n",
    "        dst: str = f\"{kaggle_dir}/processed/flowers/{dir_type}/{animal}s/{animal}.{index}.jpg\"\n",
    "        shutil.copyfile(src, dst)\n",
    "\n",
    "def remove_images():\n",
    "    if os.path.exists(base_dir):\n",
    "        shutil.rmtree(base_dir, ignore_errors=True)\n",
    "\n",
    "def copy_all_images(validation_size_ratio = 0.1, test_size_ratio = 0.1) -> None:\n",
    "    remove_images()\n",
    "\n",
    "    create_dirs()\n",
    "    print(\"Dirs created\")\n",
    "    \n",
    "    directories: list[str] = os.listdir(\"kaggle/flowers/original/train\")\n",
    "    \n",
    "    print(\"Dirs listed\")\n",
    "\n",
    "    for directory in directories:\n",
    "        if not os.path.exists(f\"{base_dir}train/{directory}\"):\n",
    "            os.makedirs(f\"{base_dir}train/{directory}\")\n",
    "        if not os.path.exists(f\"{base_dir}validation/{directory}\"):\n",
    "            os.makedirs(f\"{base_dir}validation/{directory}\")\n",
    "        if not os.path.exists(f\"{base_dir}test/{directory}\"):\n",
    "            os.makedirs(f\"{base_dir}test/{directory}\")\n",
    "            \n",
    "    print(\"Dirs created\")\n",
    "            \n",
    "    for directory in directories:\n",
    "        files = glob.glob(f\"kaggle/flowers/original/train/{directory}/*.jpg\")\n",
    "        \n",
    "        total_size = len(files)\n",
    "        \n",
    "        validation_size = int(total_size * validation_size_ratio)\n",
    "        test_size = int(total_size * test_size_ratio)\n",
    "        train_size = total_size - validation_size - test_size\n",
    "        \n",
    "        np.random.shuffle(files)\n",
    "        \n",
    "        train_files = files[:train_size]\n",
    "        validation_files = files[train_size:train_size + validation_size]\n",
    "        test_files = files[train_size + validation_size:]\n",
    "        \n",
    "        for file in train_files:\n",
    "            shutil.copy(file, f\"{base_dir}train/{directory}/\")\n",
    "        for file in validation_files:\n",
    "            shutil.copy(file, f\"{base_dir}validation/{directory}/\")\n",
    "        for file in test_files:\n",
    "            shutil.copy(file, f\"{base_dir}test/{directory}/\")\n",
    "    \n",
    "    print(\"Images copied\")"
   ]
  },
  {
   "cell_type": "code",
   "execution_count": 116,
   "metadata": {},
   "outputs": [
    {
     "name": "stdout",
     "output_type": "stream",
     "text": [
      "Dirs created\n",
      "Dirs listed\n",
      "Dirs created\n",
      "Images copied\n"
     ]
    }
   ],
   "source": [
    "copy_all_images()"
   ]
  },
  {
   "cell_type": "code",
   "execution_count": 117,
   "metadata": {},
   "outputs": [],
   "source": [
    "data_transforms = {\n",
    "    'train': transforms.Compose([\n",
    "        transforms.Resize(150),\n",
    "        transforms.CenterCrop(150),\n",
    "        transforms.ToTensor(),\n",
    "        transforms.Normalize(mean=[0.485, 0.456, 0.406], std=[0.229, 0.224, 0.225])\n",
    "    ]),\n",
    "    'validation': transforms.Compose([\n",
    "        transforms.Resize(150),\n",
    "        transforms.CenterCrop(150),\n",
    "        transforms.ToTensor(),\n",
    "        transforms.Normalize(mean=[0.485, 0.456, 0.406], std=[0.229, 0.224, 0.225])\n",
    "    ]),\n",
    "    'test': transforms.Compose([\n",
    "        transforms.Resize(150),\n",
    "        transforms.CenterCrop(150),\n",
    "        transforms.ToTensor(),\n",
    "        transforms.Normalize(mean=[0.485, 0.456, 0.406], std=[0.229, 0.224, 0.225])\n",
    "    ])\n",
    "}\n",
    "\n",
    "# Define data directories\n",
    "data_dir: str = 'flowers/processed/'\n",
    "image_datasets = {x: datasets.ImageFolder(root=data_dir+x, transform=data_transforms[x]) for x in ['train', 'validation', 'test']}\n",
    "dataloaders = {x: DataLoader(image_datasets[x], batch_size=20, shuffle=False) for x in ['train', 'validation', 'test']}\n"
   ]
  },
  {
   "cell_type": "code",
   "execution_count": 118,
   "metadata": {},
   "outputs": [
    {
     "name": "stdout",
     "output_type": "stream",
     "text": [
      "5\n"
     ]
    }
   ],
   "source": [
    "COUNT_OF_CLASSES = len(image_datasets['train'].classes)\n",
    "print(COUNT_OF_CLASSES)"
   ]
  },
  {
   "cell_type": "markdown",
   "metadata": {},
   "source": [
    "## Features Extraction Method (caching ResNet so faster but no augmentation)"
   ]
  },
  {
   "cell_type": "markdown",
   "metadata": {},
   "source": [
    "### Define ResNet Model"
   ]
  },
  {
   "cell_type": "code",
   "execution_count": 119,
   "metadata": {},
   "outputs": [],
   "source": [
    "class ResNetModel(nn.Module):\n",
    "    def __init__(self):\n",
    "        super(ResNetModel, self).__init__()\n",
    "        self.resnet = models.resnet18(pretrained=True)\n",
    "        self.resnet.fc = nn.Identity()  # Remove the final fully connected layer\n",
    "\n",
    "    def forward(self, x):\n",
    "        x = self.resnet(x)\n",
    "        return x"
   ]
  },
  {
   "cell_type": "markdown",
   "metadata": {},
   "source": [
    "### Extract features from ResNet"
   ]
  },
  {
   "cell_type": "code",
   "execution_count": 120,
   "metadata": {},
   "outputs": [],
   "source": [
    "def extract_features(model, dataloader, dataset_size) -> tuple[torch.Tensor, torch.Tensor]:\n",
    "    model.eval()\n",
    "    features = torch.zeros(dataset_size, 512, 4, 4, device=device)\n",
    "    labels = torch.zeros(dataset_size, device=device)\n",
    "    with torch.no_grad():\n",
    "        for i, (inputs, labels_batch) in enumerate(dataloader):\n",
    "            inputs = inputs.to(device)  # Move inputs to the same device as the model\n",
    "            outputs = model(inputs)\n",
    "            # Reshape or unsqueeze outputs to match the shape of features\n",
    "            outputs = torch.unsqueeze(torch.unsqueeze(outputs, -1), -1)\n",
    "            features[i * dataloader.batch_size : (i + 1) * dataloader.batch_size] = outputs\n",
    "            labels[i * dataloader.batch_size : (i + 1) * dataloader.batch_size] = labels_batch\n",
    "    return features, labels"
   ]
  },
  {
   "cell_type": "code",
   "execution_count": 121,
   "metadata": {},
   "outputs": [
    {
     "name": "stderr",
     "output_type": "stream",
     "text": [
      "/home/lenovo/Proj/DeepNeuralNetworks/.venv/lib/python3.12/site-packages/torchvision/models/_utils.py:208: UserWarning: The parameter 'pretrained' is deprecated since 0.13 and may be removed in the future, please use 'weights' instead.\n",
      "  warnings.warn(\n",
      "/home/lenovo/Proj/DeepNeuralNetworks/.venv/lib/python3.12/site-packages/torchvision/models/_utils.py:223: UserWarning: Arguments other than a weight enum or `None` for 'weights' are deprecated since 0.13 and may be removed in the future. The current behavior is equivalent to passing `weights=ResNet18_Weights.IMAGENET1K_V1`. You can also use `weights=ResNet18_Weights.DEFAULT` to get the most up-to-date weights.\n",
      "  warnings.warn(msg)\n"
     ]
    },
    {
     "name": "stdout",
     "output_type": "stream",
     "text": [
      "torch.Size([1831, 8192])\n",
      "torch.Size([226, 8192])\n",
      "torch.Size([226, 8192])\n"
     ]
    }
   ],
   "source": [
    "resnet_model = ResNetModel().to(device)\n",
    "\n",
    "train_features, train_labels = extract_features(resnet_model, dataloaders['train'], len(image_datasets['train']))\n",
    "validation_features, validation_labels = extract_features(resnet_model, dataloaders['validation'], len(image_datasets['validation']))\n",
    "test_features, test_labels = extract_features(resnet_model, dataloaders['test'], len(image_datasets['test']))\n",
    "\n",
    "# Reshape\n",
    "train_features = train_features.view(len(image_datasets['train']), -1)\n",
    "validation_features = validation_features.view(len(image_datasets['validation']), -1)\n",
    "test_features = test_features.view(len(image_datasets['test']), -1)\n",
    "\n",
    "print(train_features.shape)\n",
    "print(validation_features.shape)\n",
    "print(test_features.shape)"
   ]
  },
  {
   "cell_type": "code",
   "execution_count": 122,
   "metadata": {},
   "outputs": [],
   "source": [
    "train_dataset = torch.utils.data.TensorDataset(train_features, train_labels)\n",
    "validation_dataset = torch.utils.data.TensorDataset(validation_features, validation_labels)\n",
    "test_dataset = torch.utils.data.TensorDataset(test_features, test_labels)\n",
    "\n",
    "train_loader = torch.utils.data.DataLoader(train_dataset, batch_size=20, shuffle=True)\n",
    "validation_loader = torch.utils.data.DataLoader(validation_dataset, batch_size=20, shuffle=True)\n",
    "test_loader = torch.utils.data.DataLoader(test_dataset, batch_size=20, shuffle=True)"
   ]
  },
  {
   "cell_type": "markdown",
   "metadata": {},
   "source": [
    "### New model"
   ]
  },
  {
   "cell_type": "code",
   "execution_count": 135,
   "metadata": {},
   "outputs": [],
   "source": [
    "class ModelWithExtracted(nn.Module):\n",
    "    def __init__(self):\n",
    "        super().__init__()\n",
    "        self.model = nn.Sequential(\n",
    "            nn.Linear(train_features.shape[1], 256),\n",
    "            nn.ReLU(),\n",
    "            nn.Linear(256, 256),\n",
    "            nn.ReLU(),\n",
    "            nn.Dropout(0.5),\n",
    "            nn.Linear(256, COUNT_OF_CLASSES)\n",
    "        )\n",
    "\n",
    "    def forward(self, x):\n",
    "        x = self.model(x)\n",
    "        return x"
   ]
  },
  {
   "cell_type": "markdown",
   "metadata": {},
   "source": [
    "### Train"
   ]
  },
  {
   "cell_type": "code",
   "execution_count": 148,
   "metadata": {},
   "outputs": [
    {
     "name": "stderr",
     "output_type": "stream",
     "text": [
      "  0%|          | 0/92 [00:00<?, ?it/s]"
     ]
    },
    {
     "name": "stderr",
     "output_type": "stream",
     "text": [
      "100%|██████████| 92/92 [00:01<00:00, 52.80it/s]\n"
     ]
    },
    {
     "name": "stdout",
     "output_type": "stream",
     "text": [
      "Epoch 1/5 Loss: 0.7850 Acc: 0.7313\n",
      "Validation Loss: 0.9704 Acc: 0.8000\n"
     ]
    },
    {
     "name": "stderr",
     "output_type": "stream",
     "text": [
      "100%|██████████| 92/92 [00:20<00:00,  4.46it/s]\n"
     ]
    },
    {
     "name": "stdout",
     "output_type": "stream",
     "text": [
      "Epoch 2/5 Loss: 0.3762 Acc: 0.8695\n",
      "Validation Loss: 0.1665 Acc: 0.9500\n"
     ]
    },
    {
     "name": "stderr",
     "output_type": "stream",
     "text": [
      "100%|██████████| 92/92 [00:22<00:00,  4.03it/s]\n"
     ]
    },
    {
     "name": "stdout",
     "output_type": "stream",
     "text": [
      "Epoch 3/5 Loss: 0.2896 Acc: 0.8919\n",
      "Validation Loss: 0.5734 Acc: 0.8500\n"
     ]
    },
    {
     "name": "stderr",
     "output_type": "stream",
     "text": [
      "100%|██████████| 92/92 [00:12<00:00,  7.13it/s]\n"
     ]
    },
    {
     "name": "stdout",
     "output_type": "stream",
     "text": [
      "Epoch 4/5 Loss: 0.2340 Acc: 0.9197\n",
      "Validation Loss: 0.6688 Acc: 0.8000\n"
     ]
    },
    {
     "name": "stderr",
     "output_type": "stream",
     "text": [
      "100%|██████████| 92/92 [00:13<00:00,  6.68it/s]"
     ]
    },
    {
     "name": "stdout",
     "output_type": "stream",
     "text": [
      "Epoch 5/5 Loss: 0.2166 Acc: 0.9219\n",
      "Validation Loss: 0.0505 Acc: 1.0000\n"
     ]
    },
    {
     "name": "stderr",
     "output_type": "stream",
     "text": [
      "\n"
     ]
    }
   ],
   "source": [
    "model1 = ModelWithExtracted().to(device)\n",
    "criterion = nn.CrossEntropyLoss()\n",
    "optimizer = optim.Adam(model1.parameters(), lr=0.001)\n",
    "\n",
    "def train_model(model, criterion, optimizer) -> None:\n",
    "    accuracy_history: list = []\n",
    "    loss_history: list = []\n",
    "    val_accuracy_history: list = []\n",
    "    val_loss_history: list = []\n",
    "    \n",
    "    for epoch in range(EPOCHS):\n",
    "        model.train()\n",
    "        running_loss = 0.0\n",
    "        running_corrects = 0\n",
    "        for inputs, labels in tqdm(train_loader):\n",
    "            inputs = inputs.to(device)\n",
    "            labels = labels.long().to(device)\n",
    "            optimizer.zero_grad()\n",
    "            outputs = model(inputs)\n",
    "            \n",
    "            loss = criterion(outputs, labels)\n",
    "            loss.backward()\n",
    "            optimizer.step()\n",
    "            running_loss += loss.item() * inputs.size(0)\n",
    "            running_corrects += torch.sum(torch.argmax(outputs, 1) == labels)\n",
    "        epoch_loss = running_loss / len(image_datasets['train'])\n",
    "        epoch_acc = running_corrects / len(image_datasets['train'])\n",
    "        accuracy_history.append(epoch_acc)\n",
    "        loss_history.append(epoch_loss)\n",
    "        \n",
    "        inputs_val, labels_val = next(iter(validation_loader))\n",
    "        with torch.no_grad():\n",
    "            model.eval()\n",
    "            inputs_val = inputs_val.to(device)\n",
    "            labels_val = labels_val.long().to(device)\n",
    "            val_outputs = model(inputs_val)\n",
    "            val_loss = criterion(val_outputs, labels_val)\n",
    "            val_preds = torch.round(val_outputs)\n",
    "            val_acc = torch.sum(torch.argmax(val_preds, 1) == labels_val).item() / len(labels_val)\n",
    "            val_accuracy_history.append(val_acc)\n",
    "            val_loss_history.append(val_loss)\n",
    "        \n",
    "            print(f\"Epoch {epoch+1}/{EPOCHS} Loss: {epoch_loss:.4f} Acc: {epoch_acc:.4f}\")\n",
    "            print(f\"Validation Loss: {val_loss:.4f} Acc: {val_acc:.4f}\")\n",
    "    \n",
    "    history = {\n",
    "        'accuracy': accuracy_history,\n",
    "        'loss': loss_history,\n",
    "        'val_accuracy': val_accuracy_history,\n",
    "        'val_loss': val_loss_history\n",
    "    }\n",
    "    return history\n",
    "        \n",
    "history1 = train_model(model1, criterion, optimizer)"
   ]
  },
  {
   "cell_type": "code",
   "execution_count": 149,
   "metadata": {},
   "outputs": [
    {
     "data": {
      "image/png": "[encoded data removed]",
      "text/plain": [
       "<Figure size 2500x500 with 1 Axes>"
      ]
     },
     "metadata": {},
     "output_type": "display_data"
    }
   ],
   "source": [
    "history1 = {k: [v.cpu().numpy() if isinstance(v, torch.Tensor) else v for v in vs] for k, vs in history1.items()}\n",
    "plot_accuracy_from_history(history1)"
   ]
  },
  {
   "cell_type": "markdown",
   "metadata": {},
   "source": [
    "## Fine-Tuning method (slower but with augmentation)"
   ]
  },
  {
   "cell_type": "markdown",
   "metadata": {},
   "source": [
    "### Prepare Data"
   ]
  },
  {
   "cell_type": "code",
   "execution_count": 150,
   "metadata": {},
   "outputs": [],
   "source": [
    "data_transforms = {\n",
    "    'train': transforms.Compose([\n",
    "        transforms.Resize(150),\n",
    "        transforms.CenterCrop(150),\n",
    "        transforms.ToTensor(),\n",
    "        transforms.Normalize(mean=[0.485, 0.456, 0.406], std=[0.229, 0.224, 0.225]),\n",
    "        # random horizontal flip\n",
    "        transforms.RandomHorizontalFlip(),\n",
    "        # random Linear Transformation\n",
    "        transforms.RandomAffine(degrees=20, translate=(0.1, 0.1), scale=(0.9, 1.1)),\n",
    "    ]),\n",
    "    'validation': transforms.Compose([\n",
    "        transforms.Resize(150),\n",
    "        transforms.CenterCrop(150),\n",
    "        transforms.ToTensor(),\n",
    "        transforms.Normalize(mean=[0.485, 0.456, 0.406], std=[0.229, 0.224, 0.225])\n",
    "    ]),\n",
    "    'test': transforms.Compose([\n",
    "        transforms.Resize(150),\n",
    "        transforms.CenterCrop(150),\n",
    "        transforms.ToTensor(),\n",
    "        transforms.Normalize(mean=[0.485, 0.456, 0.406], std=[0.229, 0.224, 0.225])\n",
    "    ])\n",
    "}\n",
    "\n",
    "# Define data directories\n",
    "data_dir: str = 'flowers/processed/'\n",
    "image_datasets = {x: datasets.ImageFolder(root=data_dir+x, transform=data_transforms[x]) for x in ['train', 'validation', 'test']}\n",
    "dataloaders = {x: DataLoader(image_datasets[x], batch_size=20, shuffle=False) for x in ['train', 'validation', 'test']}\n"
   ]
  },
  {
   "cell_type": "markdown",
   "metadata": {},
   "source": [
    "### Create model"
   ]
  },
  {
   "cell_type": "code",
   "execution_count": 151,
   "metadata": {},
   "outputs": [
    {
     "name": "stderr",
     "output_type": "stream",
     "text": [
      "/home/lenovo/Proj/DeepNeuralNetworks/.venv/lib/python3.12/site-packages/torchvision/models/_utils.py:208: UserWarning: The parameter 'pretrained' is deprecated since 0.13 and may be removed in the future, please use 'weights' instead.\n",
      "  warnings.warn(\n",
      "/home/lenovo/Proj/DeepNeuralNetworks/.venv/lib/python3.12/site-packages/torchvision/models/_utils.py:223: UserWarning: Arguments other than a weight enum or `None` for 'weights' are deprecated since 0.13 and may be removed in the future. The current behavior is equivalent to passing `weights=ResNet18_Weights.IMAGENET1K_V1`. You can also use `weights=ResNet18_Weights.DEFAULT` to get the most up-to-date weights.\n",
      "  warnings.warn(msg)\n"
     ]
    }
   ],
   "source": [
    "class ModelFineTuning(nn.Module):\n",
    "    def __init__(self):\n",
    "        super().__init__()\n",
    "        self.resnet = models.resnet18(pretrained=True)\n",
    "        for param in self.resnet.parameters(): # freeze the ResNet layers\n",
    "            param.requires_grad = False\n",
    "        self.resnet.fc = nn.Identity()\n",
    "        self.model = nn.Sequential(\n",
    "            nn.Linear(512, 256),\n",
    "            nn.ReLU(),\n",
    "            nn.Linear(256, 256),\n",
    "            nn.ReLU(),\n",
    "            nn.Dropout(0.5),\n",
    "            nn.Linear(256, COUNT_OF_CLASSES),\n",
    "        )\n",
    "\n",
    "    def forward(self, x):\n",
    "        x = self.resnet(x)\n",
    "        x = self.model(x)\n",
    "        return x\n",
    "    \n",
    "    \n",
    "model2 = ModelFineTuning().to(device)\n",
    "# Define loss function and optimizer\n",
    "criterion = nn.CrossEntropyLoss()\n",
    "optimizer = optim.RMSprop(model2.parameters(), lr=2e-5)"
   ]
  },
  {
   "cell_type": "code",
   "execution_count": 152,
   "metadata": {},
   "outputs": [
    {
     "name": "stderr",
     "output_type": "stream",
     "text": [
      "  0%|          | 0/92 [00:00<?, ?it/s]"
     ]
    },
    {
     "name": "stderr",
     "output_type": "stream",
     "text": [
      "100%|██████████| 92/92 [00:24<00:00,  3.78it/s]\n"
     ]
    },
    {
     "name": "stdout",
     "output_type": "stream",
     "text": [
      "Epoch 1/5 Loss: 96.4222 Acc: 0.2780\n",
      "Validation Loss: 91.5407 Acc: 0.2168\n"
     ]
    },
    {
     "name": "stderr",
     "output_type": "stream",
     "text": [
      "100%|██████████| 92/92 [00:09<00:00,  9.68it/s]\n"
     ]
    },
    {
     "name": "stdout",
     "output_type": "stream",
     "text": [
      "Epoch 2/5 Loss: 96.4168 Acc: 0.2403\n",
      "Validation Loss: 91.5399 Acc: 0.2212\n"
     ]
    },
    {
     "name": "stderr",
     "output_type": "stream",
     "text": [
      "100%|██████████| 92/92 [00:08<00:00, 10.79it/s]\n"
     ]
    },
    {
     "name": "stdout",
     "output_type": "stream",
     "text": [
      "Epoch 3/5 Loss: 96.4157 Acc: 0.2201\n",
      "Validation Loss: 91.5403 Acc: 0.2212\n"
     ]
    },
    {
     "name": "stderr",
     "output_type": "stream",
     "text": [
      "100%|██████████| 92/92 [00:08<00:00, 10.30it/s]\n"
     ]
    },
    {
     "name": "stdout",
     "output_type": "stream",
     "text": [
      "Epoch 4/5 Loss: 96.4148 Acc: 0.2245\n",
      "Validation Loss: 91.5383 Acc: 0.2212\n"
     ]
    },
    {
     "name": "stderr",
     "output_type": "stream",
     "text": [
      "100%|██████████| 92/92 [00:08<00:00, 10.38it/s]\n"
     ]
    },
    {
     "name": "stdout",
     "output_type": "stream",
     "text": [
      "Epoch 5/5 Loss: 96.4148 Acc: 0.2316\n",
      "Validation Loss: 91.5393 Acc: 0.2212\n"
     ]
    }
   ],
   "source": [
    "# Training loop\n",
    "accuracy_history: list = []\n",
    "loss_history: list = []\n",
    "val_accuracy_history: list = []\n",
    "val_loss_history: list = []\n",
    "\n",
    "for epoch in range(EPOCHS):\n",
    "    \n",
    "    model2.train()\n",
    "    running_loss = 0.0\n",
    "    running_corrects = 0\n",
    "    for inputs, labels in tqdm(dataloaders['train']):\n",
    "        optimizer.zero_grad()\n",
    "        inputs = inputs.to(device)\n",
    "        labels = labels.to(device)\n",
    "        \n",
    "        outputs = model2(inputs)\n",
    "        loss = criterion(outputs, labels)\n",
    "        loss.backward()\n",
    "        optimizer.step()\n",
    "        running_loss += loss.cpu().item() * inputs.size(0)\n",
    "        running_corrects += torch.sum((outputs > 0.5) == labels.byte())\n",
    "    epoch_loss = running_loss / len(image_datasets['train'])\n",
    "    epoch_acc = running_corrects / len(image_datasets['train'])\n",
    "    accuracy_history.append(epoch_acc)\n",
    "    loss_history.append(epoch_loss)\n",
    "\n",
    "    # Validation loop\n",
    "    model2.eval()\n",
    "    val_running_loss = 0.0\n",
    "    val_running_corrects = 0\n",
    "    with torch.no_grad():\n",
    "        for inputs, labels in tqdm(dataloaders['validation'], disable=True):\n",
    "            inputs = inputs.to(device)\n",
    "            labels = labels.to(device)\n",
    "            \n",
    "            outputs = model2(inputs)\n",
    "            val_loss = criterion(outputs, labels.float())\n",
    "            val_running_loss += val_loss.cpu().item() * inputs.size(0)\n",
    "            val_running_corrects += torch.sum((outputs > 0.5) == labels.byte())\n",
    "    val_epoch_loss = val_running_loss / len(image_datasets['validation'])\n",
    "    val_epoch_acc = val_running_corrects / len(image_datasets['validation'])\n",
    "    val_accuracy_history.append(val_epoch_acc)\n",
    "    val_loss_history.append(val_epoch_loss)\n",
    "\n",
    "    print(f'Epoch {epoch+1}/{EPOCHS} Loss: {epoch_loss:.4f} Acc: {epoch_acc:.4f}')\n",
    "    print(f'Validation Loss: {val_epoch_loss:.4f} Acc: {val_epoch_acc:.4f}')\n",
    "    \n",
    "history2: dict = {\n",
    "        'accuracy': accuracy_history,\n",
    "        'loss': loss_history,\n",
    "        'val_accuracy': val_accuracy_history,\n",
    "        'val_loss': val_loss_history\n",
    "}\n",
    "    \n",
    "    "
   ]
  },
  {
   "cell_type": "code",
   "execution_count": 153,
   "metadata": {},
   "outputs": [
    {
     "data": {
      "image/png": "[encoded data removed]",
      "text/plain": [
       "<Figure size 2500x500 with 1 Axes>"
      ]
     },
     "metadata": {},
     "output_type": "display_data"
    }
   ],
   "source": [
    "history2 = {k: [v.cpu().numpy() if isinstance(v, torch.Tensor) else v for v in vs] for k, vs in history2.items()}\n",
    "plot_accuracy_from_history(history2)"
   ]
  },
  {
   "cell_type": "markdown",
   "metadata": {},
   "source": [
    "# Tuning Method (unfreeze few layers from ResNet)"
   ]
  },
  {
   "cell_type": "code",
   "execution_count": 154,
   "metadata": {},
   "outputs": [],
   "source": [
    "class ModelTuning(nn.Module):\n",
    "    def __init__(self):\n",
    "        super().__init__()\n",
    "        self.resnet = models.resnet18(pretrained=True)\n",
    "        for param in self.resnet.parameters(): # freeze the ResNet layers\n",
    "            param.requires_grad = False\n",
    "        for param in self.resnet.layer4.parameters(): # unfreeze the last layer\n",
    "            param.requires_grad = True\n",
    "        self.resnet.fc = nn.Identity()\n",
    "        self.model = nn.Sequential(\n",
    "            nn.Linear(512, 256),\n",
    "            nn.ReLU(),\n",
    "            nn.Linear(256, 256),\n",
    "            nn.ReLU(),\n",
    "            nn.Linear(256, 1),\n",
    "            nn.Sigmoid(),\n",
    "            nn.Flatten(0, 1)\n",
    "        )\n",
    "\n",
    "    def forward(self, x):\n",
    "        x = self.resnet(x)\n",
    "        x = self.model(x)\n",
    "        return x\n",
    "    \n",
    "    \n",
    "model3 = ModelTuning().to(device)\n",
    "# Define loss function and optimizer\n",
    "criterion = nn.CrossEntropyLoss()\n",
    "optimizer = optim.RMSprop(model3.parameters(), lr=2e-5)"
   ]
  },
  {
   "cell_type": "code",
   "execution_count": 155,
   "metadata": {},
   "outputs": [
    {
     "name": "stdout",
     "output_type": "stream",
     "text": [
      "Epoch 1/5 Loss: 96.4140 Acc: 0.2223\n",
      "Validation Loss: 91.5364 Acc: 0.2212\n",
      "Epoch 2/5 Loss: 96.4114 Acc: 0.2185\n",
      "Validation Loss: 91.5380 Acc: 0.2212\n",
      "Epoch 3/5 Loss: 96.4094 Acc: 0.2196\n",
      "Validation Loss: 91.5349 Acc: 0.2212\n",
      "Epoch 4/5 Loss: 96.4077 Acc: 0.2190\n",
      "Validation Loss: 91.5379 Acc: 0.2212\n",
      "Epoch 5/5 Loss: 96.4066 Acc: 0.2163\n",
      "Validation Loss: 91.5391 Acc: 0.2212\n"
     ]
    }
   ],
   "source": [
    "accuracy_history: list = []\n",
    "loss_history: list = []\n",
    "val_accuracy_history: list = []\n",
    "val_loss_history: list = []\n",
    "\n",
    "for epoch in range(EPOCHS):\n",
    "    model3.train()\n",
    "    \n",
    "    running_loss = 0.0\n",
    "    running_corrects = 0\n",
    "    for inputs, labels in tqdm(dataloaders['train'], disable=True):\n",
    "        optimizer.zero_grad()\n",
    "        inputs = inputs.to(device)\n",
    "        labels = labels.to(device)\n",
    "        \n",
    "        outputs = model3(inputs)\n",
    "        loss = criterion(outputs, labels.float())\n",
    "        loss.backward()\n",
    "        optimizer.step()\n",
    "        running_loss += loss.cpu().item() * inputs.size(0)\n",
    "        running_corrects += torch.sum((outputs > 0.5) == labels.byte())\n",
    "    epoch_loss = running_loss / len(image_datasets['train'])\n",
    "    epoch_acc = running_corrects / len(image_datasets['train'])\n",
    "    accuracy_history.append(epoch_acc)\n",
    "    loss_history.append(epoch_loss)\n",
    "\n",
    "    # Validation loop\n",
    "    model3.eval()\n",
    "    val_running_loss = 0.0\n",
    "    val_running_corrects = 0\n",
    "    with torch.no_grad():\n",
    "        for inputs, labels in tqdm(dataloaders['validation'], disable=True):\n",
    "            inputs = inputs.to(device)\n",
    "            labels = labels.to(device)\n",
    "            \n",
    "            outputs = model3(inputs)\n",
    "            val_loss = criterion(outputs, labels.float())\n",
    "            val_running_loss += val_loss.cpu().item() * inputs.size(0)\n",
    "            val_running_corrects += torch.sum((outputs > 0.5) == labels.byte())\n",
    "    val_epoch_loss = val_running_loss / len(image_datasets['validation'])\n",
    "    val_epoch_acc = val_running_corrects / len(image_datasets['validation'])\n",
    "    val_accuracy_history.append(val_epoch_acc)\n",
    "    val_loss_history.append(val_epoch_loss)\n",
    "\n",
    "    print(f'Epoch {epoch+1}/{EPOCHS} Loss: {epoch_loss:.4f} Acc: {epoch_acc:.4f}')\n",
    "    print(f'Validation Loss: {val_epoch_loss:.4f} Acc: {val_epoch_acc:.4f}')\n",
    "    \n",
    "history3: dict = {\n",
    "        'accuracy': accuracy_history,\n",
    "        'loss': loss_history,\n",
    "        'val_accuracy': val_accuracy_history,\n",
    "        'val_loss': val_loss_history\n",
    "    }"
   ]
  },
  {
   "cell_type": "code",
   "execution_count": 156,
   "metadata": {},
   "outputs": [
    {
     "name": "stdout",
     "output_type": "stream",
     "text": [
      "[array(0.2222829, dtype=float32), array(0.21845984, dtype=float32), array(0.21955214, dtype=float32), array(0.219006, dtype=float32), array(0.21627524, dtype=float32)]\n"
     ]
    },
    {
     "data": {
      "image/png": "[encoded data removed]",
      "text/plain": [
       "<Figure size 2500x500 with 1 Axes>"
      ]
     },
     "metadata": {},
     "output_type": "display_data"
    }
   ],
   "source": [
    "history3 = {k: [v.cpu().numpy() if isinstance(v, torch.Tensor) else v for v in vs] for k, vs in history3.items()}\n",
    "plot_accuracy_from_history(history3)\n",
    "print(history3['accuracy'])"
   ]
  }
 ],
 "metadata": {
  "kernelspec": {
   "display_name": ".venv",
   "language": "python",
   "name": "python3"
  },
  "language_info": {
   "codemirror_mode": {
    "name": "ipython",
    "version": 3
   },
   "file_extension": ".py",
   "mimetype": "text/x-python",
   "name": "python",
   "nbconvert_exporter": "python",
   "pygments_lexer": "ipython3",
   "version": "3.12.2"
  }
 },
 "nbformat": 4,
 "nbformat_minor": 2
}
