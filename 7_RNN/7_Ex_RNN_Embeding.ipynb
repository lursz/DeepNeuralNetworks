{
 "cells": [
  {
   "cell_type": "markdown",
   "metadata": {},
   "source": [
    "**Table of contents**<a id='toc0_'></a>    \n",
    "- [Imports](#toc1_1_)    \n",
    "  - [Visualize the data](#toc1_2_)    \n",
    "  - [Prepare data](#toc1_3_)    \n",
    "    - [Files operations](#toc1_3_1_)    \n",
    "    - [Data operations](#toc1_3_2_)    \n",
    "    - [Train / test / validation split](#toc1_3_3_)    \n",
    "  - [Model](#toc1_4_)    \n",
    "- [Instances](#toc2_)    \n",
    "  - [Glove Twitter](#toc2_1_)    \n",
    "  - [Glove 6B - 50d](#toc2_2_)    \n",
    "  - [Glove 6B - 100d](#toc2_3_)    \n",
    "  - [Glove 43B](#toc2_4_)    \n",
    "- [Conclusion](#toc3_)    \n",
    "\n",
    "<!-- vscode-jupyter-toc-config\n",
    "\tnumbering=false\n",
    "\tanchor=true\n",
    "\tflat=false\n",
    "\tminLevel=1\n",
    "\tmaxLevel=6\n",
    "\t/vscode-jupyter-toc-config -->\n",
    "<!-- THIS CELL WILL BE REPLACED ON TOC UPDATE. DO NOT WRITE YOUR TEXT IN THIS CELL -->"
   ]
  },
  {
   "cell_type": "markdown",
   "metadata": {},
   "source": [
    "## <a id='toc1_1_'></a>[Imports](#toc0_)"
   ]
  },
  {
   "cell_type": "code",
   "execution_count": 54,
   "metadata": {},
   "outputs": [
    {
     "data": {
      "text/plain": [
       "True"
      ]
     },
     "execution_count": 54,
     "metadata": {},
     "output_type": "execute_result"
    }
   ],
   "source": [
    "import torch\n",
    "from torch import nn\n",
    "from torch import Tensor\n",
    "import torch.optim as optim\n",
    "from tqdm import tqdm\n",
    "import torchtext\n",
    "import torchtext.data\n",
    "import re\n",
    "\n",
    "torch.cuda.is_available()"
   ]
  },
  {
   "cell_type": "code",
   "execution_count": 55,
   "metadata": {},
   "outputs": [],
   "source": [
    "from torchnlp.encoders.text import StaticTokenizerEncoder\n",
    "import matplotlib.pyplot as plt\n",
    "import numpy as np\n",
    "from torch.utils.data import Dataset, DataLoader\n",
    "import cv2\n",
    "import pandas as pd\n",
    "import os"
   ]
  },
  {
   "cell_type": "code",
   "execution_count": 56,
   "metadata": {},
   "outputs": [
    {
     "name": "stdout",
     "output_type": "stream",
     "text": [
      "Using device: cuda\n"
     ]
    }
   ],
   "source": [
    "device = torch.device(\"cuda\" if torch.cuda.is_available() else \"cpu\")\n",
    "print(f\"Using device: {device}\")"
   ]
  },
  {
   "cell_type": "markdown",
   "metadata": {},
   "source": [
    "## <a id='toc1_2_'></a>[Visualize the data](#toc0_)"
   ]
  },
  {
   "cell_type": "code",
   "execution_count": 57,
   "metadata": {},
   "outputs": [],
   "source": [
    "import matplotlib.pyplot as plt\n",
    "\n",
    "def plot_history(train_acc_history, train_loss_history, val_acc_history, val_loss_history):\n",
    "    epochs = range(1, len(train_loss_history) + 1)\n",
    "    \n",
    "    # Loss\n",
    "    plt.figure(1)\n",
    "    plt.plot(epochs, train_loss_history, 'b', label='Training loss (' + str(format(train_loss_history[-1], '.5f')) + ')')\n",
    "    plt.plot(epochs, val_loss_history, 'g', label='Validation loss (' + str(format(val_loss_history[-1], '.5f')) + ')')\n",
    "    \n",
    "    plt.title('Loss')\n",
    "    plt.xlabel('Epochs')\n",
    "    plt.ylabel('Loss')\n",
    "    plt.legend()\n",
    "    \n",
    "    # Accuracy\n",
    "    plt.figure(2)\n",
    "    plt.plot(epochs, train_acc_history, 'b', label='Training accuracy (' + str(format(train_acc_history[-1], '.5f')) + ')')\n",
    "    plt.plot(epochs, val_acc_history, 'g', label='Validation accuracy (' + str(format(val_acc_history[-1], '.5f')) + ')')\n",
    "\n",
    "    plt.title('Accuracy')\n",
    "    plt.xlabel('Epochs')\n",
    "    plt.ylabel('Accuracy')\n",
    "    plt.legend()\n",
    "    plt.show()\n"
   ]
  },
  {
   "cell_type": "markdown",
   "metadata": {},
   "source": [
    "## <a id='toc1_3_'></a>[Prepare data](#toc0_)"
   ]
  },
  {
   "cell_type": "markdown",
   "metadata": {},
   "source": [
    "### <a id='toc1_3_1_'></a>[Files operations](#toc0_)"
   ]
  },
  {
   "cell_type": "code",
   "execution_count": 58,
   "metadata": {},
   "outputs": [],
   "source": [
    "def read_glove_file(path: str) -> dict[str, np.ndarray]:\n",
    "    embeddings: dict = {}\n",
    "    f = open(path, encoding =\"utf8\")\n",
    "    for line in f:\n",
    "        values = line.split()\n",
    "        word = values[0]\n",
    "        coefs = np.asarray(values[1:], dtype='float32')\n",
    "        embeddings[word] = coefs\n",
    "    f.close()\n",
    "\n",
    "    print('Found %s word vectors.' % len(embeddings))\n",
    "\n",
    "    return embeddings"
   ]
  },
  {
   "cell_type": "code",
   "execution_count": 59,
   "metadata": {},
   "outputs": [],
   "source": [
    "def read_imdb() -> tuple[list[str], list[int]]:\n",
    "    imdb_dir = 'kaggle/Imdb/'\n",
    "    train_dir = imdb_dir + 'train/'\n",
    "\n",
    "    labels = []\n",
    "    texts = []\n",
    "\n",
    "    for label_type in ['neg', 'pos']:\n",
    "        dir_name = train_dir + label_type\n",
    "        for fname in os.listdir(dir_name):\n",
    "            if fname[-4:] == '.txt':\n",
    "                f = open(os.path.join(dir_name, fname), encoding =\"utf8\")\n",
    "                texts.append(f.read())\n",
    "                f.close()\n",
    "                if label_type == 'neg':\n",
    "                    labels.append(0)\n",
    "                else:\n",
    "                    labels.append(1)\n",
    "\n",
    "    return texts, labels"
   ]
  },
  {
   "cell_type": "code",
   "execution_count": 60,
   "metadata": {},
   "outputs": [],
   "source": [
    "texts, labels = read_imdb()"
   ]
  },
  {
   "cell_type": "markdown",
   "metadata": {},
   "source": [
    "### <a id='toc1_3_2_'></a>[Data operations](#toc0_)"
   ]
  },
  {
   "cell_type": "code",
   "execution_count": 61,
   "metadata": {},
   "outputs": [],
   "source": [
    "def texts_to_sequences(texts: list[str], maxlen: int, max_words: int, embeddings:dict[str, np.ndarray]) -> tuple[torch.Tensor, dict[any, int]]:\n",
    "    texts = [text.lower() for text in texts]\n",
    "    tokenizer = StaticTokenizerEncoder(texts, tokenize=lambda s: re.findall(r'([a-zA-Z0-9]+|[\\.,;\\/\\\\\\'])', s), min_occurrences=1)\n",
    "    \n",
    "    sequences = [tokenizer.encode(text) for text in texts]\n",
    "    word_index = tokenizer.vocab\n",
    "    word_index_dict = {word: index for index, word in enumerate(word_index)}\n",
    "    index_word = {index: word for word, index in word_index_dict.items()}\n",
    "    \n",
    "    sequences = [[word for word in seq if index_word[word.item()] in embeddings] for seq in sequences]\n",
    "    \n",
    "    data = torch.zeros((len(sequences), maxlen), dtype=torch.long)\n",
    "    \n",
    "    for i, seq in enumerate(sequences):\n",
    "        for j, word in enumerate(seq):            \n",
    "            if j >= maxlen:\n",
    "                break\n",
    "            if word < max_words:\n",
    "                data[i, j] = word\n",
    "            else:\n",
    "                data[i, j] = 0\n",
    "\n",
    "    print([index_word[word.item()] for word in data[0] if word != 0])\n",
    "    return data, word_index_dict"
   ]
  },
  {
   "cell_type": "code",
   "execution_count": 62,
   "metadata": {},
   "outputs": [],
   "source": [
    "def get_embedding_matrix(max_words: int, embedding_index: dict[str, np.ndarray], word_index: dict[any, int]) -> np.ndarray:\n",
    "    embedding_dimension = embedding_index.get('the').shape[0]\n",
    "\n",
    "    embedding_matrix = np.zeros((max_words, embedding_dimension))\n",
    "    for word, i in word_index.items():\n",
    "        if i < max_words:\n",
    "            embedding_vector = embedding_index.get(word)\n",
    "            if embedding_vector is not None:\n",
    "                # Words not found in embedding index will be all-zeros.\n",
    "                embedding_matrix[i] = embedding_vector\n",
    "    return embedding_matrix"
   ]
  },
  {
   "cell_type": "code",
   "execution_count": 63,
   "metadata": {},
   "outputs": [],
   "source": [
    "def split_data(data: np.ndarray, labels: list[int], train_part: float, validation_part: float) -> tuple[np.ndarray, np.ndarray, np.ndarray, np.ndarray, np.ndarray, np.ndarray]:\n",
    "    labels = np.asarray(labels)\n",
    "\n",
    "    data_size = data.shape[0]\n",
    "    train_size = int(data_size * train_part)\n",
    "    validation_size = int(data_size * validation_part)\n",
    "    test_size = data_size - train_size - validation_size\n",
    "\n",
    "    indices = np.arange(data_size)\n",
    "    np.random.shuffle(indices)\n",
    "\n",
    "    train_indices = indices[:train_size]\n",
    "    validation_indices = indices[train_size:train_size + validation_size]\n",
    "    test_indices = indices[train_size + validation_size:]\n",
    "\n",
    "    train_data = data[train_indices]\n",
    "    validation_data = data[validation_indices]\n",
    "    test_data = data[test_indices]\n",
    "\n",
    "    train_labels = labels[train_indices]\n",
    "    validation_labels = labels[validation_indices]\n",
    "    test_labels = labels[test_indices]\n",
    "\n",
    "    print(f\"Train data size: {train_data.shape[0]}\")\n",
    "    print(f\"Validation data size: {validation_data.shape[0]}\")\n",
    "    print(f\"Test data size: {test_data.shape[0]}\")\n",
    "\n",
    "    return train_data, validation_data, test_data, train_labels, validation_labels, test_labels"
   ]
  },
  {
   "cell_type": "markdown",
   "metadata": {},
   "source": [
    "### <a id='toc1_3_3_'></a>[Train / test / validation split](#toc0_)"
   ]
  },
  {
   "cell_type": "code",
   "execution_count": 64,
   "metadata": {},
   "outputs": [],
   "source": [
    "def prepare_data_for_model(maxlen: int, max_words: int, embeddings: dict[str, np.ndarray], texts: list[str], labels: list[int], train_part: float, validation_part: float) -> tuple[torch.Tensor, torch.Tensor, torch.Tensor, torch.Tensor, torch.Tensor, torch.Tensor, dict[any, int], np.ndarray]:\n",
    "    data, word_index = texts_to_sequences(texts, maxlen=maxlen, max_words=max_words, embeddings=embeddings)\n",
    "    embedding_matrix = get_embedding_matrix(max_words, embeddings, word_index)\n",
    "    train_data, validation_data, test_data, train_labels, validation_labels, test_labels = split_data(data, labels, train_part, validation_part)\n",
    "    return train_data, validation_data, test_data, train_labels, validation_labels, test_labels, word_index, embedding_matrix\n"
   ]
  },
  {
   "cell_type": "markdown",
   "metadata": {},
   "source": [
    "## <a id='toc1_4_'></a>[Model](#toc0_)"
   ]
  },
  {
   "cell_type": "code",
   "execution_count": 65,
   "metadata": {},
   "outputs": [],
   "source": [
    "EPOCHS: int = 30"
   ]
  },
  {
   "cell_type": "code",
   "execution_count": 66,
   "metadata": {},
   "outputs": [],
   "source": [
    "class TextClassificationModel(nn.Module):\n",
    "    def __init__(self, vocab_size: int, embed_size: int, maxlen: int):\n",
    "        super(TextClassificationModel, self).__init__()\n",
    "        self.embedding = nn.Embedding(vocab_size, embed_size)\n",
    "        self.conv = nn.Conv1d(embed_size, 16, kernel_size=7)\n",
    "        self.relu = nn.ReLU()\n",
    "        self.pool = nn.MaxPool1d(kernel_size=4)\n",
    "        self.batch_norm = nn.BatchNorm1d(num_features=16)\n",
    "        conv_output_size = (maxlen - 6) // 4\n",
    "        self.flatten = nn.Flatten()\n",
    "        self.dropout = nn.Dropout(0.2)\n",
    "        self.linear = nn.Linear(16 * conv_output_size, 1)\n",
    "        self.sigmoid = nn.Sigmoid()\n",
    "        \n",
    "    def set_embedding(self, embedding_matrix: np.ndarray) -> None:\n",
    "        assert self.embedding.weight.shape == embedding_matrix.shape, \"Embedding matrix shape mismatch\"\n",
    "        self.embedding.weight.data.copy_(torch.from_numpy(embedding_matrix))\n",
    "        self.embedding.weight.requires_grad = False\n",
    "        print(\"Embedding shape:\", self.embedding.weight.data.shape)\n",
    "        \n",
    "    def forward(self, x: Tensor) -> Tensor:\n",
    "        x = self.embedding(x)\n",
    "        x = x.permute(0, 2, 1)  # Conv1d - change shape to [batch_size, embed_size, seq_len] \n",
    "        x = self.conv(x)\n",
    "        x = self.relu(x)\n",
    "        x = self.pool(x)\n",
    "        x = self.batch_norm(x)\n",
    "        x = self.flatten(x)\n",
    "        x = self.dropout(x)\n",
    "        x = self.linear(x)\n",
    "        x = self.sigmoid(x)\n",
    "        return x"
   ]
  },
  {
   "cell_type": "code",
   "execution_count": 67,
   "metadata": {},
   "outputs": [],
   "source": [
    "class RecurrentClassificationModelLSTM(nn.Module):\n",
    "    def __init__(self, vocab_size: int, embed_size: int, maxlen: int, hidden_size: int):\n",
    "        super(RecurrentClassificationModelLSTM, self).__init__()\n",
    "        self.embedding = nn.Embedding(vocab_size, embed_size)\n",
    "        self.lstm = nn.LSTM(embed_size, hidden_size, num_layers=3, batch_first=True, bidirectional=True)\n",
    "        self.flatten = nn.Flatten()\n",
    "        self.dropout = nn.Dropout(0.2)\n",
    "        self.linear = nn.Linear(hidden_size*2, 1)\n",
    "        self.sigmoid = nn.Sigmoid()\n",
    "        \n",
    "    def set_embedding(self, embedding_matrix: np.ndarray) -> None:\n",
    "        print(\"Expected embedding shape:\", self.embedding.weight.shape)\n",
    "        print(\"Provided embedding matrix shape:\", embedding_matrix.shape)\n",
    "        assert self.embedding.weight.shape == embedding_matrix.shape, \"Embedding matrix shape mismatch\"\n",
    "        self.embedding.weight.data.copy_(torch.from_numpy(embedding_matrix))\n",
    "        self.embedding.weight.requires_grad = False\n",
    "        print(\"Embedding shape:\", self.embedding.weight.data.shape)\n",
    "        \n",
    "    def forward(self, x: Tensor) -> Tensor:\n",
    "        x = self.embedding(x)\n",
    "        x, _ = self.lstm(x)\n",
    "        x = x[:, -1, :]\n",
    "        x = self.dropout(x)\n",
    "        x = self.linear(x)\n",
    "        x = self.sigmoid(x)\n",
    "        return x"
   ]
  },
  {
   "cell_type": "code",
   "execution_count": 68,
   "metadata": {},
   "outputs": [],
   "source": [
    "def train_model(model: nn.Module, criterion: nn.Module, optimizer: optim.Optimizer,\n",
    "                train_loader: torch.utils.data.DataLoader, validation_loader: torch.utils.data.DataLoader) -> tuple[list[float], list[float], list[float], list[float]]:\n",
    "    model.to(device)\n",
    "    criterion.to(device)\n",
    "    accuracy_history: list = []\n",
    "    loss_history: list = []\n",
    "    val_accuracy_history: list = []\n",
    "    val_loss_history: list = []\n",
    "    \n",
    "    print(\"Training model...\")\n",
    "    for epoch in range(EPOCHS):\n",
    "        model.train()\n",
    "        train_loss = 0\n",
    "        correct = 0\n",
    "        total = 0\n",
    "        for data, target in tqdm(train_loader):\n",
    "            data, target = data.to(device), target.to(device)\n",
    "            optimizer.zero_grad()\n",
    "            output = model(data)\n",
    "            loss = criterion(output, target.float().view(-1, 1))\n",
    "            loss.backward()\n",
    "            optimizer.step()\n",
    "            train_loss += loss.item()\n",
    "            predicted = (output > 0.5).float()\n",
    "            total += target.size(0)\n",
    "            correct += (predicted == target.float().view(-1, 1)).sum().item()\n",
    "        accuracy = correct / total\n",
    "        loss_history.append(train_loss / len(train_loader))\n",
    "        accuracy_history.append(accuracy)\n",
    "        \n",
    "        model.eval()\n",
    "        val_loss = 0\n",
    "        correct = 0\n",
    "        total = 0\n",
    "        with torch.no_grad():\n",
    "            for data, target in validation_loader:\n",
    "                data, target = data.to(device), target.to(device)\n",
    "                output = model(data)\n",
    "                loss = criterion(output, target.float().view(-1, 1))\n",
    "                val_loss += loss.item()\n",
    "                predicted = (output > 0.5).float()\n",
    "                total += target.size(0)\n",
    "                correct += (predicted == target.float().view(-1, 1)).sum().item()\n",
    "        val_accuracy = correct / total\n",
    "        val_loss_history.append(val_loss / len(validation_loader))\n",
    "        val_accuracy_history.append(val_accuracy)\n",
    "        \n",
    "        print(f\"Epoch {epoch + 1}/{EPOCHS}:\")\n",
    "        print(f\"Train loss: {loss_history[-1]}, accuracy: {accuracy}\")\n",
    "        print(f\"Validation loss: {val_loss_history[-1]}, accuracy: {val_accuracy}\")\n",
    "        \n",
    "    return accuracy_history, loss_history, val_accuracy_history, val_loss_history\n",
    "        "
   ]
  },
  {
   "cell_type": "code",
   "execution_count": 69,
   "metadata": {},
   "outputs": [],
   "source": [
    "def test_model(model: nn.Module, criterion: nn.Module, test_loader: torch.utils.data.DataLoader) -> tuple[float, float]:\n",
    "    model.to(device)\n",
    "    correct = 0\n",
    "    total = 0\n",
    "    total_loss = 0\n",
    "    model.eval()\n",
    "    for data, target in test_loader:\n",
    "        data, target = data.to(device), target.to(device)\n",
    "        output = model(data)\n",
    "        loss = criterion(output, target.float().view(-1, 1))\n",
    "        total_loss += loss.item()\n",
    "        predicted = (output > 0.5).float()\n",
    "        total += target.size(0)\n",
    "        correct += (predicted == target.float().view(-1, 1)).sum().item()\n",
    "        \n",
    "    accuracy = correct / total\n",
    "    loss = total_loss / len(test_loader)\n",
    "    \n",
    "    print(f\"Test accuracy: {accuracy}\")\n",
    "    print(f\"Test loss: {loss}\")\n",
    "    \n",
    "    return accuracy, loss"
   ]
  },
  {
   "cell_type": "markdown",
   "metadata": {},
   "source": [
    "# <a id='toc2_'></a>[Instances](#toc0_)"
   ]
  },
  {
   "cell_type": "markdown",
   "metadata": {},
   "source": [
    "## <a id='toc2_1_'></a>[Glove Twitter](#toc0_)"
   ]
  },
  {
   "cell_type": "code",
   "execution_count": 70,
   "metadata": {},
   "outputs": [
    {
     "name": "stdout",
     "output_type": "stream",
     "text": [
      "Found 1193514 word vectors.\n",
      "['i', 'cannot', 'for', 'the', 'life', 'of', 'me', 'explain', 'what', 'the', 'popularity', 'of', 'the', 'children', \"'\", 's', 'television', 'show', ',', 'power', 'rangers', 'is', 'all', 'about', '.', 'br', '/', 'br', '/', 'i', 'never', 'understood', 'why', 'unsuspecting', 'children', 'liked', 'this', 'show', 'in', 'the', 'first', 'place', ',', 'since', 'the', 'characters', 'seem', 'so', 'idiotic', 'and', 'not', 'worth', 'caring', 'about', 'whatsoever', '.', 'br', '/', 'br', '/', 'the', 'costumes', 'look', 'completely', 'atrocious', ',', 'like', 'multi', 'colored', 'spandex', 'that', 'people', 'wear', 'to', 'go', 'to', 'the', 'gym', '.', 'br', '/', 'br', '/', 'what', 'exactly', 'is', 'the', 'purpose', 'of', 'this', 'show', 'anyways', ',', 'but', 'for', 'kids', 'to', 'learn', 'how', 'to', 'fight', 'to', 'solve', 'their', 'problems', 'what', 'is', 'up', 'with', 'the', 'awful', 'hair', 'cuts', ',', 'and', 'clothing', 'on', 'this', 'show', 'anyway', 'not', 'to', 'mention', 'this', 'show', 'is', 'still', 'playing', 'on', 'cable', 'television', ',', 'just', 'to', 'make', 'money', 'to', 'teach', 'kids', 'how', 'to', 'fight', 'each', 'other', 'when', 'they', 'disagree', 'on', 'a', 'certain', 'problem', '.', 'br', '/', 'br', '/', 'there', \"'\", 's', 'far', 'better', 'entertainment', 'for', 'today', \"'\", 's', 'children', ',', 'hopefully', 'they', 'aren', \"'\", 't', 'as', 'gullible', 'as', 'kids', 'of', 'the', 'who', 'watched', 'this', 'show', '.', 'br', '/', 'br', '/', 'oh', ',', 'and', 'what', 'is', 'up', 'with', 'the', 'homo', 'erotic', 'tension', 'between', 'the', 'red', 'and', 'green', 'rangers', 'anyway']\n",
      "Train data size: 20000\n",
      "Validation data size: 2500\n",
      "Test data size: 2500\n"
     ]
    }
   ],
   "source": [
    "embeddings = read_glove_file('kaggle/glove.twitter.27B/glove.twitter.27B.100d.txt')\n",
    "train_data, validation_data, test_data, train_labels, validation_labels, test_labels, word_index, embedding_matrix = prepare_data_for_model(maxlen=250, max_words=100000, embeddings=embeddings, texts=texts, labels=labels, train_part=0.8, validation_part=0.1)"
   ]
  },
  {
   "cell_type": "code",
   "execution_count": 71,
   "metadata": {},
   "outputs": [],
   "source": [
    "train_dataset = torch.utils.data.TensorDataset(train_data, torch.tensor(train_labels, dtype=torch.long))\n",
    "train_loader = torch.utils.data.DataLoader(train_dataset, batch_size=32, shuffle=True)\n",
    "\n",
    "validation_dataset = torch.utils.data.TensorDataset(validation_data, torch.tensor(validation_labels, dtype=torch.long))\n",
    "validation_loader = torch.utils.data.DataLoader(validation_dataset, batch_size=32, shuffle=True)\n",
    "\n",
    "test_dataset = torch.utils.data.TensorDataset(test_data, torch.tensor(test_labels, dtype=torch.long))\n",
    "test_loader = torch.utils.data.DataLoader(test_dataset, batch_size=32, shuffle=True)"
   ]
  },
  {
   "cell_type": "code",
   "execution_count": 72,
   "metadata": {},
   "outputs": [
    {
     "name": "stdout",
     "output_type": "stream",
     "text": [
      "Expected embedding shape: torch.Size([100000, 100])\n",
      "Provided embedding matrix shape: (100000, 100)\n",
      "Embedding shape: torch.Size([100000, 100])\n",
      "Training model...\n"
     ]
    },
    {
     "name": "stderr",
     "output_type": "stream",
     "text": [
      "100%|██████████| 625/625 [00:08<00:00, 72.63it/s]\n"
     ]
    },
    {
     "name": "stdout",
     "output_type": "stream",
     "text": [
      "Epoch 1/30:\n",
      "Train loss: 0.6888823090553283, accuracy: 0.529\n",
      "Validation loss: 0.7197940651374527, accuracy: 0.5228\n"
     ]
    },
    {
     "name": "stderr",
     "output_type": "stream",
     "text": [
      "100%|██████████| 625/625 [00:08<00:00, 77.71it/s]\n"
     ]
    },
    {
     "name": "stdout",
     "output_type": "stream",
     "text": [
      "Epoch 2/30:\n",
      "Train loss: 0.6831133058547973, accuracy: 0.5433\n",
      "Validation loss: 0.6200368691094315, accuracy: 0.7048\n"
     ]
    },
    {
     "name": "stderr",
     "output_type": "stream",
     "text": [
      "100%|██████████| 625/625 [00:08<00:00, 77.79it/s]\n"
     ]
    },
    {
     "name": "stdout",
     "output_type": "stream",
     "text": [
      "Epoch 3/30:\n",
      "Train loss: 0.6391305849552155, accuracy: 0.6345\n",
      "Validation loss: 0.5333050285713582, accuracy: 0.7376\n"
     ]
    },
    {
     "name": "stderr",
     "output_type": "stream",
     "text": [
      "100%|██████████| 625/625 [00:08<00:00, 77.93it/s]\n"
     ]
    },
    {
     "name": "stdout",
     "output_type": "stream",
     "text": [
      "Epoch 4/30:\n",
      "Train loss: 0.4940158203125, accuracy: 0.7764\n",
      "Validation loss: 0.43718217803707604, accuracy: 0.7968\n"
     ]
    },
    {
     "name": "stderr",
     "output_type": "stream",
     "text": [
      "100%|██████████| 625/625 [00:07<00:00, 78.17it/s]\n"
     ]
    },
    {
     "name": "stdout",
     "output_type": "stream",
     "text": [
      "Epoch 5/30:\n",
      "Train loss: 0.3871844227671623, accuracy: 0.83165\n",
      "Validation loss: 0.36557447042646285, accuracy: 0.8444\n"
     ]
    },
    {
     "name": "stderr",
     "output_type": "stream",
     "text": [
      "100%|██████████| 625/625 [00:08<00:00, 77.73it/s]\n"
     ]
    },
    {
     "name": "stdout",
     "output_type": "stream",
     "text": [
      "Epoch 6/30:\n",
      "Train loss: 0.34814649288654326, accuracy: 0.8473\n",
      "Validation loss: 0.3375241309875929, accuracy: 0.848\n"
     ]
    },
    {
     "name": "stderr",
     "output_type": "stream",
     "text": [
      "100%|██████████| 625/625 [00:08<00:00, 77.99it/s]\n"
     ]
    },
    {
     "name": "stdout",
     "output_type": "stream",
     "text": [
      "Epoch 7/30:\n",
      "Train loss: 0.3270179309129715, accuracy: 0.85725\n",
      "Validation loss: 0.32462612350907505, accuracy: 0.8556\n"
     ]
    },
    {
     "name": "stderr",
     "output_type": "stream",
     "text": [
      "100%|██████████| 625/625 [00:07<00:00, 78.30it/s]\n"
     ]
    },
    {
     "name": "stdout",
     "output_type": "stream",
     "text": [
      "Epoch 8/30:\n",
      "Train loss: 0.31275560014247894, accuracy: 0.8656\n",
      "Validation loss: 0.32967754066744936, accuracy: 0.8596\n"
     ]
    },
    {
     "name": "stderr",
     "output_type": "stream",
     "text": [
      "100%|██████████| 625/625 [00:07<00:00, 78.26it/s]\n"
     ]
    },
    {
     "name": "stdout",
     "output_type": "stream",
     "text": [
      "Epoch 9/30:\n",
      "Train loss: 0.2972078414797783, accuracy: 0.8753\n",
      "Validation loss: 0.32177480131010466, accuracy: 0.8588\n"
     ]
    },
    {
     "name": "stderr",
     "output_type": "stream",
     "text": [
      "100%|██████████| 625/625 [00:07<00:00, 78.42it/s]\n"
     ]
    },
    {
     "name": "stdout",
     "output_type": "stream",
     "text": [
      "Epoch 10/30:\n",
      "Train loss: 0.2813405394792557, accuracy: 0.88365\n",
      "Validation loss: 0.31489221497049813, accuracy: 0.8692\n"
     ]
    },
    {
     "name": "stderr",
     "output_type": "stream",
     "text": [
      "100%|██████████| 625/625 [00:07<00:00, 78.17it/s]\n"
     ]
    },
    {
     "name": "stdout",
     "output_type": "stream",
     "text": [
      "Epoch 11/30:\n",
      "Train loss: 0.2685580547273159, accuracy: 0.88735\n",
      "Validation loss: 0.3118777432585064, accuracy: 0.8664\n"
     ]
    },
    {
     "name": "stderr",
     "output_type": "stream",
     "text": [
      "100%|██████████| 625/625 [00:07<00:00, 78.24it/s]\n"
     ]
    },
    {
     "name": "stdout",
     "output_type": "stream",
     "text": [
      "Epoch 12/30:\n",
      "Train loss: 0.25566317328214644, accuracy: 0.89545\n",
      "Validation loss: 0.3111612848654578, accuracy: 0.87\n"
     ]
    },
    {
     "name": "stderr",
     "output_type": "stream",
     "text": [
      "100%|██████████| 625/625 [00:08<00:00, 78.02it/s]\n"
     ]
    },
    {
     "name": "stdout",
     "output_type": "stream",
     "text": [
      "Epoch 13/30:\n",
      "Train loss: 0.24026802584528922, accuracy: 0.90205\n",
      "Validation loss: 0.34910873936701425, accuracy: 0.8544\n"
     ]
    },
    {
     "name": "stderr",
     "output_type": "stream",
     "text": [
      "100%|██████████| 625/625 [00:08<00:00, 72.24it/s]\n"
     ]
    },
    {
     "name": "stdout",
     "output_type": "stream",
     "text": [
      "Epoch 14/30:\n",
      "Train loss: 0.22512318519949914, accuracy: 0.9084\n",
      "Validation loss: 0.34555621605507936, accuracy: 0.8712\n"
     ]
    },
    {
     "name": "stderr",
     "output_type": "stream",
     "text": [
      "100%|██████████| 625/625 [00:08<00:00, 77.38it/s]\n"
     ]
    },
    {
     "name": "stdout",
     "output_type": "stream",
     "text": [
      "Epoch 15/30:\n",
      "Train loss: 0.20958418736457823, accuracy: 0.9182\n",
      "Validation loss: 0.3311932831059528, accuracy: 0.8732\n"
     ]
    },
    {
     "name": "stderr",
     "output_type": "stream",
     "text": [
      "100%|██████████| 625/625 [00:07<00:00, 78.50it/s]\n"
     ]
    },
    {
     "name": "stdout",
     "output_type": "stream",
     "text": [
      "Epoch 16/30:\n",
      "Train loss: 0.19575648884177207, accuracy: 0.9251\n",
      "Validation loss: 0.3375843039041833, accuracy: 0.8724\n"
     ]
    },
    {
     "name": "stderr",
     "output_type": "stream",
     "text": [
      "100%|██████████| 625/625 [00:07<00:00, 78.18it/s]\n"
     ]
    },
    {
     "name": "stdout",
     "output_type": "stream",
     "text": [
      "Epoch 17/30:\n",
      "Train loss: 0.17528389169871808, accuracy: 0.93195\n",
      "Validation loss: 0.34198058726666847, accuracy: 0.8692\n"
     ]
    },
    {
     "name": "stderr",
     "output_type": "stream",
     "text": [
      "100%|██████████| 625/625 [00:07<00:00, 78.25it/s]\n"
     ]
    },
    {
     "name": "stdout",
     "output_type": "stream",
     "text": [
      "Epoch 18/30:\n",
      "Train loss: 0.15871232460737228, accuracy: 0.9409\n",
      "Validation loss: 0.36093755085257034, accuracy: 0.8676\n"
     ]
    },
    {
     "name": "stderr",
     "output_type": "stream",
     "text": [
      "100%|██████████| 625/625 [00:08<00:00, 77.89it/s]\n"
     ]
    },
    {
     "name": "stdout",
     "output_type": "stream",
     "text": [
      "Epoch 19/30:\n",
      "Train loss: 0.1431114978685975, accuracy: 0.9473\n",
      "Validation loss: 0.36113091157395627, accuracy: 0.8672\n"
     ]
    },
    {
     "name": "stderr",
     "output_type": "stream",
     "text": [
      "100%|██████████| 625/625 [00:08<00:00, 77.66it/s]\n"
     ]
    },
    {
     "name": "stdout",
     "output_type": "stream",
     "text": [
      "Epoch 20/30:\n",
      "Train loss: 0.12635087260901928, accuracy: 0.95355\n",
      "Validation loss: 0.43521398874117606, accuracy: 0.8476\n"
     ]
    },
    {
     "name": "stderr",
     "output_type": "stream",
     "text": [
      "100%|██████████| 625/625 [00:08<00:00, 77.75it/s]\n"
     ]
    },
    {
     "name": "stdout",
     "output_type": "stream",
     "text": [
      "Epoch 21/30:\n",
      "Train loss: 0.10930966841503978, accuracy: 0.96175\n",
      "Validation loss: 0.4458653062959261, accuracy: 0.8668\n"
     ]
    },
    {
     "name": "stderr",
     "output_type": "stream",
     "text": [
      "100%|██████████| 625/625 [00:07<00:00, 78.41it/s]\n"
     ]
    },
    {
     "name": "stdout",
     "output_type": "stream",
     "text": [
      "Epoch 22/30:\n",
      "Train loss: 0.09109265222847461, accuracy: 0.96845\n",
      "Validation loss: 0.4631990966728971, accuracy: 0.8636\n"
     ]
    },
    {
     "name": "stderr",
     "output_type": "stream",
     "text": [
      "100%|██████████| 625/625 [00:07<00:00, 78.56it/s]\n"
     ]
    },
    {
     "name": "stdout",
     "output_type": "stream",
     "text": [
      "Epoch 23/30:\n",
      "Train loss: 0.07899210675302892, accuracy: 0.974\n",
      "Validation loss: 0.49967664866885053, accuracy: 0.8664\n"
     ]
    },
    {
     "name": "stderr",
     "output_type": "stream",
     "text": [
      "100%|██████████| 625/625 [00:07<00:00, 78.33it/s]\n"
     ]
    },
    {
     "name": "stdout",
     "output_type": "stream",
     "text": [
      "Epoch 24/30:\n",
      "Train loss: 0.06760929805897176, accuracy: 0.97775\n",
      "Validation loss: 0.5626572248160462, accuracy: 0.8608\n"
     ]
    },
    {
     "name": "stderr",
     "output_type": "stream",
     "text": [
      "100%|██████████| 625/625 [00:07<00:00, 78.31it/s]\n"
     ]
    },
    {
     "name": "stdout",
     "output_type": "stream",
     "text": [
      "Epoch 25/30:\n",
      "Train loss: 0.06268719983957707, accuracy: 0.9807\n",
      "Validation loss: 0.6120454170446419, accuracy: 0.8552\n"
     ]
    },
    {
     "name": "stderr",
     "output_type": "stream",
     "text": [
      "100%|██████████| 625/625 [00:08<00:00, 77.78it/s]\n"
     ]
    },
    {
     "name": "stdout",
     "output_type": "stream",
     "text": [
      "Epoch 26/30:\n",
      "Train loss: 0.05769615652561188, accuracy: 0.9821\n",
      "Validation loss: 0.5336239944341816, accuracy: 0.8588\n"
     ]
    },
    {
     "name": "stderr",
     "output_type": "stream",
     "text": [
      "100%|██████████| 625/625 [00:08<00:00, 78.06it/s]\n"
     ]
    },
    {
     "name": "stdout",
     "output_type": "stream",
     "text": [
      "Epoch 27/30:\n",
      "Train loss: 0.048770880534499884, accuracy: 0.98445\n",
      "Validation loss: 0.6274478298595729, accuracy: 0.8548\n"
     ]
    },
    {
     "name": "stderr",
     "output_type": "stream",
     "text": [
      "100%|██████████| 625/625 [00:08<00:00, 77.75it/s]\n"
     ]
    },
    {
     "name": "stdout",
     "output_type": "stream",
     "text": [
      "Epoch 28/30:\n",
      "Train loss: 0.0470671556673944, accuracy: 0.98535\n",
      "Validation loss: 0.6456237443003662, accuracy: 0.848\n"
     ]
    },
    {
     "name": "stderr",
     "output_type": "stream",
     "text": [
      "100%|██████████| 625/625 [00:08<00:00, 77.73it/s]\n"
     ]
    },
    {
     "name": "stdout",
     "output_type": "stream",
     "text": [
      "Epoch 29/30:\n",
      "Train loss: 0.04185008794805035, accuracy: 0.9877\n",
      "Validation loss: 0.7157354703013892, accuracy: 0.86\n"
     ]
    },
    {
     "name": "stderr",
     "output_type": "stream",
     "text": [
      "100%|██████████| 625/625 [00:08<00:00, 77.60it/s]\n"
     ]
    },
    {
     "name": "stdout",
     "output_type": "stream",
     "text": [
      "Epoch 30/30:\n",
      "Train loss: 0.037625089647993444, accuracy: 0.98905\n",
      "Validation loss: 0.657402078179006, accuracy: 0.8708\n"
     ]
    }
   ],
   "source": [
    "model = RecurrentClassificationModelLSTM(vocab_size=100000, embed_size=100, maxlen=250, hidden_size=64)\n",
    "model.set_embedding(embedding_matrix)\n",
    "\n",
    "criterion = nn.BCELoss()\n",
    "optimizer = optim.Adam(model.parameters(), lr=0.0005)\n",
    "accuracy_history, loss_history, val_accuracy_history, val_loss_history = train_model(model, criterion, optimizer, train_loader, validation_loader)"
   ]
  },
  {
   "cell_type": "code",
   "execution_count": 73,
   "metadata": {},
   "outputs": [
    {
     "name": "stdout",
     "output_type": "stream",
     "text": [
      "Test accuracy: 0.8452\n",
      "Test loss: 0.7193827166021625\n"
     ]
    },
    {
     "data": {
      "text/plain": [
       "(0.8452, 0.7193827166021625)"
      ]
     },
     "execution_count": 73,
     "metadata": {},
     "output_type": "execute_result"
    }
   ],
   "source": [
    "test_model(model, criterion, test_loader)"
   ]
  },
  {
   "cell_type": "code",
   "execution_count": 74,
   "metadata": {},
   "outputs": [
    {
     "data": {
      "image/png": "[encoded data removed]",
      "text/plain": [
       "<Figure size 640x480 with 1 Axes>"
      ]
     },
     "metadata": {},
     "output_type": "display_data"
    },
    {
     "data": {
      "image/png": "[encoded data removed]",
      "text/plain": [
       "<Figure size 640x480 with 1 Axes>"
      ]
     },
     "metadata": {},
     "output_type": "display_data"
    }
   ],
   "source": [
    "plot_history(accuracy_history, loss_history, val_accuracy_history, val_loss_history)"
   ]
  },
  {
   "cell_type": "markdown",
   "metadata": {},
   "source": [
    "## <a id='toc2_2_'></a>[Glove 6B - 50d](#toc0_)"
   ]
  },
  {
   "cell_type": "code",
   "execution_count": 75,
   "metadata": {},
   "outputs": [
    {
     "name": "stdout",
     "output_type": "stream",
     "text": [
      "Found 400000 word vectors.\n",
      "['i', 'cannot', 'for', 'the', 'life', 'of', 'me', 'explain', 'what', 'the', 'popularity', 'of', 'the', 'children', \"'\", 's', 'television', 'show', ',', 'power', 'rangers', 'is', 'all', 'about', '.', 'br', '/', 'br', '/', 'i', 'never', 'understood', 'why', 'unsuspecting', 'children', 'liked', 'this', 'show', 'in', 'the', 'first', 'place', ',', 'since', 'the', 'characters', 'seem', 'so', 'idiotic', 'and', 'not', 'worth', 'caring', 'about', 'whatsoever', '.', 'br', '/', 'br', '/', 'the', 'costumes', 'look', 'completely', 'atrocious', ',', 'like', 'multi', 'colored', 'spandex', 'that', 'people', 'wear', 'to', 'go', 'to', 'the', 'gym', '.', 'br', '/', 'br', '/', 'what', 'exactly', 'is', 'the', 'purpose', 'of', 'this', 'show', 'anyways', ',', 'but', 'for', 'kids', 'to', 'learn', 'how', 'to']\n",
      "Train data size: 20000\n",
      "Validation data size: 2500\n",
      "Test data size: 2500\n"
     ]
    }
   ],
   "source": [
    "embeddings = read_glove_file('kaggle/glove.6B/glove.6B.50d.txt')\n",
    "train_data, validation_data, test_data, train_labels, validation_labels, test_labels, word_index, embedding_matrix = prepare_data_for_model(maxlen=100, max_words=10000, embeddings=embeddings, texts=texts, labels=labels, train_part=0.8, validation_part=0.1)"
   ]
  },
  {
   "cell_type": "code",
   "execution_count": 76,
   "metadata": {},
   "outputs": [],
   "source": [
    "train_dataset = torch.utils.data.TensorDataset(train_data, torch.tensor(train_labels, dtype=torch.long))\n",
    "train_loader = torch.utils.data.DataLoader(train_dataset, batch_size=32, shuffle=True)\n",
    "\n",
    "validation_dataset = torch.utils.data.TensorDataset(validation_data, torch.tensor(validation_labels, dtype=torch.long))\n",
    "validation_loader = torch.utils.data.DataLoader(validation_dataset, batch_size=32, shuffle=True)\n",
    "\n",
    "test_dataset = torch.utils.data.TensorDataset(test_data, torch.tensor(test_labels, dtype=torch.long))\n",
    "test_loader = torch.utils.data.DataLoader(test_dataset, batch_size=32, shuffle=True)"
   ]
  },
  {
   "cell_type": "code",
   "execution_count": 77,
   "metadata": {},
   "outputs": [
    {
     "name": "stdout",
     "output_type": "stream",
     "text": [
      "Expected embedding shape: torch.Size([10000, 50])\n",
      "Provided embedding matrix shape: (10000, 50)\n",
      "Embedding shape: torch.Size([10000, 50])\n",
      "Training model...\n"
     ]
    },
    {
     "name": "stderr",
     "output_type": "stream",
     "text": [
      "100%|██████████| 625/625 [00:04<00:00, 130.94it/s]\n"
     ]
    },
    {
     "name": "stdout",
     "output_type": "stream",
     "text": [
      "Epoch 1/30:\n",
      "Train loss: 0.6831320189476013, accuracy: 0.56075\n",
      "Validation loss: 0.678927892371069, accuracy: 0.5772\n"
     ]
    },
    {
     "name": "stderr",
     "output_type": "stream",
     "text": [
      "100%|██████████| 625/625 [00:04<00:00, 131.50it/s]\n"
     ]
    },
    {
     "name": "stdout",
     "output_type": "stream",
     "text": [
      "Epoch 2/30:\n",
      "Train loss: 0.6638649059295654, accuracy: 0.60485\n",
      "Validation loss: 0.6281104050105131, accuracy: 0.65\n"
     ]
    },
    {
     "name": "stderr",
     "output_type": "stream",
     "text": [
      "100%|██████████| 625/625 [00:04<00:00, 143.87it/s]\n"
     ]
    },
    {
     "name": "stdout",
     "output_type": "stream",
     "text": [
      "Epoch 3/30:\n",
      "Train loss: 0.6186682770729065, accuracy: 0.66685\n",
      "Validation loss: 0.560491423440885, accuracy: 0.722\n"
     ]
    },
    {
     "name": "stderr",
     "output_type": "stream",
     "text": [
      "100%|██████████| 625/625 [00:04<00:00, 144.67it/s]\n"
     ]
    },
    {
     "name": "stdout",
     "output_type": "stream",
     "text": [
      "Epoch 4/30:\n",
      "Train loss: 0.5786557503700256, accuracy: 0.70325\n",
      "Validation loss: 0.579005659003801, accuracy: 0.6892\n"
     ]
    },
    {
     "name": "stderr",
     "output_type": "stream",
     "text": [
      "100%|██████████| 625/625 [00:04<00:00, 145.28it/s]\n"
     ]
    },
    {
     "name": "stdout",
     "output_type": "stream",
     "text": [
      "Epoch 5/30:\n",
      "Train loss: 0.5499064263820648, accuracy: 0.72325\n",
      "Validation loss: 0.5208019304879105, accuracy: 0.7476\n"
     ]
    },
    {
     "name": "stderr",
     "output_type": "stream",
     "text": [
      "100%|██████████| 625/625 [00:04<00:00, 144.94it/s]\n"
     ]
    },
    {
     "name": "stdout",
     "output_type": "stream",
     "text": [
      "Epoch 6/30:\n",
      "Train loss: 0.5225670910358429, accuracy: 0.74055\n",
      "Validation loss: 0.4989546733566477, accuracy: 0.7636\n"
     ]
    },
    {
     "name": "stderr",
     "output_type": "stream",
     "text": [
      "100%|██████████| 625/625 [00:04<00:00, 144.45it/s]\n"
     ]
    },
    {
     "name": "stdout",
     "output_type": "stream",
     "text": [
      "Epoch 7/30:\n",
      "Train loss: 0.5075370067596435, accuracy: 0.75395\n",
      "Validation loss: 0.48647960756398456, accuracy: 0.7724\n"
     ]
    },
    {
     "name": "stderr",
     "output_type": "stream",
     "text": [
      "100%|██████████| 625/625 [00:04<00:00, 143.34it/s]\n"
     ]
    },
    {
     "name": "stdout",
     "output_type": "stream",
     "text": [
      "Epoch 8/30:\n",
      "Train loss: 0.4852357530593872, accuracy: 0.7662\n",
      "Validation loss: 0.4679418932410735, accuracy: 0.778\n"
     ]
    },
    {
     "name": "stderr",
     "output_type": "stream",
     "text": [
      "100%|██████████| 625/625 [00:04<00:00, 146.61it/s]\n"
     ]
    },
    {
     "name": "stdout",
     "output_type": "stream",
     "text": [
      "Epoch 9/30:\n",
      "Train loss: 0.47412534313201904, accuracy: 0.7663\n",
      "Validation loss: 0.45471801146676266, accuracy: 0.7828\n"
     ]
    },
    {
     "name": "stderr",
     "output_type": "stream",
     "text": [
      "100%|██████████| 625/625 [00:04<00:00, 146.46it/s]\n"
     ]
    },
    {
     "name": "stdout",
     "output_type": "stream",
     "text": [
      "Epoch 10/30:\n",
      "Train loss: 0.45878018765449524, accuracy: 0.78385\n",
      "Validation loss: 0.44908782349357124, accuracy: 0.7956\n"
     ]
    },
    {
     "name": "stderr",
     "output_type": "stream",
     "text": [
      "100%|██████████| 625/625 [00:04<00:00, 145.04it/s]\n"
     ]
    },
    {
     "name": "stdout",
     "output_type": "stream",
     "text": [
      "Epoch 11/30:\n",
      "Train loss: 0.45815297503471375, accuracy: 0.7779\n",
      "Validation loss: 0.4372240482251855, accuracy: 0.8036\n"
     ]
    },
    {
     "name": "stderr",
     "output_type": "stream",
     "text": [
      "100%|██████████| 625/625 [00:04<00:00, 146.65it/s]\n"
     ]
    },
    {
     "name": "stdout",
     "output_type": "stream",
     "text": [
      "Epoch 12/30:\n",
      "Train loss: 0.43888454217910766, accuracy: 0.78975\n",
      "Validation loss: 0.43300488176225105, accuracy: 0.806\n"
     ]
    },
    {
     "name": "stderr",
     "output_type": "stream",
     "text": [
      "100%|██████████| 625/625 [00:04<00:00, 147.06it/s]\n"
     ]
    },
    {
     "name": "stdout",
     "output_type": "stream",
     "text": [
      "Epoch 13/30:\n",
      "Train loss: 0.4266614262104034, accuracy: 0.79765\n",
      "Validation loss: 0.42473246100582657, accuracy: 0.8012\n"
     ]
    },
    {
     "name": "stderr",
     "output_type": "stream",
     "text": [
      "100%|██████████| 625/625 [00:04<00:00, 146.64it/s]\n"
     ]
    },
    {
     "name": "stdout",
     "output_type": "stream",
     "text": [
      "Epoch 14/30:\n",
      "Train loss: 0.41753681285381317, accuracy: 0.80325\n",
      "Validation loss: 0.4455894765597356, accuracy: 0.7952\n"
     ]
    },
    {
     "name": "stderr",
     "output_type": "stream",
     "text": [
      "100%|██████████| 625/625 [00:04<00:00, 145.92it/s]\n"
     ]
    },
    {
     "name": "stdout",
     "output_type": "stream",
     "text": [
      "Epoch 15/30:\n",
      "Train loss: 0.4124174790382385, accuracy: 0.80695\n",
      "Validation loss: 0.4245345371810696, accuracy: 0.8052\n"
     ]
    },
    {
     "name": "stderr",
     "output_type": "stream",
     "text": [
      "100%|██████████| 625/625 [00:04<00:00, 141.41it/s]\n"
     ]
    },
    {
     "name": "stdout",
     "output_type": "stream",
     "text": [
      "Epoch 16/30:\n",
      "Train loss: 0.39976707684993745, accuracy: 0.8116\n",
      "Validation loss: 0.4283036197288127, accuracy: 0.8012\n"
     ]
    },
    {
     "name": "stderr",
     "output_type": "stream",
     "text": [
      "100%|██████████| 625/625 [00:04<00:00, 134.43it/s]\n"
     ]
    },
    {
     "name": "stdout",
     "output_type": "stream",
     "text": [
      "Epoch 17/30:\n",
      "Train loss: 0.39277902119159697, accuracy: 0.81705\n",
      "Validation loss: 0.41459507825253883, accuracy: 0.8136\n"
     ]
    },
    {
     "name": "stderr",
     "output_type": "stream",
     "text": [
      "100%|██████████| 625/625 [00:04<00:00, 140.81it/s]\n"
     ]
    },
    {
     "name": "stdout",
     "output_type": "stream",
     "text": [
      "Epoch 18/30:\n",
      "Train loss: 0.3778975890636444, accuracy: 0.82525\n",
      "Validation loss: 0.4203626370128197, accuracy: 0.7976\n"
     ]
    },
    {
     "name": "stderr",
     "output_type": "stream",
     "text": [
      "100%|██████████| 625/625 [00:04<00:00, 144.87it/s]\n"
     ]
    },
    {
     "name": "stdout",
     "output_type": "stream",
     "text": [
      "Epoch 19/30:\n",
      "Train loss: 0.37061596360206606, accuracy: 0.83005\n",
      "Validation loss: 0.42894204691806925, accuracy: 0.7984\n"
     ]
    },
    {
     "name": "stderr",
     "output_type": "stream",
     "text": [
      "100%|██████████| 625/625 [00:04<00:00, 134.47it/s]\n"
     ]
    },
    {
     "name": "stdout",
     "output_type": "stream",
     "text": [
      "Epoch 20/30:\n",
      "Train loss: 0.3591456587553024, accuracy: 0.83335\n",
      "Validation loss: 0.42780060236212575, accuracy: 0.8072\n"
     ]
    },
    {
     "name": "stderr",
     "output_type": "stream",
     "text": [
      "100%|██████████| 625/625 [00:04<00:00, 136.78it/s]\n"
     ]
    },
    {
     "name": "stdout",
     "output_type": "stream",
     "text": [
      "Epoch 21/30:\n",
      "Train loss: 0.34012065796852115, accuracy: 0.84215\n",
      "Validation loss: 0.4295993413351759, accuracy: 0.8148\n"
     ]
    },
    {
     "name": "stderr",
     "output_type": "stream",
     "text": [
      "100%|██████████| 625/625 [00:04<00:00, 137.41it/s]\n"
     ]
    },
    {
     "name": "stdout",
     "output_type": "stream",
     "text": [
      "Epoch 22/30:\n",
      "Train loss: 0.3316460352420807, accuracy: 0.84565\n",
      "Validation loss: 0.445520975638794, accuracy: 0.8088\n"
     ]
    },
    {
     "name": "stderr",
     "output_type": "stream",
     "text": [
      "100%|██████████| 625/625 [00:04<00:00, 126.34it/s]\n"
     ]
    },
    {
     "name": "stdout",
     "output_type": "stream",
     "text": [
      "Epoch 23/30:\n",
      "Train loss: 0.31353648991584776, accuracy: 0.85495\n",
      "Validation loss: 0.4726164525822748, accuracy: 0.8004\n"
     ]
    },
    {
     "name": "stderr",
     "output_type": "stream",
     "text": [
      "100%|██████████| 625/625 [00:04<00:00, 130.66it/s]\n"
     ]
    },
    {
     "name": "stdout",
     "output_type": "stream",
     "text": [
      "Epoch 24/30:\n",
      "Train loss: 0.30155776656866073, accuracy: 0.86115\n",
      "Validation loss: 0.4719216087950936, accuracy: 0.8068\n"
     ]
    },
    {
     "name": "stderr",
     "output_type": "stream",
     "text": [
      "100%|██████████| 625/625 [00:04<00:00, 132.27it/s]\n"
     ]
    },
    {
     "name": "stdout",
     "output_type": "stream",
     "text": [
      "Epoch 25/30:\n",
      "Train loss: 0.28249993596076967, accuracy: 0.86975\n",
      "Validation loss: 0.5111209545520288, accuracy: 0.7812\n"
     ]
    },
    {
     "name": "stderr",
     "output_type": "stream",
     "text": [
      "100%|██████████| 625/625 [00:04<00:00, 130.86it/s]\n"
     ]
    },
    {
     "name": "stdout",
     "output_type": "stream",
     "text": [
      "Epoch 26/30:\n",
      "Train loss: 0.26478264387845996, accuracy: 0.8785\n",
      "Validation loss: 0.4896976940239532, accuracy: 0.8028\n"
     ]
    },
    {
     "name": "stderr",
     "output_type": "stream",
     "text": [
      "100%|██████████| 625/625 [00:04<00:00, 131.66it/s]\n"
     ]
    },
    {
     "name": "stdout",
     "output_type": "stream",
     "text": [
      "Epoch 27/30:\n",
      "Train loss: 0.24311078547239304, accuracy: 0.89\n",
      "Validation loss: 0.5981346515915061, accuracy: 0.7844\n"
     ]
    },
    {
     "name": "stderr",
     "output_type": "stream",
     "text": [
      "100%|██████████| 625/625 [00:04<00:00, 131.38it/s]\n"
     ]
    },
    {
     "name": "stdout",
     "output_type": "stream",
     "text": [
      "Epoch 28/30:\n",
      "Train loss: 0.2317724326312542, accuracy: 0.89425\n",
      "Validation loss: 0.5557245896021022, accuracy: 0.792\n"
     ]
    },
    {
     "name": "stderr",
     "output_type": "stream",
     "text": [
      "100%|██████████| 625/625 [00:04<00:00, 130.84it/s]\n"
     ]
    },
    {
     "name": "stdout",
     "output_type": "stream",
     "text": [
      "Epoch 29/30:\n",
      "Train loss: 0.21290839796066285, accuracy: 0.90675\n",
      "Validation loss: 0.5925967182162442, accuracy: 0.7892\n"
     ]
    },
    {
     "name": "stderr",
     "output_type": "stream",
     "text": [
      "100%|██████████| 625/625 [00:04<00:00, 131.53it/s]\n"
     ]
    },
    {
     "name": "stdout",
     "output_type": "stream",
     "text": [
      "Epoch 30/30:\n",
      "Train loss: 0.20001777466535567, accuracy: 0.9123\n",
      "Validation loss: 0.5966285595882542, accuracy: 0.7956\n"
     ]
    }
   ],
   "source": [
    "model = RecurrentClassificationModelLSTM(vocab_size=10000, embed_size=50, maxlen=1000, hidden_size=64)\n",
    "model.set_embedding(embedding_matrix)\n",
    "\n",
    "criterion = nn.BCELoss()\n",
    "optimizer = optim.Adam(model.parameters(), lr=0.0005)\n",
    "accuracy_history, loss_history, val_accuracy_history, val_loss_history = train_model(model, criterion, optimizer, train_loader, validation_loader)"
   ]
  },
  {
   "cell_type": "code",
   "execution_count": 78,
   "metadata": {},
   "outputs": [
    {
     "data": {
      "image/png": "[encoded data removed]",
      "text/plain": [
       "<Figure size 640x480 with 1 Axes>"
      ]
     },
     "metadata": {},
     "output_type": "display_data"
    },
    {
     "data": {
      "image/png": "[encoded data removed]",
      "text/plain": [
       "<Figure size 640x480 with 1 Axes>"
      ]
     },
     "metadata": {},
     "output_type": "display_data"
    }
   ],
   "source": [
    "plot_history(accuracy_history, loss_history, val_accuracy_history, val_loss_history)"
   ]
  },
  {
   "cell_type": "markdown",
   "metadata": {},
   "source": [
    "## <a id='toc2_3_'></a>[Glove 6B - 100d](#toc0_)"
   ]
  },
  {
   "cell_type": "code",
   "execution_count": 79,
   "metadata": {},
   "outputs": [
    {
     "name": "stdout",
     "output_type": "stream",
     "text": [
      "Found 400000 word vectors.\n",
      "['i', 'cannot', 'for', 'the', 'life', 'of', 'me', 'explain', 'what', 'the', 'popularity', 'of', 'the', 'children', \"'\", 's', 'television', 'show', ',', 'power', 'rangers', 'is', 'all', 'about', '.', 'br', '/', 'br', '/', 'i', 'never', 'understood', 'why', 'unsuspecting', 'children', 'liked', 'this', 'show', 'in', 'the', 'first', 'place', ',', 'since', 'the', 'characters', 'seem', 'so', 'idiotic', 'and', 'not', 'worth', 'caring', 'about', 'whatsoever', '.', 'br', '/', 'br', '/', 'the', 'costumes', 'look', 'completely', 'atrocious', ',', 'like', 'multi', 'colored', 'spandex', 'that', 'people', 'wear', 'to', 'go', 'to', 'the', 'gym', '.', 'br', '/', 'br', '/', 'what', 'exactly', 'is', 'the', 'purpose', 'of', 'this', 'show', 'anyways', ',', 'but', 'for', 'kids', 'to', 'learn', 'how', 'to']\n",
      "Train data size: 20000\n",
      "Validation data size: 2500\n",
      "Test data size: 2500\n"
     ]
    }
   ],
   "source": [
    "embeddings = read_glove_file('kaggle/glove.6B/glove.6B.100d.txt')\n",
    "train_data, validation_data, test_data, train_labels, validation_labels, test_labels, word_index, embedding_matrix = prepare_data_for_model(maxlen=100, max_words=10000, embeddings=embeddings, texts=texts, labels=labels, train_part=0.8, validation_part=0.1)"
   ]
  },
  {
   "cell_type": "code",
   "execution_count": 80,
   "metadata": {},
   "outputs": [],
   "source": [
    "train_dataset = torch.utils.data.TensorDataset(train_data, torch.tensor(train_labels, dtype=torch.long))\n",
    "train_loader = torch.utils.data.DataLoader(train_dataset, batch_size=32, shuffle=True)\n",
    "\n",
    "validation_dataset = torch.utils.data.TensorDataset(validation_data, torch.tensor(validation_labels, dtype=torch.long))\n",
    "validation_loader = torch.utils.data.DataLoader(validation_dataset, batch_size=32, shuffle=True)\n",
    "\n",
    "test_dataset = torch.utils.data.TensorDataset(test_data, torch.tensor(test_labels, dtype=torch.long))\n",
    "test_loader = torch.utils.data.DataLoader(test_dataset, batch_size=32, shuffle=True)"
   ]
  },
  {
   "cell_type": "code",
   "execution_count": 81,
   "metadata": {},
   "outputs": [
    {
     "name": "stdout",
     "output_type": "stream",
     "text": [
      "Expected embedding shape: torch.Size([10000, 100])\n",
      "Provided embedding matrix shape: (10000, 100)\n",
      "Embedding shape: torch.Size([10000, 100])\n",
      "Training model...\n"
     ]
    },
    {
     "name": "stderr",
     "output_type": "stream",
     "text": [
      "100%|██████████| 625/625 [00:05<00:00, 119.92it/s]\n"
     ]
    },
    {
     "name": "stdout",
     "output_type": "stream",
     "text": [
      "Epoch 1/30:\n",
      "Train loss: 0.6782915581703186, accuracy: 0.56345\n",
      "Validation loss: 0.6882890523234501, accuracy: 0.5208\n"
     ]
    },
    {
     "name": "stderr",
     "output_type": "stream",
     "text": [
      "100%|██████████| 625/625 [00:05<00:00, 123.71it/s]\n"
     ]
    },
    {
     "name": "stdout",
     "output_type": "stream",
     "text": [
      "Epoch 2/30:\n",
      "Train loss: 0.6835200554847717, accuracy: 0.55975\n",
      "Validation loss: 0.6386545768266991, accuracy: 0.654\n"
     ]
    },
    {
     "name": "stderr",
     "output_type": "stream",
     "text": [
      "100%|██████████| 625/625 [00:04<00:00, 127.77it/s]\n"
     ]
    },
    {
     "name": "stdout",
     "output_type": "stream",
     "text": [
      "Epoch 3/30:\n",
      "Train loss: 0.600954077911377, accuracy: 0.6831\n",
      "Validation loss: 0.5359003441997722, accuracy: 0.7432\n"
     ]
    },
    {
     "name": "stderr",
     "output_type": "stream",
     "text": [
      "100%|██████████| 625/625 [00:04<00:00, 126.13it/s]\n"
     ]
    },
    {
     "name": "stdout",
     "output_type": "stream",
     "text": [
      "Epoch 4/30:\n",
      "Train loss: 0.5421126235961914, accuracy: 0.7312\n",
      "Validation loss: 0.5082502251938928, accuracy: 0.7556\n"
     ]
    },
    {
     "name": "stderr",
     "output_type": "stream",
     "text": [
      "100%|██████████| 625/625 [00:04<00:00, 129.17it/s]\n"
     ]
    },
    {
     "name": "stdout",
     "output_type": "stream",
     "text": [
      "Epoch 5/30:\n",
      "Train loss: 0.4922247874736786, accuracy: 0.76525\n",
      "Validation loss: 0.46944274102585226, accuracy: 0.774\n"
     ]
    },
    {
     "name": "stderr",
     "output_type": "stream",
     "text": [
      "100%|██████████| 625/625 [00:04<00:00, 130.19it/s]\n"
     ]
    },
    {
     "name": "stdout",
     "output_type": "stream",
     "text": [
      "Epoch 6/30:\n",
      "Train loss: 0.4599805784702301, accuracy: 0.7822\n",
      "Validation loss: 0.4484650153148023, accuracy: 0.7868\n"
     ]
    },
    {
     "name": "stderr",
     "output_type": "stream",
     "text": [
      "100%|██████████| 625/625 [00:04<00:00, 130.40it/s]\n"
     ]
    },
    {
     "name": "stdout",
     "output_type": "stream",
     "text": [
      "Epoch 7/30:\n",
      "Train loss: 0.4336458224773407, accuracy: 0.796\n",
      "Validation loss: 0.46969029175329813, accuracy: 0.7676\n"
     ]
    },
    {
     "name": "stderr",
     "output_type": "stream",
     "text": [
      "100%|██████████| 625/625 [00:04<00:00, 130.64it/s]\n"
     ]
    },
    {
     "name": "stdout",
     "output_type": "stream",
     "text": [
      "Epoch 8/30:\n",
      "Train loss: 0.4151472836494446, accuracy: 0.80835\n",
      "Validation loss: 0.42537267449535904, accuracy: 0.806\n"
     ]
    },
    {
     "name": "stderr",
     "output_type": "stream",
     "text": [
      "100%|██████████| 625/625 [00:04<00:00, 130.96it/s]\n"
     ]
    },
    {
     "name": "stdout",
     "output_type": "stream",
     "text": [
      "Epoch 9/30:\n",
      "Train loss: 0.40523111646175386, accuracy: 0.81205\n",
      "Validation loss: 0.4217677216363859, accuracy: 0.808\n"
     ]
    },
    {
     "name": "stderr",
     "output_type": "stream",
     "text": [
      "100%|██████████| 625/625 [00:04<00:00, 130.47it/s]\n"
     ]
    },
    {
     "name": "stdout",
     "output_type": "stream",
     "text": [
      "Epoch 10/30:\n",
      "Train loss: 0.3901643826961517, accuracy: 0.82175\n",
      "Validation loss: 0.42061356577692155, accuracy: 0.8084\n"
     ]
    },
    {
     "name": "stderr",
     "output_type": "stream",
     "text": [
      "100%|██████████| 625/625 [00:04<00:00, 130.44it/s]\n"
     ]
    },
    {
     "name": "stdout",
     "output_type": "stream",
     "text": [
      "Epoch 11/30:\n",
      "Train loss: 0.3733590476512909, accuracy: 0.83225\n",
      "Validation loss: 0.423150865526139, accuracy: 0.8096\n"
     ]
    },
    {
     "name": "stderr",
     "output_type": "stream",
     "text": [
      "100%|██████████| 625/625 [00:04<00:00, 129.75it/s]\n"
     ]
    },
    {
     "name": "stdout",
     "output_type": "stream",
     "text": [
      "Epoch 12/30:\n",
      "Train loss: 0.36040050926208494, accuracy: 0.8362\n",
      "Validation loss: 0.43785774915278713, accuracy: 0.794\n"
     ]
    },
    {
     "name": "stderr",
     "output_type": "stream",
     "text": [
      "100%|██████████| 625/625 [00:04<00:00, 129.47it/s]\n"
     ]
    },
    {
     "name": "stdout",
     "output_type": "stream",
     "text": [
      "Epoch 13/30:\n",
      "Train loss: 0.3470826303124428, accuracy: 0.8481\n",
      "Validation loss: 0.4183034453588196, accuracy: 0.812\n"
     ]
    },
    {
     "name": "stderr",
     "output_type": "stream",
     "text": [
      "100%|██████████| 625/625 [00:04<00:00, 129.52it/s]\n"
     ]
    },
    {
     "name": "stdout",
     "output_type": "stream",
     "text": [
      "Epoch 14/30:\n",
      "Train loss: 0.33180207979679105, accuracy: 0.8557\n",
      "Validation loss: 0.4123199212400219, accuracy: 0.816\n"
     ]
    },
    {
     "name": "stderr",
     "output_type": "stream",
     "text": [
      "100%|██████████| 625/625 [00:04<00:00, 130.42it/s]\n"
     ]
    },
    {
     "name": "stdout",
     "output_type": "stream",
     "text": [
      "Epoch 15/30:\n",
      "Train loss: 0.3163269607901573, accuracy: 0.8626\n",
      "Validation loss: 0.4181971458505981, accuracy: 0.8068\n"
     ]
    },
    {
     "name": "stderr",
     "output_type": "stream",
     "text": [
      "100%|██████████| 625/625 [00:04<00:00, 129.92it/s]\n"
     ]
    },
    {
     "name": "stdout",
     "output_type": "stream",
     "text": [
      "Epoch 16/30:\n",
      "Train loss: 0.3554385819196701, accuracy: 0.8432\n",
      "Validation loss: 0.44268111717191677, accuracy: 0.8076\n"
     ]
    },
    {
     "name": "stderr",
     "output_type": "stream",
     "text": [
      "100%|██████████| 625/625 [00:04<00:00, 129.41it/s]\n"
     ]
    },
    {
     "name": "stdout",
     "output_type": "stream",
     "text": [
      "Epoch 17/30:\n",
      "Train loss: 0.30548782469034197, accuracy: 0.869\n",
      "Validation loss: 0.44279883801937103, accuracy: 0.8108\n"
     ]
    },
    {
     "name": "stderr",
     "output_type": "stream",
     "text": [
      "100%|██████████| 625/625 [00:04<00:00, 129.31it/s]\n"
     ]
    },
    {
     "name": "stdout",
     "output_type": "stream",
     "text": [
      "Epoch 18/30:\n",
      "Train loss: 0.28758759667873385, accuracy: 0.87845\n",
      "Validation loss: 0.4755985954705673, accuracy: 0.8008\n"
     ]
    },
    {
     "name": "stderr",
     "output_type": "stream",
     "text": [
      "100%|██████████| 625/625 [00:04<00:00, 129.30it/s]\n"
     ]
    },
    {
     "name": "stdout",
     "output_type": "stream",
     "text": [
      "Epoch 19/30:\n",
      "Train loss: 0.2636743129789829, accuracy: 0.8913\n",
      "Validation loss: 0.491599306935751, accuracy: 0.8068\n"
     ]
    },
    {
     "name": "stderr",
     "output_type": "stream",
     "text": [
      "100%|██████████| 625/625 [00:04<00:00, 129.68it/s]\n"
     ]
    },
    {
     "name": "stdout",
     "output_type": "stream",
     "text": [
      "Epoch 20/30:\n",
      "Train loss: 0.24700859560966493, accuracy: 0.8991\n",
      "Validation loss: 0.4900270436383501, accuracy: 0.7912\n"
     ]
    },
    {
     "name": "stderr",
     "output_type": "stream",
     "text": [
      "100%|██████████| 625/625 [00:04<00:00, 128.60it/s]\n"
     ]
    },
    {
     "name": "stdout",
     "output_type": "stream",
     "text": [
      "Epoch 21/30:\n",
      "Train loss: 0.2286359613239765, accuracy: 0.90815\n",
      "Validation loss: 0.4979700729062286, accuracy: 0.8016\n"
     ]
    },
    {
     "name": "stderr",
     "output_type": "stream",
     "text": [
      "100%|██████████| 625/625 [00:04<00:00, 129.36it/s]\n"
     ]
    },
    {
     "name": "stdout",
     "output_type": "stream",
     "text": [
      "Epoch 22/30:\n",
      "Train loss: 0.21017942910790444, accuracy: 0.9166\n",
      "Validation loss: 0.5112120556303218, accuracy: 0.7976\n"
     ]
    },
    {
     "name": "stderr",
     "output_type": "stream",
     "text": [
      "100%|██████████| 625/625 [00:04<00:00, 129.13it/s]\n"
     ]
    },
    {
     "name": "stdout",
     "output_type": "stream",
     "text": [
      "Epoch 23/30:\n",
      "Train loss: 0.18944274168610573, accuracy: 0.9264\n",
      "Validation loss: 0.5748290954086976, accuracy: 0.8008\n"
     ]
    },
    {
     "name": "stderr",
     "output_type": "stream",
     "text": [
      "100%|██████████| 625/625 [00:04<00:00, 129.88it/s]\n"
     ]
    },
    {
     "name": "stdout",
     "output_type": "stream",
     "text": [
      "Epoch 24/30:\n",
      "Train loss: 0.17023292573690416, accuracy: 0.93485\n",
      "Validation loss: 0.57577636068734, accuracy: 0.7948\n"
     ]
    },
    {
     "name": "stderr",
     "output_type": "stream",
     "text": [
      "100%|██████████| 625/625 [00:04<00:00, 129.30it/s]\n"
     ]
    },
    {
     "name": "stdout",
     "output_type": "stream",
     "text": [
      "Epoch 25/30:\n",
      "Train loss: 0.1474397384122014, accuracy: 0.945\n",
      "Validation loss: 0.6150784292435155, accuracy: 0.7924\n"
     ]
    },
    {
     "name": "stderr",
     "output_type": "stream",
     "text": [
      "100%|██████████| 625/625 [00:04<00:00, 128.38it/s]\n"
     ]
    },
    {
     "name": "stdout",
     "output_type": "stream",
     "text": [
      "Epoch 26/30:\n",
      "Train loss: 0.14237562803030013, accuracy: 0.9487\n",
      "Validation loss: 0.6766168195990068, accuracy: 0.796\n"
     ]
    },
    {
     "name": "stderr",
     "output_type": "stream",
     "text": [
      "100%|██████████| 625/625 [00:04<00:00, 128.94it/s]\n"
     ]
    },
    {
     "name": "stdout",
     "output_type": "stream",
     "text": [
      "Epoch 27/30:\n",
      "Train loss: 0.12010407608300447, accuracy: 0.95675\n",
      "Validation loss: 0.7596706827230091, accuracy: 0.7876\n"
     ]
    },
    {
     "name": "stderr",
     "output_type": "stream",
     "text": [
      "100%|██████████| 625/625 [00:04<00:00, 129.21it/s]\n"
     ]
    },
    {
     "name": "stdout",
     "output_type": "stream",
     "text": [
      "Epoch 28/30:\n",
      "Train loss: 0.10058568315953016, accuracy: 0.966\n",
      "Validation loss: 0.7548911926112597, accuracy: 0.7836\n"
     ]
    },
    {
     "name": "stderr",
     "output_type": "stream",
     "text": [
      "100%|██████████| 625/625 [00:04<00:00, 129.34it/s]\n"
     ]
    },
    {
     "name": "stdout",
     "output_type": "stream",
     "text": [
      "Epoch 29/30:\n",
      "Train loss: 0.09322807398363948, accuracy: 0.96785\n",
      "Validation loss: 0.8289817623275367, accuracy: 0.7908\n"
     ]
    },
    {
     "name": "stderr",
     "output_type": "stream",
     "text": [
      "100%|██████████| 625/625 [00:04<00:00, 128.71it/s]\n"
     ]
    },
    {
     "name": "stdout",
     "output_type": "stream",
     "text": [
      "Epoch 30/30:\n",
      "Train loss: 0.08769122313261032, accuracy: 0.97015\n",
      "Validation loss: 0.7919714677182934, accuracy: 0.7916\n"
     ]
    }
   ],
   "source": [
    "model = RecurrentClassificationModelLSTM(vocab_size=10000, embed_size=100, maxlen=1000, hidden_size=64)\n",
    "model.set_embedding(embedding_matrix)\n",
    "\n",
    "criterion = nn.BCELoss()\n",
    "optimizer = optim.Adam(model.parameters(), lr=0.0005)\n",
    "accuracy_history, loss_history, val_accuracy_history, val_loss_history = train_model(model, criterion, optimizer, train_loader, validation_loader)"
   ]
  },
  {
   "cell_type": "code",
   "execution_count": 82,
   "metadata": {},
   "outputs": [
    {
     "data": {
      "image/png": "[encoded data removed]",
      "text/plain": [
       "<Figure size 640x480 with 1 Axes>"
      ]
     },
     "metadata": {},
     "output_type": "display_data"
    },
    {
     "data": {
      "image/png": "[encoded data removed]",
      "text/plain": [
       "<Figure size 640x480 with 1 Axes>"
      ]
     },
     "metadata": {},
     "output_type": "display_data"
    }
   ],
   "source": [
    "plot_history(accuracy_history, loss_history, val_accuracy_history, val_loss_history)"
   ]
  },
  {
   "cell_type": "markdown",
   "metadata": {},
   "source": [
    "## <a id='toc2_4_'></a>[Glove 43B](#toc0_)"
   ]
  },
  {
   "cell_type": "code",
   "execution_count": 83,
   "metadata": {},
   "outputs": [
    {
     "name": "stdout",
     "output_type": "stream",
     "text": [
      "Found 1917494 word vectors.\n",
      "['i', 'cannot', 'for', 'the', 'life', 'of', 'me', 'explain', 'what', 'the', 'popularity', 'of', 'the', 'children', \"'\", 's', 'television', 'show', ',', 'power', 'rangers', 'is', 'all', 'about', '.', 'br', '/', 'br', '/', 'i', 'never', 'understood', 'why', 'unsuspecting', 'children', 'liked', 'this', 'show', 'in', 'the', 'first', 'place', ',', 'since', 'the', 'characters', 'seem', 'so', 'idiotic', 'and', 'not', 'worth', 'caring', 'about', 'whatsoever', '.', 'br', '/', 'br', '/', 'the', 'costumes', 'look', 'completely', 'atrocious', ',', 'like', 'multi', 'colored', 'spandex', 'that', 'people', 'wear', 'to', 'go', 'to', 'the', 'gym', '.', 'br', '/', 'br', '/', 'what', 'exactly', 'is', 'the', 'purpose', 'of', 'this', 'show', 'anyways', ',', 'but', 'for', 'kids', 'to', 'learn', 'how', 'to']\n",
      "Train data size: 20000\n",
      "Validation data size: 2500\n",
      "Test data size: 2500\n"
     ]
    }
   ],
   "source": [
    "embeddings = read_glove_file('kaggle/glove.42B.300d/glove.42B.300d.txt')\n",
    "train_data, validation_data, test_data, train_labels, validation_labels, test_labels, word_index, embedding_matrix = prepare_data_for_model(maxlen=100, max_words=10000, embeddings=embeddings, texts=texts, labels=labels, train_part=0.8, validation_part=0.1)"
   ]
  },
  {
   "cell_type": "code",
   "execution_count": 84,
   "metadata": {},
   "outputs": [],
   "source": [
    "train_dataset = torch.utils.data.TensorDataset(train_data, torch.tensor(train_labels, dtype=torch.long))\n",
    "train_loader = torch.utils.data.DataLoader(train_dataset, batch_size=32, shuffle=True)\n",
    "\n",
    "validation_dataset = torch.utils.data.TensorDataset(validation_data, torch.tensor(validation_labels, dtype=torch.long))\n",
    "validation_loader = torch.utils.data.DataLoader(validation_dataset, batch_size=32, shuffle=True)\n",
    "\n",
    "test_dataset = torch.utils.data.TensorDataset(test_data, torch.tensor(test_labels, dtype=torch.long))\n",
    "test_loader = torch.utils.data.DataLoader(test_dataset, batch_size=32, shuffle=True)"
   ]
  },
  {
   "cell_type": "code",
   "execution_count": 85,
   "metadata": {},
   "outputs": [
    {
     "name": "stdout",
     "output_type": "stream",
     "text": [
      "Expected embedding shape: torch.Size([10000, 300])\n",
      "Provided embedding matrix shape: (10000, 300)\n",
      "Embedding shape: torch.Size([10000, 300])\n",
      "Training model...\n"
     ]
    },
    {
     "name": "stderr",
     "output_type": "stream",
     "text": [
      "100%|██████████| 625/625 [00:05<00:00, 117.89it/s]\n"
     ]
    },
    {
     "name": "stdout",
     "output_type": "stream",
     "text": [
      "Epoch 1/30:\n",
      "Train loss: 0.6327722193717956, accuracy: 0.6432\n",
      "Validation loss: 0.6428225621392455, accuracy: 0.67\n"
     ]
    },
    {
     "name": "stderr",
     "output_type": "stream",
     "text": [
      "100%|██████████| 625/625 [00:05<00:00, 118.74it/s]\n"
     ]
    },
    {
     "name": "stdout",
     "output_type": "stream",
     "text": [
      "Epoch 2/30:\n",
      "Train loss: 0.5932065172672272, accuracy: 0.69155\n",
      "Validation loss: 0.6935288770289361, accuracy: 0.496\n"
     ]
    },
    {
     "name": "stderr",
     "output_type": "stream",
     "text": [
      "100%|██████████| 625/625 [00:04<00:00, 127.17it/s]\n"
     ]
    },
    {
     "name": "stdout",
     "output_type": "stream",
     "text": [
      "Epoch 3/30:\n",
      "Train loss: 0.6112298803329468, accuracy: 0.6458\n",
      "Validation loss: 0.5596047620984572, accuracy: 0.7176\n"
     ]
    },
    {
     "name": "stderr",
     "output_type": "stream",
     "text": [
      "100%|██████████| 625/625 [00:04<00:00, 127.04it/s]\n"
     ]
    },
    {
     "name": "stdout",
     "output_type": "stream",
     "text": [
      "Epoch 4/30:\n",
      "Train loss: 0.4559625598669052, accuracy: 0.7854\n",
      "Validation loss: 0.44812540427038944, accuracy: 0.7888\n"
     ]
    },
    {
     "name": "stderr",
     "output_type": "stream",
     "text": [
      "100%|██████████| 625/625 [00:04<00:00, 127.06it/s]\n"
     ]
    },
    {
     "name": "stdout",
     "output_type": "stream",
     "text": [
      "Epoch 5/30:\n",
      "Train loss: 0.4186644344329834, accuracy: 0.8061\n",
      "Validation loss: 0.4268891222869294, accuracy: 0.8004\n"
     ]
    },
    {
     "name": "stderr",
     "output_type": "stream",
     "text": [
      "100%|██████████| 625/625 [00:04<00:00, 126.75it/s]\n"
     ]
    },
    {
     "name": "stdout",
     "output_type": "stream",
     "text": [
      "Epoch 6/30:\n",
      "Train loss: 0.3990348182439804, accuracy: 0.8185\n",
      "Validation loss: 0.43126165980025183, accuracy: 0.7984\n"
     ]
    },
    {
     "name": "stderr",
     "output_type": "stream",
     "text": [
      "100%|██████████| 625/625 [00:04<00:00, 126.72it/s]\n"
     ]
    },
    {
     "name": "stdout",
     "output_type": "stream",
     "text": [
      "Epoch 7/30:\n",
      "Train loss: 0.3809602479696274, accuracy: 0.8292\n",
      "Validation loss: 0.39924421118973175, accuracy: 0.8032\n"
     ]
    },
    {
     "name": "stderr",
     "output_type": "stream",
     "text": [
      "100%|██████████| 625/625 [00:04<00:00, 127.64it/s]\n"
     ]
    },
    {
     "name": "stdout",
     "output_type": "stream",
     "text": [
      "Epoch 8/30:\n",
      "Train loss: 0.36572742524147034, accuracy: 0.83805\n",
      "Validation loss: 0.3906532486405554, accuracy: 0.8076\n"
     ]
    },
    {
     "name": "stderr",
     "output_type": "stream",
     "text": [
      "100%|██████████| 625/625 [00:04<00:00, 127.85it/s]\n"
     ]
    },
    {
     "name": "stdout",
     "output_type": "stream",
     "text": [
      "Epoch 9/30:\n",
      "Train loss: 0.3476189050197601, accuracy: 0.84895\n",
      "Validation loss: 0.40325993940800053, accuracy: 0.814\n"
     ]
    },
    {
     "name": "stderr",
     "output_type": "stream",
     "text": [
      "100%|██████████| 625/625 [00:04<00:00, 127.43it/s]\n"
     ]
    },
    {
     "name": "stdout",
     "output_type": "stream",
     "text": [
      "Epoch 10/30:\n",
      "Train loss: 0.3314272808074951, accuracy: 0.856\n",
      "Validation loss: 0.39928558695165417, accuracy: 0.8124\n"
     ]
    },
    {
     "name": "stderr",
     "output_type": "stream",
     "text": [
      "100%|██████████| 625/625 [00:04<00:00, 127.99it/s]\n"
     ]
    },
    {
     "name": "stdout",
     "output_type": "stream",
     "text": [
      "Epoch 11/30:\n",
      "Train loss: 0.3084095550656319, accuracy: 0.87155\n",
      "Validation loss: 0.4171160132258753, accuracy: 0.808\n"
     ]
    },
    {
     "name": "stderr",
     "output_type": "stream",
     "text": [
      "100%|██████████| 625/625 [00:04<00:00, 127.85it/s]\n"
     ]
    },
    {
     "name": "stdout",
     "output_type": "stream",
     "text": [
      "Epoch 12/30:\n",
      "Train loss: 0.290398992729187, accuracy: 0.879\n",
      "Validation loss: 0.4029839423638356, accuracy: 0.8132\n"
     ]
    },
    {
     "name": "stderr",
     "output_type": "stream",
     "text": [
      "100%|██████████| 625/625 [00:04<00:00, 127.77it/s]\n"
     ]
    },
    {
     "name": "stdout",
     "output_type": "stream",
     "text": [
      "Epoch 13/30:\n",
      "Train loss: 0.26372163882255556, accuracy: 0.89465\n",
      "Validation loss: 0.4612472210362365, accuracy: 0.8068\n"
     ]
    },
    {
     "name": "stderr",
     "output_type": "stream",
     "text": [
      "100%|██████████| 625/625 [00:04<00:00, 127.47it/s]\n"
     ]
    },
    {
     "name": "stdout",
     "output_type": "stream",
     "text": [
      "Epoch 14/30:\n",
      "Train loss: 0.24169721776247025, accuracy: 0.9039\n",
      "Validation loss: 0.44981089366387716, accuracy: 0.8136\n"
     ]
    },
    {
     "name": "stderr",
     "output_type": "stream",
     "text": [
      "100%|██████████| 625/625 [00:04<00:00, 127.11it/s]\n"
     ]
    },
    {
     "name": "stdout",
     "output_type": "stream",
     "text": [
      "Epoch 15/30:\n",
      "Train loss: 0.21728970984220505, accuracy: 0.9157\n",
      "Validation loss: 0.4862793059665946, accuracy: 0.8028\n"
     ]
    },
    {
     "name": "stderr",
     "output_type": "stream",
     "text": [
      "100%|██████████| 625/625 [00:04<00:00, 127.77it/s]\n"
     ]
    },
    {
     "name": "stdout",
     "output_type": "stream",
     "text": [
      "Epoch 16/30:\n",
      "Train loss: 0.1964857561022043, accuracy: 0.9269\n",
      "Validation loss: 0.5085276346417922, accuracy: 0.7968\n"
     ]
    },
    {
     "name": "stderr",
     "output_type": "stream",
     "text": [
      "100%|██████████| 625/625 [00:04<00:00, 127.60it/s]\n"
     ]
    },
    {
     "name": "stdout",
     "output_type": "stream",
     "text": [
      "Epoch 17/30:\n",
      "Train loss: 0.17348685811460018, accuracy: 0.93425\n",
      "Validation loss: 0.5190784491221362, accuracy: 0.81\n"
     ]
    },
    {
     "name": "stderr",
     "output_type": "stream",
     "text": [
      "100%|██████████| 625/625 [00:04<00:00, 127.64it/s]\n"
     ]
    },
    {
     "name": "stdout",
     "output_type": "stream",
     "text": [
      "Epoch 18/30:\n",
      "Train loss: 0.15184055687189102, accuracy: 0.94305\n",
      "Validation loss: 0.7075642411467395, accuracy: 0.7992\n"
     ]
    },
    {
     "name": "stderr",
     "output_type": "stream",
     "text": [
      "100%|██████████| 625/625 [00:04<00:00, 127.36it/s]\n"
     ]
    },
    {
     "name": "stdout",
     "output_type": "stream",
     "text": [
      "Epoch 19/30:\n",
      "Train loss: 0.13533592463582755, accuracy: 0.95035\n",
      "Validation loss: 0.6296741623855844, accuracy: 0.8016\n"
     ]
    },
    {
     "name": "stderr",
     "output_type": "stream",
     "text": [
      "100%|██████████| 625/625 [00:04<00:00, 127.21it/s]\n"
     ]
    },
    {
     "name": "stdout",
     "output_type": "stream",
     "text": [
      "Epoch 20/30:\n",
      "Train loss: 0.11493780810385942, accuracy: 0.96005\n",
      "Validation loss: 0.7154602220494158, accuracy: 0.8068\n"
     ]
    },
    {
     "name": "stderr",
     "output_type": "stream",
     "text": [
      "100%|██████████| 625/625 [00:04<00:00, 127.49it/s]\n"
     ]
    },
    {
     "name": "stdout",
     "output_type": "stream",
     "text": [
      "Epoch 21/30:\n",
      "Train loss: 0.09951924997791647, accuracy: 0.9665\n",
      "Validation loss: 0.704832755312135, accuracy: 0.7996\n"
     ]
    },
    {
     "name": "stderr",
     "output_type": "stream",
     "text": [
      "100%|██████████| 625/625 [00:04<00:00, 127.12it/s]\n"
     ]
    },
    {
     "name": "stdout",
     "output_type": "stream",
     "text": [
      "Epoch 22/30:\n",
      "Train loss: 0.08230414894968271, accuracy: 0.97275\n",
      "Validation loss: 0.8470557042503659, accuracy: 0.7936\n"
     ]
    },
    {
     "name": "stderr",
     "output_type": "stream",
     "text": [
      "100%|██████████| 625/625 [00:04<00:00, 125.52it/s]\n"
     ]
    },
    {
     "name": "stdout",
     "output_type": "stream",
     "text": [
      "Epoch 23/30:\n",
      "Train loss: 0.07826086411625147, accuracy: 0.9737\n",
      "Validation loss: 0.895572836655251, accuracy: 0.7964\n"
     ]
    },
    {
     "name": "stderr",
     "output_type": "stream",
     "text": [
      "100%|██████████| 625/625 [00:04<00:00, 126.21it/s]\n"
     ]
    },
    {
     "name": "stdout",
     "output_type": "stream",
     "text": [
      "Epoch 24/30:\n",
      "Train loss: 0.06172826825529337, accuracy: 0.98045\n",
      "Validation loss: 0.974972137167484, accuracy: 0.7928\n"
     ]
    },
    {
     "name": "stderr",
     "output_type": "stream",
     "text": [
      "100%|██████████| 625/625 [00:05<00:00, 124.55it/s]\n"
     ]
    },
    {
     "name": "stdout",
     "output_type": "stream",
     "text": [
      "Epoch 25/30:\n",
      "Train loss: 0.0631444992467761, accuracy: 0.98045\n",
      "Validation loss: 1.0050313963165767, accuracy: 0.7948\n"
     ]
    },
    {
     "name": "stderr",
     "output_type": "stream",
     "text": [
      "100%|██████████| 625/625 [00:04<00:00, 127.00it/s]\n"
     ]
    },
    {
     "name": "stdout",
     "output_type": "stream",
     "text": [
      "Epoch 26/30:\n",
      "Train loss: 0.059063076863996686, accuracy: 0.98035\n",
      "Validation loss: 0.9786750321582998, accuracy: 0.7952\n"
     ]
    },
    {
     "name": "stderr",
     "output_type": "stream",
     "text": [
      "100%|██████████| 625/625 [00:04<00:00, 127.09it/s]\n"
     ]
    },
    {
     "name": "stdout",
     "output_type": "stream",
     "text": [
      "Epoch 27/30:\n",
      "Train loss: 0.044029815273266285, accuracy: 0.98625\n",
      "Validation loss: 1.0238803677921053, accuracy: 0.7968\n"
     ]
    },
    {
     "name": "stderr",
     "output_type": "stream",
     "text": [
      "100%|██████████| 625/625 [00:04<00:00, 127.00it/s]\n"
     ]
    },
    {
     "name": "stdout",
     "output_type": "stream",
     "text": [
      "Epoch 28/30:\n",
      "Train loss: 0.04277586432769895, accuracy: 0.9861\n",
      "Validation loss: 1.1096447479875782, accuracy: 0.8052\n"
     ]
    },
    {
     "name": "stderr",
     "output_type": "stream",
     "text": [
      "100%|██████████| 625/625 [00:04<00:00, 126.77it/s]\n"
     ]
    },
    {
     "name": "stdout",
     "output_type": "stream",
     "text": [
      "Epoch 29/30:\n",
      "Train loss: 0.04791030906289816, accuracy: 0.98415\n",
      "Validation loss: 1.0773710168992416, accuracy: 0.7972\n"
     ]
    },
    {
     "name": "stderr",
     "output_type": "stream",
     "text": [
      "100%|██████████| 625/625 [00:04<00:00, 125.89it/s]\n"
     ]
    },
    {
     "name": "stdout",
     "output_type": "stream",
     "text": [
      "Epoch 30/30:\n",
      "Train loss: 0.036196575312688946, accuracy: 0.9891\n",
      "Validation loss: 0.9951119766794617, accuracy: 0.7928\n"
     ]
    }
   ],
   "source": [
    "model = RecurrentClassificationModelLSTM(vocab_size=10000, embed_size=300, maxlen=1000, hidden_size=64)\n",
    "model.set_embedding(embedding_matrix)\n",
    "\n",
    "criterion = nn.BCELoss()\n",
    "optimizer = optim.Adam(model.parameters(), lr=0.0005)\n",
    "accuracy_history, loss_history, val_accuracy_history, val_loss_history = train_model(model, criterion, optimizer, train_loader, validation_loader)"
   ]
  },
  {
   "cell_type": "code",
   "execution_count": 86,
   "metadata": {},
   "outputs": [
    {
     "data": {
      "image/png": "[encoded data removed]",
      "text/plain": [
       "<Figure size 640x480 with 1 Axes>"
      ]
     },
     "metadata": {},
     "output_type": "display_data"
    },
    {
     "data": {
      "image/png": "[encoded data removed]",
      "text/plain": [
       "<Figure size 640x480 with 1 Axes>"
      ]
     },
     "metadata": {},
     "output_type": "display_data"
    }
   ],
   "source": [
    "plot_history(accuracy_history, loss_history, val_accuracy_history, val_loss_history)"
   ]
  },
  {
   "cell_type": "markdown",
   "metadata": {},
   "source": [
    "# <a id='toc3_'></a>[Conclusion](#toc0_)"
   ]
  },
  {
   "cell_type": "markdown",
   "metadata": {},
   "source": [
    "In this notebook, I again decided in favour of implementing the whole thing in PyTorch. In order to get satisfactory accuracy, this task proved to be a bit more challenging than I anticipated, but in the end I managed to get a decent result. This being said, I am not entirely satisfied with the result, but I am happy with the knowledge I gained in the process.\n",
    "\n",
    "Stuff I've learned:\n",
    "- PyTorch practice\n",
    "- Embeddings and how to use them\n",
    "- Embedded layers in PyTorch\n",
    "- LSTM (what it is and how to use it)"
   ]
  }
 ],
 "metadata": {
  "kernelspec": {
   "display_name": ".venv",
   "language": "python",
   "name": "python3"
  },
  "language_info": {
   "codemirror_mode": {
    "name": "ipython",
    "version": 3
   },
   "file_extension": ".py",
   "mimetype": "text/x-python",
   "name": "python",
   "nbconvert_exporter": "python",
   "pygments_lexer": "ipython3",
   "version": "3.12.2"
  }
 },
 "nbformat": 4,
 "nbformat_minor": 2
}
