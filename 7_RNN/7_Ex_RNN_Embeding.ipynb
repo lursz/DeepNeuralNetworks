{
 "cells": [
  {
   "cell_type": "markdown",
   "metadata": {},
   "source": [
    "**Table of contents**<a id='toc0_'></a>    \n",
    "- [Imports](#toc1_1_)    \n",
    "  - [Visualize the data](#toc1_2_)    \n",
    "  - [Prepare data](#toc1_3_)    \n",
    "    - [Files operations](#toc1_3_1_)    \n",
    "    - [Data operations](#toc1_3_2_)    \n",
    "    - [Train / test / validation split](#toc1_3_3_)    \n",
    "    - [Dataloaders](#toc1_3_4_)    \n",
    "  - [Model](#toc1_4_)    \n",
    "- [Instances](#toc2_)    \n",
    "\n",
    "<!-- vscode-jupyter-toc-config\n",
    "\tnumbering=false\n",
    "\tanchor=true\n",
    "\tflat=false\n",
    "\tminLevel=1\n",
    "\tmaxLevel=6\n",
    "\t/vscode-jupyter-toc-config -->\n",
    "<!-- THIS CELL WILL BE REPLACED ON TOC UPDATE. DO NOT WRITE YOUR TEXT IN THIS CELL -->"
   ]
  },
  {
   "cell_type": "markdown",
   "metadata": {},
   "source": [
    "## <a id='toc1_1_'></a>[Imports](#toc0_)"
   ]
  },
  {
   "cell_type": "code",
   "execution_count": 214,
   "metadata": {},
   "outputs": [
    {
     "data": {
      "text/plain": [
       "True"
      ]
     },
     "execution_count": 214,
     "metadata": {},
     "output_type": "execute_result"
    }
   ],
   "source": [
    "import torch\n",
    "from torch import nn\n",
    "from torch import Tensor\n",
    "import torch.optim as optim\n",
    "from tqdm import tqdm\n",
    "import torchtext\n",
    "import torchtext.data\n",
    "import re\n",
    "\n",
    "torch.cuda.is_available()"
   ]
  },
  {
   "cell_type": "code",
   "execution_count": 215,
   "metadata": {},
   "outputs": [],
   "source": [
    "from torchnlp.encoders.text import StaticTokenizerEncoder\n",
    "import matplotlib.pyplot as plt\n",
    "import numpy as np\n",
    "from torch.utils.data import Dataset, DataLoader\n",
    "import cv2\n",
    "import os"
   ]
  },
  {
   "cell_type": "code",
   "execution_count": 216,
   "metadata": {},
   "outputs": [
    {
     "name": "stdout",
     "output_type": "stream",
     "text": [
      "Using device: cuda\n"
     ]
    }
   ],
   "source": [
    "device = torch.device(\"cuda\" if torch.cuda.is_available() else \"cpu\")\n",
    "print(f\"Using device: {device}\")"
   ]
  },
  {
   "cell_type": "markdown",
   "metadata": {},
   "source": [
    "## <a id='toc1_2_'></a>[Visualize the data](#toc0_)"
   ]
  },
  {
   "cell_type": "code",
   "execution_count": 217,
   "metadata": {},
   "outputs": [],
   "source": [
    "import matplotlib.pyplot as plt\n",
    "\n",
    "def plot_history(train_acc_history, train_loss_history, val_acc_history, val_loss_history):\n",
    "    epochs = range(1, len(train_loss_history) + 1)\n",
    "    \n",
    "    # Loss\n",
    "    plt.figure(1)\n",
    "    plt.plot(epochs, train_loss_history, 'b', label='Training loss (' + str(format(train_loss_history[-1], '.5f')) + ')')\n",
    "    plt.plot(epochs, val_loss_history, 'g', label='Validation loss (' + str(format(val_loss_history[-1], '.5f')) + ')')\n",
    "    \n",
    "    plt.title('Loss')\n",
    "    plt.xlabel('Epochs')\n",
    "    plt.ylabel('Loss')\n",
    "    plt.legend()\n",
    "    \n",
    "    # Accuracy\n",
    "    plt.figure(2)\n",
    "    plt.plot(epochs, train_acc_history, 'b', label='Training accuracy (' + str(format(train_acc_history[-1], '.5f')) + ')')\n",
    "    plt.plot(epochs, val_acc_history, 'g', label='Validation accuracy (' + str(format(val_acc_history[-1], '.5f')) + ')')\n",
    "\n",
    "    plt.title('Accuracy')\n",
    "    plt.xlabel('Epochs')\n",
    "    plt.ylabel('Accuracy')\n",
    "    plt.legend()\n",
    "    plt.show()\n"
   ]
  },
  {
   "cell_type": "markdown",
   "metadata": {},
   "source": [
    "## <a id='toc1_3_'></a>[Prepare data](#toc0_)"
   ]
  },
  {
   "cell_type": "markdown",
   "metadata": {},
   "source": [
    "### <a id='toc1_3_1_'></a>[Files operations](#toc0_)"
   ]
  },
  {
   "cell_type": "code",
   "execution_count": 218,
   "metadata": {},
   "outputs": [],
   "source": [
    "def read_glove_file(path: str) -> dict[str, np.ndarray]:\n",
    "    embeddings: dict = {}\n",
    "    f = open(path, encoding =\"utf8\")\n",
    "    for line in f:\n",
    "        values = line.split()\n",
    "        word = values[0]\n",
    "        coefs = np.asarray(values[1:], dtype='float32')\n",
    "        embeddings[word] = coefs\n",
    "    f.close()\n",
    "\n",
    "    print('Found %s word vectors.' % len(embeddings))\n",
    "\n",
    "    return embeddings"
   ]
  },
  {
   "cell_type": "code",
   "execution_count": 219,
   "metadata": {},
   "outputs": [],
   "source": [
    "def read_imdb() -> tuple[list[str], list[int]]:\n",
    "    imdb_dir = 'kaggle/Imdb/'\n",
    "    train_dir = imdb_dir + 'train/'\n",
    "\n",
    "    labels = []\n",
    "    texts = []\n",
    "\n",
    "    for label_type in ['neg', 'pos']:\n",
    "        dir_name = train_dir + label_type\n",
    "        for fname in os.listdir(dir_name):\n",
    "            if fname[-4:] == '.txt':\n",
    "                f = open(os.path.join(dir_name, fname), encoding =\"utf8\")\n",
    "                texts.append(f.read())\n",
    "                f.close()\n",
    "                if label_type == 'neg':\n",
    "                    labels.append(0)\n",
    "                else:\n",
    "                    labels.append(1)\n",
    "\n",
    "    return texts, labels"
   ]
  },
  {
   "cell_type": "code",
   "execution_count": 220,
   "metadata": {},
   "outputs": [
    {
     "name": "stdout",
     "output_type": "stream",
     "text": [
      "Found 1193514 word vectors.\n"
     ]
    }
   ],
   "source": [
    "embeddings = read_glove_file('kaggle/glove.twitter.27B/glove.twitter.27B.50d.txt')\n",
    "texts, labels = read_imdb()"
   ]
  },
  {
   "cell_type": "markdown",
   "metadata": {},
   "source": [
    "### <a id='toc1_3_2_'></a>[Data operations](#toc0_)"
   ]
  },
  {
   "cell_type": "code",
   "execution_count": 221,
   "metadata": {},
   "outputs": [],
   "source": [
    "def texts_to_sequences(texts: list[str], maxlen: int, max_words: int) -> tuple[torch.Tensor, dict[any, int]]:\n",
    "    tokenizer = StaticTokenizerEncoder(texts, tokenize=lambda s: re.findall(r'([a-zA-Z0-9]+|[\\.,;\\/\\\\\\'])', s), min_occurrences=1)\n",
    "    \n",
    "    sequences = [tokenizer.encode(text) for text in texts]\n",
    "    word_index = tokenizer.vocab\n",
    "    word_index_dict = {word: index for index, word in enumerate(word_index)}\n",
    "    index_word = {index: word for word, index in word_index_dict.items()}\n",
    "    \n",
    "    sequences = [[word for word in seq if index_word[word.item()] in embeddings] for seq in sequences]\n",
    "    \n",
    "    data = torch.zeros((len(sequences), maxlen), dtype=torch.long)\n",
    "    \n",
    "    for i, seq in enumerate(sequences):\n",
    "        for j, word in enumerate(seq):            \n",
    "            if j >= maxlen:\n",
    "                break\n",
    "            if word < max_words:\n",
    "                data[i, j] = word\n",
    "            else:\n",
    "                data[i, j] = 0\n",
    "\n",
    "    print([index_word[word.item()] for word in data[0] if word != 0])\n",
    "                \n",
    "    return data, word_index_dict"
   ]
  },
  {
   "cell_type": "code",
   "execution_count": 222,
   "metadata": {},
   "outputs": [],
   "source": [
    "def get_embedding_matrix(max_words: int, embedding_index: dict[str, np.ndarray], word_index: dict[any, int]) -> np.ndarray:\n",
    "    embedding_dimension = embedding_index.get('the').shape[0]\n",
    "\n",
    "    embedding_matrix = np.zeros((max_words, embedding_dimension))\n",
    "    for word, i in word_index.items():\n",
    "        if i < max_words:\n",
    "            embedding_vector = embedding_index.get(word)\n",
    "            if embedding_vector is not None:\n",
    "                # Words not found in embedding index will be all-zeros.\n",
    "                embedding_matrix[i] = embedding_vector\n",
    "    return embedding_matrix"
   ]
  },
  {
   "cell_type": "code",
   "execution_count": 223,
   "metadata": {},
   "outputs": [],
   "source": [
    "def split_data(data: np.ndarray, labels: list[int], train_part: float, validation_part: float) -> tuple[np.ndarray, np.ndarray, np.ndarray, np.ndarray, np.ndarray, np.ndarray]:\n",
    "    labels = np.asarray(labels)\n",
    "\n",
    "    data_size = data.shape[0]\n",
    "    train_size = int(data_size * train_part)\n",
    "    validation_size = int(data_size * validation_part)\n",
    "    test_size = data_size - train_size - validation_size\n",
    "\n",
    "    indices = np.arange(data_size)\n",
    "    np.random.shuffle(indices)\n",
    "\n",
    "    train_indices = indices[:train_size]\n",
    "    validation_indices = indices[train_size:train_size + validation_size]\n",
    "    test_indices = indices[train_size + validation_size:]\n",
    "\n",
    "    train_data = data[train_indices]\n",
    "    validation_data = data[validation_indices]\n",
    "    test_data = data[test_indices]\n",
    "\n",
    "    train_labels = labels[train_indices]\n",
    "    validation_labels = labels[validation_indices]\n",
    "    test_labels = labels[test_indices]\n",
    "\n",
    "    print(f\"Train data size: {train_data.shape[0]}\")\n",
    "    print(f\"Validation data size: {validation_data.shape[0]}\")\n",
    "    print(f\"Test data size: {test_data.shape[0]}\")\n",
    "\n",
    "    return train_data, validation_data, test_data, train_labels, validation_labels, test_labels"
   ]
  },
  {
   "cell_type": "markdown",
   "metadata": {},
   "source": [
    "### <a id='toc1_3_3_'></a>[Train / test / validation split](#toc0_)"
   ]
  },
  {
   "cell_type": "code",
   "execution_count": 224,
   "metadata": {},
   "outputs": [],
   "source": [
    "def prepare_data_for_model(maxlen: int, max_words: int, embeddings: dict[str, np.ndarray], texts: list[str], labels: list[int], train_part: float, validation_part: float) -> tuple[torch.Tensor, torch.Tensor, torch.Tensor, torch.Tensor, torch.Tensor, torch.Tensor, dict[any, int], np.ndarray]:\n",
    "    data, word_index = texts_to_sequences(texts, maxlen=maxlen, max_words=max_words)\n",
    "    embedding_matrix = get_embedding_matrix(max_words, embeddings, word_index)\n",
    "    train_data, validation_data, test_data, train_labels, validation_labels, test_labels = split_data(data, labels, train_part, validation_part)\n",
    "    return train_data, validation_data, test_data, train_labels, validation_labels, test_labels, word_index, embedding_matrix\n"
   ]
  },
  {
   "cell_type": "code",
   "execution_count": 225,
   "metadata": {},
   "outputs": [
    {
     "name": "stdout",
     "output_type": "stream",
     "text": [
      "['cannot', 'for', 'the', 'life', 'of', 'me', 'explain', 'what', 'the', 'popularity', 'of', 'the', 'children', \"'\", 's', 'television', 'show', ',', 'power', 'rangers', 'is', 'all', 'about', '.', 'br', '/', 'br', '/', 'never', 'understood', 'why', 'unsuspecting', 'children', 'liked', 'this', 'show', 'in', 'the', 'first', 'place', ',', 'since', 'the', 'characters', 'seem', 'so', 'idiotic', 'and', 'not', 'worth', 'caring', 'about', 'whatsoever', '.', 'br', '/', 'br', '/', 'costumes', 'look', 'completely', 'atrocious', ',', 'like', 'multi', 'colored', 'spandex', 'that', 'people', 'wear', 'to', 'go', 'to', 'the', 'gym', '.', 'br', '/', 'br', '/', 'exactly', 'is', 'the', 'purpose', 'of', 'this', 'show', 'anyways', ',', 'but', 'for', 'kids', 'to', 'learn', 'how', 'to', 'fight', 'to', 'solve', 'their']\n",
      "Train data size: 20000\n",
      "Validation data size: 2500\n",
      "Test data size: 2500\n"
     ]
    }
   ],
   "source": [
    "train_data, validation_data, test_data, train_labels, validation_labels, test_labels, word_index, embedding_matrix = prepare_data_for_model(maxlen=100, max_words=10000, embeddings=embeddings, texts=texts, labels=labels, train_part=0.8, validation_part=0.1)"
   ]
  },
  {
   "cell_type": "markdown",
   "metadata": {},
   "source": [
    "### <a id='toc1_3_4_'></a>[Dataloaders](#toc0_)"
   ]
  },
  {
   "cell_type": "code",
   "execution_count": 226,
   "metadata": {},
   "outputs": [],
   "source": [
    "train_dataset = torch.utils.data.TensorDataset(train_data, torch.tensor(train_labels, dtype=torch.long))\n",
    "train_loader = torch.utils.data.DataLoader(train_dataset, batch_size=32, shuffle=True)\n",
    "\n",
    "validation_dataset = torch.utils.data.TensorDataset(validation_data, torch.tensor(validation_labels, dtype=torch.long))\n",
    "validation_loader = torch.utils.data.DataLoader(validation_dataset, batch_size=32, shuffle=True)\n",
    "\n",
    "test_dataset = torch.utils.data.TensorDataset(test_data, torch.tensor(test_labels, dtype=torch.long))\n",
    "test_loader = torch.utils.data.DataLoader(test_dataset, batch_size=32, shuffle=True)"
   ]
  },
  {
   "cell_type": "markdown",
   "metadata": {},
   "source": [
    "## <a id='toc1_4_'></a>[Model](#toc0_)"
   ]
  },
  {
   "cell_type": "code",
   "execution_count": 227,
   "metadata": {},
   "outputs": [],
   "source": [
    "EPOCHS: int = 150"
   ]
  },
  {
   "cell_type": "code",
   "execution_count": 228,
   "metadata": {},
   "outputs": [],
   "source": [
    "class TextClassificationModel(nn.Module):\n",
    "    def __init__(self, vocab_size: int, embed_size: int, maxlen: int):\n",
    "        super(TextClassificationModel, self).__init__()\n",
    "        self.embedding = nn.Embedding(vocab_size, embed_size)\n",
    "        self.conv = nn.Conv1d(embed_size, 16, kernel_size=7)\n",
    "        self.relu = nn.ReLU()\n",
    "        self.pool = nn.MaxPool1d(kernel_size=4)\n",
    "        self.batch_norm = nn.BatchNorm1d(num_features=16)\n",
    "        conv_output_size = (maxlen - 6) // 4\n",
    "        self.flatten = nn.Flatten()\n",
    "        self.dropout = nn.Dropout(0.2)\n",
    "        self.linear = nn.Linear(16 * conv_output_size, 1)\n",
    "        self.sigmoid = nn.Sigmoid()\n",
    "        \n",
    "    def set_embedding(self, embedding_matrix: np.ndarray) -> None:\n",
    "        assert self.embedding.weight.shape == embedding_matrix.shape, \"Embedding matrix shape mismatch\"\n",
    "        self.embedding.weight.data.copy_(torch.from_numpy(embedding_matrix))\n",
    "        self.embedding.weight.requires_grad = False\n",
    "        print(\"Embedding shape:\", self.embedding.weight.data.shape)\n",
    "        \n",
    "    def forward(self, x: Tensor) -> Tensor:\n",
    "        x = self.embedding(x)\n",
    "        x = x.permute(0, 2, 1)  # Change shape to [batch_size, embed_size, seq_len] for Conv1d\n",
    "        x = self.conv(x)\n",
    "        x = self.relu(x)\n",
    "        x = self.pool(x)\n",
    "        x = self.batch_norm(x)\n",
    "        x = self.flatten(x)\n",
    "        x = self.dropout(x)\n",
    "        x = self.linear(x)\n",
    "        x = self.sigmoid(x)\n",
    "        return x"
   ]
  },
  {
   "cell_type": "code",
   "execution_count": 229,
   "metadata": {},
   "outputs": [],
   "source": [
    "class RecurrentClassificationModelLSTM(nn.Module):\n",
    "    def __init__(self, vocab_size: int, embed_size: int, maxlen: int, hidden_size: int):\n",
    "        super(RecurrentClassificationModelLSTM, self).__init__()\n",
    "        self.embedding = nn.Embedding(vocab_size, embed_size)\n",
    "        self.lstm = nn.LSTM(embed_size, hidden_size, num_layers=2, batch_first=True, bidirectional=True)\n",
    "        self.flatten = nn.Flatten()\n",
    "        self.dropout = nn.Dropout(0.025)\n",
    "        self.first_linear = nn.Linear(hidden_size*2, hidden_size*2)\n",
    "        self.relu = nn.ReLU()\n",
    "        self.linear = nn.Linear(hidden_size*2, 1)\n",
    "        self.sigmoid = nn.Sigmoid()\n",
    "        \n",
    "    def set_embedding(self, embedding_matrix: np.ndarray) -> None:\n",
    "        assert self.embedding.weight.shape == embedding_matrix.shape, \"Embedding matrix shape mismatch\"\n",
    "        self.embedding.weight.data.copy_(torch.from_numpy(embedding_matrix))\n",
    "        self.embedding.weight.requires_grad = False\n",
    "        print(\"Embedding shape:\", self.embedding.weight.data.shape)\n",
    "        \n",
    "    def forward(self, x: Tensor) -> Tensor:\n",
    "        x = self.embedding(x)\n",
    "        x, _ = self.lstm(x)\n",
    "        x = x[:, -1, :]\n",
    "        x = self.dropout(x)\n",
    "        x = self.first_linear(x)\n",
    "        x = self.relu(x)\n",
    "        x = self.linear(x)\n",
    "        x = self.sigmoid(x)\n",
    "        return x"
   ]
  },
  {
   "cell_type": "code",
   "execution_count": 230,
   "metadata": {},
   "outputs": [],
   "source": [
    "def train_model(model: nn.Module, criterion: nn.Module, optimizer: optim.Optimizer,\n",
    "                train_loader: torch.utils.data.DataLoader, validation_loader: torch.utils.data.DataLoader) -> tuple[list[float], list[float], list[float], list[float]]:\n",
    "    model.to(device)\n",
    "    criterion.to(device)\n",
    "    accuracy_history: list = []\n",
    "    loss_history: list = []\n",
    "    val_accuracy_history: list = []\n",
    "    val_loss_history: list = []\n",
    "    \n",
    "    print(\"Training model...\")\n",
    "    for epoch in range(EPOCHS):\n",
    "        model.train()\n",
    "        train_loss = 0\n",
    "        correct = 0\n",
    "        total = 0\n",
    "        for data, target in tqdm(train_loader):\n",
    "            data, target = data.to(device), target.to(device)\n",
    "            optimizer.zero_grad()\n",
    "            output = model(data)\n",
    "            loss = criterion(output, target.float().view(-1, 1))\n",
    "            loss.backward()\n",
    "            optimizer.step()\n",
    "            train_loss += loss.item()\n",
    "            predicted = (output > 0.5).float()\n",
    "            total += target.size(0)\n",
    "            correct += (predicted == target.float().view(-1, 1)).sum().item()\n",
    "        accuracy = correct / total\n",
    "        loss_history.append(train_loss / len(train_loader))\n",
    "        accuracy_history.append(accuracy)\n",
    "        \n",
    "        model.eval()\n",
    "        val_loss = 0\n",
    "        correct = 0\n",
    "        total = 0\n",
    "        with torch.no_grad():\n",
    "            for data, target in validation_loader:\n",
    "                data, target = data.to(device), target.to(device)\n",
    "                output = model(data)\n",
    "                loss = criterion(output, target.float().view(-1, 1))\n",
    "                val_loss += loss.item()\n",
    "                predicted = (output > 0.5).float()\n",
    "                total += target.size(0)\n",
    "                correct += (predicted == target.float().view(-1, 1)).sum().item()\n",
    "        val_accuracy = correct / total\n",
    "        val_loss_history.append(val_loss / len(validation_loader))\n",
    "        val_accuracy_history.append(val_accuracy)\n",
    "        \n",
    "        print(f\"Epoch {epoch + 1}/{EPOCHS}:\")\n",
    "        print(f\"Train loss: {loss_history[-1]}, accuracy: {accuracy}\")\n",
    "        print(f\"Validation loss: {val_loss_history[-1]}, accuracy: {val_accuracy}\")\n",
    "        \n",
    "    return accuracy_history, loss_history, val_accuracy_history, val_loss_history\n",
    "        "
   ]
  },
  {
   "cell_type": "code",
   "execution_count": 231,
   "metadata": {},
   "outputs": [],
   "source": [
    "def test_model(model: nn.Module, criterion: nn.Module, test_loader: torch.utils.data.DataLoader) -> tuple[float, float]:\n",
    "    model.to(device)\n",
    "    correct = 0\n",
    "    total = 0\n",
    "    total_loss = 0\n",
    "    model.eval()\n",
    "    for data, target in test_loader:\n",
    "        data, target = data.to(device), target.to(device)\n",
    "        output = model(data)\n",
    "        loss = criterion(output, target.float().view(-1, 1))\n",
    "        total_loss += loss.item()\n",
    "        predicted = (output > 0.5).float()\n",
    "        total += target.size(0)\n",
    "        correct += (predicted == target.float().view(-1, 1)).sum().item()\n",
    "        \n",
    "    accuracy = correct / total\n",
    "    loss = total_loss / len(test_loader)\n",
    "    \n",
    "    print(f\"Test accuracy: {accuracy}\")\n",
    "    print(f\"Test loss: {loss}\")\n",
    "    \n",
    "    return accuracy, loss"
   ]
  },
  {
   "cell_type": "markdown",
   "metadata": {},
   "source": [
    "# <a id='toc2_'></a>[Instances](#toc0_)"
   ]
  },
  {
   "cell_type": "markdown",
   "metadata": {},
   "source": [
    "## Glove Twitter"
   ]
  },
  {
   "cell_type": "code",
   "execution_count": 232,
   "metadata": {},
   "outputs": [
    {
     "name": "stdout",
     "output_type": "stream",
     "text": [
      "Embedding shape: torch.Size([10000, 50])\n",
      "Training model...\n"
     ]
    },
    {
     "name": "stderr",
     "output_type": "stream",
     "text": [
      "  0%|          | 0/625 [00:00<?, ?it/s]"
     ]
    },
    {
     "name": "stderr",
     "output_type": "stream",
     "text": [
      "100%|██████████| 625/625 [00:03<00:00, 184.41it/s]\n"
     ]
    },
    {
     "name": "stdout",
     "output_type": "stream",
     "text": [
      "Epoch 1/150:\n",
      "Train loss: 0.683684861087799, accuracy: 0.55165\n",
      "Validation loss: 0.6348005329506307, accuracy: 0.6552\n"
     ]
    },
    {
     "name": "stderr",
     "output_type": "stream",
     "text": [
      "100%|██████████| 625/625 [00:03<00:00, 180.20it/s]\n"
     ]
    },
    {
     "name": "stdout",
     "output_type": "stream",
     "text": [
      "Epoch 2/150:\n",
      "Train loss: 0.631282145690918, accuracy: 0.65155\n",
      "Validation loss: 0.5937699200231817, accuracy: 0.6852\n"
     ]
    },
    {
     "name": "stderr",
     "output_type": "stream",
     "text": [
      "100%|██████████| 625/625 [00:05<00:00, 105.64it/s]\n"
     ]
    },
    {
     "name": "stdout",
     "output_type": "stream",
     "text": [
      "Epoch 3/150:\n",
      "Train loss: 0.5824875370979309, accuracy: 0.6958\n",
      "Validation loss: 0.5723428850687002, accuracy: 0.7\n"
     ]
    },
    {
     "name": "stderr",
     "output_type": "stream",
     "text": [
      "100%|██████████| 625/625 [00:03<00:00, 184.61it/s]\n"
     ]
    },
    {
     "name": "stdout",
     "output_type": "stream",
     "text": [
      "Epoch 4/150:\n",
      "Train loss: 0.5633436685562134, accuracy: 0.70635\n",
      "Validation loss: 0.5573178386386437, accuracy: 0.7108\n"
     ]
    },
    {
     "name": "stderr",
     "output_type": "stream",
     "text": [
      "100%|██████████| 625/625 [00:03<00:00, 193.91it/s]\n"
     ]
    },
    {
     "name": "stdout",
     "output_type": "stream",
     "text": [
      "Epoch 5/150:\n",
      "Train loss: 0.5411546938419342, accuracy: 0.7268\n",
      "Validation loss: 0.5455240241334408, accuracy: 0.7228\n"
     ]
    },
    {
     "name": "stderr",
     "output_type": "stream",
     "text": [
      "100%|██████████| 625/625 [00:03<00:00, 183.16it/s]\n"
     ]
    },
    {
     "name": "stdout",
     "output_type": "stream",
     "text": [
      "Epoch 6/150:\n",
      "Train loss: 0.5300639859199524, accuracy: 0.7357\n",
      "Validation loss: 0.5603900627244877, accuracy: 0.7164\n"
     ]
    },
    {
     "name": "stderr",
     "output_type": "stream",
     "text": [
      "100%|██████████| 625/625 [00:03<00:00, 174.50it/s]\n"
     ]
    },
    {
     "name": "stdout",
     "output_type": "stream",
     "text": [
      "Epoch 7/150:\n",
      "Train loss: 0.5241077482700348, accuracy: 0.7408\n",
      "Validation loss: 0.5283996193092081, accuracy: 0.728\n"
     ]
    },
    {
     "name": "stderr",
     "output_type": "stream",
     "text": [
      "100%|██████████| 625/625 [00:03<00:00, 166.72it/s]\n"
     ]
    },
    {
     "name": "stdout",
     "output_type": "stream",
     "text": [
      "Epoch 8/150:\n",
      "Train loss: 0.5142561960220337, accuracy: 0.74645\n",
      "Validation loss: 0.5504490797278248, accuracy: 0.7272\n"
     ]
    },
    {
     "name": "stderr",
     "output_type": "stream",
     "text": [
      "100%|██████████| 625/625 [00:03<00:00, 175.84it/s]\n"
     ]
    },
    {
     "name": "stdout",
     "output_type": "stream",
     "text": [
      "Epoch 9/150:\n",
      "Train loss: 0.5085338361740113, accuracy: 0.74945\n",
      "Validation loss: 0.5103988504107995, accuracy: 0.74\n"
     ]
    },
    {
     "name": "stderr",
     "output_type": "stream",
     "text": [
      "100%|██████████| 625/625 [00:03<00:00, 185.54it/s]\n"
     ]
    },
    {
     "name": "stdout",
     "output_type": "stream",
     "text": [
      "Epoch 10/150:\n",
      "Train loss: 0.5053895930290222, accuracy: 0.7512\n",
      "Validation loss: 0.5114899317297754, accuracy: 0.7452\n"
     ]
    },
    {
     "name": "stderr",
     "output_type": "stream",
     "text": [
      "100%|██████████| 625/625 [00:03<00:00, 185.92it/s]\n"
     ]
    },
    {
     "name": "stdout",
     "output_type": "stream",
     "text": [
      "Epoch 11/150:\n",
      "Train loss: 0.4968418481349945, accuracy: 0.7573\n",
      "Validation loss: 0.5033888126475902, accuracy: 0.7524\n"
     ]
    },
    {
     "name": "stderr",
     "output_type": "stream",
     "text": [
      "100%|██████████| 625/625 [00:06<00:00, 102.28it/s]\n"
     ]
    },
    {
     "name": "stdout",
     "output_type": "stream",
     "text": [
      "Epoch 12/150:\n",
      "Train loss: 0.49303213748931884, accuracy: 0.75915\n",
      "Validation loss: 0.5014739496798455, accuracy: 0.7516\n"
     ]
    },
    {
     "name": "stderr",
     "output_type": "stream",
     "text": [
      "100%|██████████| 625/625 [00:03<00:00, 180.96it/s]\n"
     ]
    },
    {
     "name": "stdout",
     "output_type": "stream",
     "text": [
      "Epoch 13/150:\n",
      "Train loss: 0.4890001173734665, accuracy: 0.7624\n",
      "Validation loss: 0.5084426248375373, accuracy: 0.752\n"
     ]
    },
    {
     "name": "stderr",
     "output_type": "stream",
     "text": [
      "100%|██████████| 625/625 [00:03<00:00, 183.48it/s]\n"
     ]
    },
    {
     "name": "stdout",
     "output_type": "stream",
     "text": [
      "Epoch 14/150:\n",
      "Train loss: 0.48466802909374235, accuracy: 0.76265\n",
      "Validation loss: 0.4894908104516283, accuracy: 0.7536\n"
     ]
    },
    {
     "name": "stderr",
     "output_type": "stream",
     "text": [
      "100%|██████████| 625/625 [00:03<00:00, 193.33it/s]\n"
     ]
    },
    {
     "name": "stdout",
     "output_type": "stream",
     "text": [
      "Epoch 15/150:\n",
      "Train loss: 0.47972809438705444, accuracy: 0.7676\n",
      "Validation loss: 0.5034993147548241, accuracy: 0.7612\n"
     ]
    },
    {
     "name": "stderr",
     "output_type": "stream",
     "text": [
      "100%|██████████| 625/625 [00:03<00:00, 191.61it/s]\n"
     ]
    },
    {
     "name": "stdout",
     "output_type": "stream",
     "text": [
      "Epoch 16/150:\n",
      "Train loss: 0.47677131762504577, accuracy: 0.7697\n",
      "Validation loss: 0.47874091659920126, accuracy: 0.7596\n"
     ]
    },
    {
     "name": "stderr",
     "output_type": "stream",
     "text": [
      "100%|██████████| 625/625 [00:03<00:00, 195.99it/s]\n"
     ]
    },
    {
     "name": "stdout",
     "output_type": "stream",
     "text": [
      "Epoch 17/150:\n",
      "Train loss: 0.47045594453811646, accuracy: 0.77405\n",
      "Validation loss: 0.4834033273443391, accuracy: 0.7636\n"
     ]
    },
    {
     "name": "stderr",
     "output_type": "stream",
     "text": [
      "100%|██████████| 625/625 [00:03<00:00, 196.10it/s]\n"
     ]
    },
    {
     "name": "stdout",
     "output_type": "stream",
     "text": [
      "Epoch 18/150:\n",
      "Train loss: 0.46444343688488005, accuracy: 0.7762\n",
      "Validation loss: 0.4706764526759522, accuracy: 0.7732\n"
     ]
    },
    {
     "name": "stderr",
     "output_type": "stream",
     "text": [
      "100%|██████████| 625/625 [00:03<00:00, 195.88it/s]\n"
     ]
    },
    {
     "name": "stdout",
     "output_type": "stream",
     "text": [
      "Epoch 19/150:\n",
      "Train loss: 0.46252358112335207, accuracy: 0.77585\n",
      "Validation loss: 0.48758096408240403, accuracy: 0.7564\n"
     ]
    },
    {
     "name": "stderr",
     "output_type": "stream",
     "text": [
      "100%|██████████| 625/625 [00:03<00:00, 194.71it/s]\n"
     ]
    },
    {
     "name": "stdout",
     "output_type": "stream",
     "text": [
      "Epoch 20/150:\n",
      "Train loss: 0.4572771817207336, accuracy: 0.78025\n",
      "Validation loss: 0.4682891531081139, accuracy: 0.7788\n"
     ]
    },
    {
     "name": "stderr",
     "output_type": "stream",
     "text": [
      "100%|██████████| 625/625 [00:05<00:00, 108.65it/s]\n"
     ]
    },
    {
     "name": "stdout",
     "output_type": "stream",
     "text": [
      "Epoch 21/150:\n",
      "Train loss: 0.4535686535358429, accuracy: 0.78285\n",
      "Validation loss: 0.46872212709505345, accuracy: 0.778\n"
     ]
    },
    {
     "name": "stderr",
     "output_type": "stream",
     "text": [
      "100%|██████████| 625/625 [00:03<00:00, 193.74it/s]\n"
     ]
    },
    {
     "name": "stdout",
     "output_type": "stream",
     "text": [
      "Epoch 22/150:\n",
      "Train loss: 0.4486153437614441, accuracy: 0.7848\n",
      "Validation loss: 0.4794359773020201, accuracy: 0.778\n"
     ]
    },
    {
     "name": "stderr",
     "output_type": "stream",
     "text": [
      "100%|██████████| 625/625 [00:03<00:00, 186.20it/s]\n"
     ]
    },
    {
     "name": "stdout",
     "output_type": "stream",
     "text": [
      "Epoch 23/150:\n",
      "Train loss: 0.44508875293731687, accuracy: 0.7897\n",
      "Validation loss: 0.4605181303959859, accuracy: 0.778\n"
     ]
    },
    {
     "name": "stderr",
     "output_type": "stream",
     "text": [
      "100%|██████████| 625/625 [00:03<00:00, 191.06it/s]\n"
     ]
    },
    {
     "name": "stdout",
     "output_type": "stream",
     "text": [
      "Epoch 24/150:\n",
      "Train loss: 0.442177773976326, accuracy: 0.78815\n",
      "Validation loss: 0.4748249997066546, accuracy: 0.7728\n"
     ]
    },
    {
     "name": "stderr",
     "output_type": "stream",
     "text": [
      "100%|██████████| 625/625 [00:03<00:00, 188.31it/s]\n"
     ]
    },
    {
     "name": "stdout",
     "output_type": "stream",
     "text": [
      "Epoch 25/150:\n",
      "Train loss: 0.4361262937545776, accuracy: 0.79305\n",
      "Validation loss: 0.45449284945107715, accuracy: 0.7844\n"
     ]
    },
    {
     "name": "stderr",
     "output_type": "stream",
     "text": [
      "100%|██████████| 625/625 [00:03<00:00, 188.78it/s]\n"
     ]
    },
    {
     "name": "stdout",
     "output_type": "stream",
     "text": [
      "Epoch 26/150:\n",
      "Train loss: 0.4347693690776825, accuracy: 0.7947\n",
      "Validation loss: 0.49066973637930955, accuracy: 0.7664\n"
     ]
    },
    {
     "name": "stderr",
     "output_type": "stream",
     "text": [
      "100%|██████████| 625/625 [00:03<00:00, 191.61it/s]\n"
     ]
    },
    {
     "name": "stdout",
     "output_type": "stream",
     "text": [
      "Epoch 27/150:\n",
      "Train loss: 0.4291589210033417, accuracy: 0.7972\n",
      "Validation loss: 0.4693860766253894, accuracy: 0.7852\n"
     ]
    },
    {
     "name": "stderr",
     "output_type": "stream",
     "text": [
      "100%|██████████| 625/625 [00:03<00:00, 196.00it/s]\n"
     ]
    },
    {
     "name": "stdout",
     "output_type": "stream",
     "text": [
      "Epoch 28/150:\n",
      "Train loss: 0.42686622178554534, accuracy: 0.79915\n",
      "Validation loss: 0.46624156021619145, accuracy: 0.786\n"
     ]
    },
    {
     "name": "stderr",
     "output_type": "stream",
     "text": [
      "100%|██████████| 625/625 [00:03<00:00, 186.79it/s]\n"
     ]
    },
    {
     "name": "stdout",
     "output_type": "stream",
     "text": [
      "Epoch 29/150:\n",
      "Train loss: 0.42561947104930875, accuracy: 0.79935\n",
      "Validation loss: 0.459527313049081, accuracy: 0.7848\n"
     ]
    },
    {
     "name": "stderr",
     "output_type": "stream",
     "text": [
      "100%|██████████| 625/625 [00:06<00:00, 101.77it/s]\n"
     ]
    },
    {
     "name": "stdout",
     "output_type": "stream",
     "text": [
      "Epoch 30/150:\n",
      "Train loss: 0.42249580023288724, accuracy: 0.80135\n",
      "Validation loss: 0.4493354132658319, accuracy: 0.7888\n"
     ]
    },
    {
     "name": "stderr",
     "output_type": "stream",
     "text": [
      "100%|██████████| 625/625 [00:03<00:00, 180.05it/s]\n"
     ]
    },
    {
     "name": "stdout",
     "output_type": "stream",
     "text": [
      "Epoch 31/150:\n",
      "Train loss: 0.4195244559764862, accuracy: 0.80265\n",
      "Validation loss: 0.4673829769031911, accuracy: 0.7908\n"
     ]
    },
    {
     "name": "stderr",
     "output_type": "stream",
     "text": [
      "100%|██████████| 625/625 [00:03<00:00, 190.76it/s]\n"
     ]
    },
    {
     "name": "stdout",
     "output_type": "stream",
     "text": [
      "Epoch 32/150:\n",
      "Train loss: 0.4213171455860138, accuracy: 0.80355\n",
      "Validation loss: 0.4539312111048759, accuracy: 0.792\n"
     ]
    },
    {
     "name": "stderr",
     "output_type": "stream",
     "text": [
      "100%|██████████| 625/625 [00:03<00:00, 190.52it/s]\n"
     ]
    },
    {
     "name": "stdout",
     "output_type": "stream",
     "text": [
      "Epoch 33/150:\n",
      "Train loss: 0.4153647122383118, accuracy: 0.80655\n",
      "Validation loss: 0.45335047079038016, accuracy: 0.7872\n"
     ]
    },
    {
     "name": "stderr",
     "output_type": "stream",
     "text": [
      "100%|██████████| 625/625 [00:03<00:00, 190.57it/s]\n"
     ]
    },
    {
     "name": "stdout",
     "output_type": "stream",
     "text": [
      "Epoch 34/150:\n",
      "Train loss: 0.4128372054100037, accuracy: 0.80915\n",
      "Validation loss: 0.4558844598411005, accuracy: 0.7872\n"
     ]
    },
    {
     "name": "stderr",
     "output_type": "stream",
     "text": [
      "100%|██████████| 625/625 [00:03<00:00, 167.64it/s]\n"
     ]
    },
    {
     "name": "stdout",
     "output_type": "stream",
     "text": [
      "Epoch 35/150:\n",
      "Train loss: 0.4112238842010498, accuracy: 0.80695\n",
      "Validation loss: 0.4646046757698059, accuracy: 0.7876\n"
     ]
    },
    {
     "name": "stderr",
     "output_type": "stream",
     "text": [
      "100%|██████████| 625/625 [00:03<00:00, 158.73it/s]\n"
     ]
    },
    {
     "name": "stdout",
     "output_type": "stream",
     "text": [
      "Epoch 36/150:\n",
      "Train loss: 0.4096269505739212, accuracy: 0.80825\n",
      "Validation loss: 0.44301169507111177, accuracy: 0.7964\n"
     ]
    },
    {
     "name": "stderr",
     "output_type": "stream",
     "text": [
      "100%|██████████| 625/625 [00:03<00:00, 184.33it/s]\n"
     ]
    },
    {
     "name": "stdout",
     "output_type": "stream",
     "text": [
      "Epoch 37/150:\n",
      "Train loss: 0.4067985600709915, accuracy: 0.809\n",
      "Validation loss: 0.4408225566148758, accuracy: 0.7928\n"
     ]
    },
    {
     "name": "stderr",
     "output_type": "stream",
     "text": [
      "100%|██████████| 625/625 [00:03<00:00, 181.70it/s]\n"
     ]
    },
    {
     "name": "stdout",
     "output_type": "stream",
     "text": [
      "Epoch 38/150:\n",
      "Train loss: 0.4035759737253189, accuracy: 0.8123\n",
      "Validation loss: 0.44457922857018967, accuracy: 0.7972\n"
     ]
    },
    {
     "name": "stderr",
     "output_type": "stream",
     "text": [
      "100%|██████████| 625/625 [00:05<00:00, 104.87it/s]\n"
     ]
    },
    {
     "name": "stdout",
     "output_type": "stream",
     "text": [
      "Epoch 39/150:\n",
      "Train loss: 0.4025053415298462, accuracy: 0.8139\n",
      "Validation loss: 0.43914655265928826, accuracy: 0.7952\n"
     ]
    },
    {
     "name": "stderr",
     "output_type": "stream",
     "text": [
      "100%|██████████| 625/625 [00:03<00:00, 181.69it/s]\n"
     ]
    },
    {
     "name": "stdout",
     "output_type": "stream",
     "text": [
      "Epoch 40/150:\n",
      "Train loss: 0.3981319183349609, accuracy: 0.81435\n",
      "Validation loss: 0.47466142588778387, accuracy: 0.7868\n"
     ]
    },
    {
     "name": "stderr",
     "output_type": "stream",
     "text": [
      "100%|██████████| 625/625 [00:03<00:00, 191.27it/s]\n"
     ]
    },
    {
     "name": "stdout",
     "output_type": "stream",
     "text": [
      "Epoch 41/150:\n",
      "Train loss: 0.3981067170143127, accuracy: 0.815\n",
      "Validation loss: 0.45315842726562594, accuracy: 0.7868\n"
     ]
    },
    {
     "name": "stderr",
     "output_type": "stream",
     "text": [
      "100%|██████████| 625/625 [00:03<00:00, 191.18it/s]\n"
     ]
    },
    {
     "name": "stdout",
     "output_type": "stream",
     "text": [
      "Epoch 42/150:\n",
      "Train loss: 0.39531911203861236, accuracy: 0.8153\n",
      "Validation loss: 0.4445906994463522, accuracy: 0.7976\n"
     ]
    },
    {
     "name": "stderr",
     "output_type": "stream",
     "text": [
      "100%|██████████| 625/625 [00:03<00:00, 192.36it/s]\n"
     ]
    },
    {
     "name": "stdout",
     "output_type": "stream",
     "text": [
      "Epoch 43/150:\n",
      "Train loss: 0.39381876878738403, accuracy: 0.81685\n",
      "Validation loss: 0.4959405849251566, accuracy: 0.7608\n"
     ]
    },
    {
     "name": "stderr",
     "output_type": "stream",
     "text": [
      "100%|██████████| 625/625 [00:03<00:00, 196.47it/s]\n"
     ]
    },
    {
     "name": "stdout",
     "output_type": "stream",
     "text": [
      "Epoch 44/150:\n",
      "Train loss: 0.3917139933347702, accuracy: 0.8191\n",
      "Validation loss: 0.433845976674104, accuracy: 0.7924\n"
     ]
    },
    {
     "name": "stderr",
     "output_type": "stream",
     "text": [
      "100%|██████████| 625/625 [00:03<00:00, 181.05it/s]\n"
     ]
    },
    {
     "name": "stdout",
     "output_type": "stream",
     "text": [
      "Epoch 45/150:\n",
      "Train loss: 0.3889264537096024, accuracy: 0.82085\n",
      "Validation loss: 0.44008372988127453, accuracy: 0.7964\n"
     ]
    },
    {
     "name": "stderr",
     "output_type": "stream",
     "text": [
      "100%|██████████| 625/625 [00:03<00:00, 186.13it/s]\n"
     ]
    },
    {
     "name": "stdout",
     "output_type": "stream",
     "text": [
      "Epoch 46/150:\n",
      "Train loss: 0.3851147874355316, accuracy: 0.82035\n",
      "Validation loss: 0.43401109997796106, accuracy: 0.7988\n"
     ]
    },
    {
     "name": "stderr",
     "output_type": "stream",
     "text": [
      "100%|██████████| 625/625 [00:03<00:00, 178.00it/s]\n"
     ]
    },
    {
     "name": "stdout",
     "output_type": "stream",
     "text": [
      "Epoch 47/150:\n",
      "Train loss: 0.3833110459804535, accuracy: 0.82415\n",
      "Validation loss: 0.44753474713880803, accuracy: 0.8008\n"
     ]
    },
    {
     "name": "stderr",
     "output_type": "stream",
     "text": [
      "100%|██████████| 625/625 [00:05<00:00, 104.36it/s]\n"
     ]
    },
    {
     "name": "stdout",
     "output_type": "stream",
     "text": [
      "Epoch 48/150:\n",
      "Train loss: 0.38622532033920287, accuracy: 0.81955\n",
      "Validation loss: 0.44518515014950233, accuracy: 0.7944\n"
     ]
    },
    {
     "name": "stderr",
     "output_type": "stream",
     "text": [
      "100%|██████████| 625/625 [00:03<00:00, 185.11it/s]\n"
     ]
    },
    {
     "name": "stdout",
     "output_type": "stream",
     "text": [
      "Epoch 49/150:\n",
      "Train loss: 0.37972671790122986, accuracy: 0.8242\n",
      "Validation loss: 0.4303039097333256, accuracy: 0.7964\n"
     ]
    },
    {
     "name": "stderr",
     "output_type": "stream",
     "text": [
      "100%|██████████| 625/625 [00:03<00:00, 192.42it/s]\n"
     ]
    },
    {
     "name": "stdout",
     "output_type": "stream",
     "text": [
      "Epoch 50/150:\n",
      "Train loss: 0.3778416323900223, accuracy: 0.82545\n",
      "Validation loss: 0.42970175022565865, accuracy: 0.7996\n"
     ]
    },
    {
     "name": "stderr",
     "output_type": "stream",
     "text": [
      "100%|██████████| 625/625 [00:03<00:00, 182.09it/s]\n"
     ]
    },
    {
     "name": "stdout",
     "output_type": "stream",
     "text": [
      "Epoch 51/150:\n",
      "Train loss: 0.3766364433526993, accuracy: 0.8277\n",
      "Validation loss: 0.4586105897456785, accuracy: 0.782\n"
     ]
    },
    {
     "name": "stderr",
     "output_type": "stream",
     "text": [
      "100%|██████████| 625/625 [00:03<00:00, 188.18it/s]\n"
     ]
    },
    {
     "name": "stdout",
     "output_type": "stream",
     "text": [
      "Epoch 52/150:\n",
      "Train loss: 0.3727266010642052, accuracy: 0.82795\n",
      "Validation loss: 0.4406539473352553, accuracy: 0.8004\n"
     ]
    },
    {
     "name": "stderr",
     "output_type": "stream",
     "text": [
      "100%|██████████| 625/625 [00:03<00:00, 187.19it/s]\n"
     ]
    },
    {
     "name": "stdout",
     "output_type": "stream",
     "text": [
      "Epoch 53/150:\n",
      "Train loss: 0.37179908287525176, accuracy: 0.8294\n",
      "Validation loss: 0.429804880973659, accuracy: 0.802\n"
     ]
    },
    {
     "name": "stderr",
     "output_type": "stream",
     "text": [
      "100%|██████████| 625/625 [00:03<00:00, 194.41it/s]\n"
     ]
    },
    {
     "name": "stdout",
     "output_type": "stream",
     "text": [
      "Epoch 54/150:\n",
      "Train loss: 0.36780944229364393, accuracy: 0.832\n",
      "Validation loss: 0.4440981834372388, accuracy: 0.7832\n"
     ]
    },
    {
     "name": "stderr",
     "output_type": "stream",
     "text": [
      "100%|██████████| 625/625 [00:03<00:00, 193.18it/s]\n"
     ]
    },
    {
     "name": "stdout",
     "output_type": "stream",
     "text": [
      "Epoch 55/150:\n",
      "Train loss: 0.3673423062324524, accuracy: 0.8316\n",
      "Validation loss: 0.4437064503001261, accuracy: 0.8024\n"
     ]
    },
    {
     "name": "stderr",
     "output_type": "stream",
     "text": [
      "100%|██████████| 625/625 [00:03<00:00, 184.06it/s]\n"
     ]
    },
    {
     "name": "stdout",
     "output_type": "stream",
     "text": [
      "Epoch 56/150:\n",
      "Train loss: 0.3635459284305573, accuracy: 0.83375\n",
      "Validation loss: 0.4321731125252156, accuracy: 0.7996\n"
     ]
    },
    {
     "name": "stderr",
     "output_type": "stream",
     "text": [
      "100%|██████████| 625/625 [00:05<00:00, 104.77it/s]\n"
     ]
    },
    {
     "name": "stdout",
     "output_type": "stream",
     "text": [
      "Epoch 57/150:\n",
      "Train loss: 0.36062939884662626, accuracy: 0.8346\n",
      "Validation loss: 0.44514463049701497, accuracy: 0.7928\n"
     ]
    },
    {
     "name": "stderr",
     "output_type": "stream",
     "text": [
      "100%|██████████| 625/625 [00:03<00:00, 188.54it/s]\n"
     ]
    },
    {
     "name": "stdout",
     "output_type": "stream",
     "text": [
      "Epoch 58/150:\n",
      "Train loss: 0.3602679202795029, accuracy: 0.8341\n",
      "Validation loss: 0.43843375429322445, accuracy: 0.7976\n"
     ]
    },
    {
     "name": "stderr",
     "output_type": "stream",
     "text": [
      "100%|██████████| 625/625 [00:03<00:00, 196.59it/s]\n"
     ]
    },
    {
     "name": "stdout",
     "output_type": "stream",
     "text": [
      "Epoch 59/150:\n",
      "Train loss: 0.357562441444397, accuracy: 0.8331\n",
      "Validation loss: 0.4387953050340278, accuracy: 0.7964\n"
     ]
    },
    {
     "name": "stderr",
     "output_type": "stream",
     "text": [
      "100%|██████████| 625/625 [00:03<00:00, 193.57it/s]\n"
     ]
    },
    {
     "name": "stdout",
     "output_type": "stream",
     "text": [
      "Epoch 60/150:\n",
      "Train loss: 0.3581172602891922, accuracy: 0.83545\n",
      "Validation loss: 0.45244054024732566, accuracy: 0.7884\n"
     ]
    },
    {
     "name": "stderr",
     "output_type": "stream",
     "text": [
      "100%|██████████| 625/625 [00:03<00:00, 192.83it/s]\n"
     ]
    },
    {
     "name": "stdout",
     "output_type": "stream",
     "text": [
      "Epoch 61/150:\n",
      "Train loss: 0.3539215641975403, accuracy: 0.84\n",
      "Validation loss: 0.4576348752915105, accuracy: 0.7856\n"
     ]
    },
    {
     "name": "stderr",
     "output_type": "stream",
     "text": [
      "100%|██████████| 625/625 [00:03<00:00, 193.99it/s]\n"
     ]
    },
    {
     "name": "stdout",
     "output_type": "stream",
     "text": [
      "Epoch 62/150:\n",
      "Train loss: 0.3483222427010536, accuracy: 0.8421\n",
      "Validation loss: 0.4297218789594083, accuracy: 0.7984\n"
     ]
    },
    {
     "name": "stderr",
     "output_type": "stream",
     "text": [
      "100%|██████████| 625/625 [00:03<00:00, 194.54it/s]\n"
     ]
    },
    {
     "name": "stdout",
     "output_type": "stream",
     "text": [
      "Epoch 63/150:\n",
      "Train loss: 0.3502342854619026, accuracy: 0.83825\n",
      "Validation loss: 0.4603820303572884, accuracy: 0.7884\n"
     ]
    },
    {
     "name": "stderr",
     "output_type": "stream",
     "text": [
      "100%|██████████| 625/625 [00:03<00:00, 193.03it/s]\n"
     ]
    },
    {
     "name": "stdout",
     "output_type": "stream",
     "text": [
      "Epoch 64/150:\n",
      "Train loss: 0.34774888882637023, accuracy: 0.84195\n",
      "Validation loss: 0.43506429089775567, accuracy: 0.8\n"
     ]
    },
    {
     "name": "stderr",
     "output_type": "stream",
     "text": [
      "100%|██████████| 625/625 [00:03<00:00, 194.19it/s]\n"
     ]
    },
    {
     "name": "stdout",
     "output_type": "stream",
     "text": [
      "Epoch 65/150:\n",
      "Train loss: 0.34147897758483886, accuracy: 0.8432\n",
      "Validation loss: 0.4795979736726495, accuracy: 0.8032\n"
     ]
    },
    {
     "name": "stderr",
     "output_type": "stream",
     "text": [
      "100%|██████████| 625/625 [00:03<00:00, 157.53it/s]\n"
     ]
    },
    {
     "name": "stdout",
     "output_type": "stream",
     "text": [
      "Epoch 66/150:\n",
      "Train loss: 0.34371594007015227, accuracy: 0.842\n",
      "Validation loss: 0.4605363641358629, accuracy: 0.7952\n"
     ]
    },
    {
     "name": "stderr",
     "output_type": "stream",
     "text": [
      "100%|██████████| 625/625 [00:04<00:00, 130.81it/s]\n"
     ]
    },
    {
     "name": "stdout",
     "output_type": "stream",
     "text": [
      "Epoch 67/150:\n",
      "Train loss: 0.3374335584163666, accuracy: 0.8469\n",
      "Validation loss: 0.4866215390495107, accuracy: 0.796\n"
     ]
    },
    {
     "name": "stderr",
     "output_type": "stream",
     "text": [
      "100%|██████████| 625/625 [00:04<00:00, 135.95it/s]\n"
     ]
    },
    {
     "name": "stdout",
     "output_type": "stream",
     "text": [
      "Epoch 68/150:\n",
      "Train loss: 0.3380949028491974, accuracy: 0.8452\n",
      "Validation loss: 0.4699447258741041, accuracy: 0.798\n"
     ]
    },
    {
     "name": "stderr",
     "output_type": "stream",
     "text": [
      "100%|██████████| 625/625 [00:04<00:00, 136.54it/s]\n"
     ]
    },
    {
     "name": "stdout",
     "output_type": "stream",
     "text": [
      "Epoch 69/150:\n",
      "Train loss: 0.3340805858373642, accuracy: 0.84895\n",
      "Validation loss: 0.45743270784239226, accuracy: 0.7948\n"
     ]
    },
    {
     "name": "stderr",
     "output_type": "stream",
     "text": [
      "100%|██████████| 625/625 [00:04<00:00, 136.12it/s]\n"
     ]
    },
    {
     "name": "stdout",
     "output_type": "stream",
     "text": [
      "Epoch 70/150:\n",
      "Train loss: 0.33450469851493836, accuracy: 0.84885\n",
      "Validation loss: 0.46469942838708056, accuracy: 0.7996\n"
     ]
    },
    {
     "name": "stderr",
     "output_type": "stream",
     "text": [
      "100%|██████████| 625/625 [00:04<00:00, 136.61it/s]\n"
     ]
    },
    {
     "name": "stdout",
     "output_type": "stream",
     "text": [
      "Epoch 71/150:\n",
      "Train loss: 0.326271623980999, accuracy: 0.8519\n",
      "Validation loss: 0.43926602731682834, accuracy: 0.7936\n"
     ]
    },
    {
     "name": "stderr",
     "output_type": "stream",
     "text": [
      "100%|██████████| 625/625 [00:04<00:00, 135.39it/s]\n"
     ]
    },
    {
     "name": "stdout",
     "output_type": "stream",
     "text": [
      "Epoch 72/150:\n",
      "Train loss: 0.33050385237932206, accuracy: 0.8485\n",
      "Validation loss: 0.46183440108088, accuracy: 0.792\n"
     ]
    },
    {
     "name": "stderr",
     "output_type": "stream",
     "text": [
      "100%|██████████| 625/625 [00:07<00:00, 85.57it/s] \n"
     ]
    },
    {
     "name": "stdout",
     "output_type": "stream",
     "text": [
      "Epoch 73/150:\n",
      "Train loss: 0.3233717378735542, accuracy: 0.85375\n",
      "Validation loss: 0.46143312205242204, accuracy: 0.7996\n"
     ]
    },
    {
     "name": "stderr",
     "output_type": "stream",
     "text": [
      "100%|██████████| 625/625 [00:04<00:00, 132.49it/s]\n"
     ]
    },
    {
     "name": "stdout",
     "output_type": "stream",
     "text": [
      "Epoch 74/150:\n",
      "Train loss: 0.3220212428331375, accuracy: 0.85445\n",
      "Validation loss: 0.4705488715745226, accuracy: 0.7864\n"
     ]
    },
    {
     "name": "stderr",
     "output_type": "stream",
     "text": [
      "100%|██████████| 625/625 [00:04<00:00, 136.23it/s]\n"
     ]
    },
    {
     "name": "stdout",
     "output_type": "stream",
     "text": [
      "Epoch 75/150:\n",
      "Train loss: 0.32005402485132217, accuracy: 0.8535\n",
      "Validation loss: 0.4712021422537067, accuracy: 0.7992\n"
     ]
    },
    {
     "name": "stderr",
     "output_type": "stream",
     "text": [
      "100%|██████████| 625/625 [00:04<00:00, 136.23it/s]\n"
     ]
    },
    {
     "name": "stdout",
     "output_type": "stream",
     "text": [
      "Epoch 76/150:\n",
      "Train loss: 0.32016215682029725, accuracy: 0.852\n",
      "Validation loss: 0.5056359484980378, accuracy: 0.7872\n"
     ]
    },
    {
     "name": "stderr",
     "output_type": "stream",
     "text": [
      "100%|██████████| 625/625 [00:04<00:00, 136.48it/s]\n"
     ]
    },
    {
     "name": "stdout",
     "output_type": "stream",
     "text": [
      "Epoch 77/150:\n",
      "Train loss: 0.31676829748153684, accuracy: 0.8539\n",
      "Validation loss: 0.508134882849983, accuracy: 0.784\n"
     ]
    },
    {
     "name": "stderr",
     "output_type": "stream",
     "text": [
      "100%|██████████| 625/625 [00:04<00:00, 136.87it/s]\n"
     ]
    },
    {
     "name": "stdout",
     "output_type": "stream",
     "text": [
      "Epoch 78/150:\n",
      "Train loss: 0.31451228501796724, accuracy: 0.85795\n",
      "Validation loss: 0.47442662715911865, accuracy: 0.7928\n"
     ]
    },
    {
     "name": "stderr",
     "output_type": "stream",
     "text": [
      "100%|██████████| 625/625 [00:03<00:00, 160.85it/s]\n"
     ]
    },
    {
     "name": "stdout",
     "output_type": "stream",
     "text": [
      "Epoch 79/150:\n",
      "Train loss: 0.30972923673391345, accuracy: 0.85665\n",
      "Validation loss: 0.5048987910717349, accuracy: 0.7912\n"
     ]
    },
    {
     "name": "stderr",
     "output_type": "stream",
     "text": [
      "100%|██████████| 625/625 [00:07<00:00, 82.11it/s] \n"
     ]
    },
    {
     "name": "stdout",
     "output_type": "stream",
     "text": [
      "Epoch 80/150:\n",
      "Train loss: 0.3068936048269272, accuracy: 0.8593\n",
      "Validation loss: 0.47308226665364034, accuracy: 0.802\n"
     ]
    },
    {
     "name": "stderr",
     "output_type": "stream",
     "text": [
      "100%|██████████| 625/625 [00:04<00:00, 134.52it/s]\n"
     ]
    },
    {
     "name": "stdout",
     "output_type": "stream",
     "text": [
      "Epoch 81/150:\n",
      "Train loss: 0.3094079973936081, accuracy: 0.859\n",
      "Validation loss: 0.4786392116471182, accuracy: 0.8008\n"
     ]
    },
    {
     "name": "stderr",
     "output_type": "stream",
     "text": [
      "100%|██████████| 625/625 [00:04<00:00, 136.08it/s]\n"
     ]
    },
    {
     "name": "stdout",
     "output_type": "stream",
     "text": [
      "Epoch 82/150:\n",
      "Train loss: 0.30199749686717986, accuracy: 0.864\n",
      "Validation loss: 0.48208348358733744, accuracy: 0.7932\n"
     ]
    },
    {
     "name": "stderr",
     "output_type": "stream",
     "text": [
      "100%|██████████| 625/625 [00:04<00:00, 136.78it/s]\n"
     ]
    },
    {
     "name": "stdout",
     "output_type": "stream",
     "text": [
      "Epoch 83/150:\n",
      "Train loss: 0.29517086508274076, accuracy: 0.86585\n",
      "Validation loss: 0.5222892682009106, accuracy: 0.7932\n"
     ]
    },
    {
     "name": "stderr",
     "output_type": "stream",
     "text": [
      "100%|██████████| 625/625 [00:04<00:00, 137.51it/s]\n"
     ]
    },
    {
     "name": "stdout",
     "output_type": "stream",
     "text": [
      "Epoch 84/150:\n",
      "Train loss: 0.2976083680033684, accuracy: 0.86385\n",
      "Validation loss: 0.48105594270591495, accuracy: 0.7852\n"
     ]
    },
    {
     "name": "stderr",
     "output_type": "stream",
     "text": [
      "100%|██████████| 625/625 [00:04<00:00, 136.18it/s]\n"
     ]
    },
    {
     "name": "stdout",
     "output_type": "stream",
     "text": [
      "Epoch 85/150:\n",
      "Train loss: 0.29640726722478866, accuracy: 0.8645\n",
      "Validation loss: 0.5210195828842211, accuracy: 0.79\n"
     ]
    },
    {
     "name": "stderr",
     "output_type": "stream",
     "text": [
      "100%|██████████| 625/625 [00:04<00:00, 136.18it/s]\n"
     ]
    },
    {
     "name": "stdout",
     "output_type": "stream",
     "text": [
      "Epoch 86/150:\n",
      "Train loss: 0.2939991663455963, accuracy: 0.8664\n",
      "Validation loss: 0.487714805557758, accuracy: 0.7896\n"
     ]
    },
    {
     "name": "stderr",
     "output_type": "stream",
     "text": [
      "100%|██████████| 625/625 [00:07<00:00, 84.16it/s] \n"
     ]
    },
    {
     "name": "stdout",
     "output_type": "stream",
     "text": [
      "Epoch 87/150:\n",
      "Train loss: 0.2860229578852653, accuracy: 0.87015\n",
      "Validation loss: 0.5295075357337541, accuracy: 0.7856\n"
     ]
    },
    {
     "name": "stderr",
     "output_type": "stream",
     "text": [
      "100%|██████████| 625/625 [00:05<00:00, 122.49it/s]\n"
     ]
    },
    {
     "name": "stdout",
     "output_type": "stream",
     "text": [
      "Epoch 88/150:\n",
      "Train loss: 0.2892812208890915, accuracy: 0.86865\n",
      "Validation loss: 0.49559245682969877, accuracy: 0.7892\n"
     ]
    },
    {
     "name": "stderr",
     "output_type": "stream",
     "text": [
      "100%|██████████| 625/625 [00:05<00:00, 113.32it/s]\n"
     ]
    },
    {
     "name": "stdout",
     "output_type": "stream",
     "text": [
      "Epoch 89/150:\n",
      "Train loss: 0.28166639742851257, accuracy: 0.87285\n",
      "Validation loss: 0.5217854627702809, accuracy: 0.7864\n"
     ]
    },
    {
     "name": "stderr",
     "output_type": "stream",
     "text": [
      "100%|██████████| 625/625 [00:05<00:00, 116.59it/s]\n"
     ]
    },
    {
     "name": "stdout",
     "output_type": "stream",
     "text": [
      "Epoch 90/150:\n",
      "Train loss: 0.2938181857347488, accuracy: 0.8681\n",
      "Validation loss: 0.643550068894519, accuracy: 0.7848\n"
     ]
    },
    {
     "name": "stderr",
     "output_type": "stream",
     "text": [
      "100%|██████████| 625/625 [00:05<00:00, 117.98it/s]\n"
     ]
    },
    {
     "name": "stdout",
     "output_type": "stream",
     "text": [
      "Epoch 91/150:\n",
      "Train loss: 0.27802523918151856, accuracy: 0.87575\n",
      "Validation loss: 0.5439172475775585, accuracy: 0.7828\n"
     ]
    },
    {
     "name": "stderr",
     "output_type": "stream",
     "text": [
      "100%|██████████| 625/625 [00:04<00:00, 140.70it/s]\n"
     ]
    },
    {
     "name": "stdout",
     "output_type": "stream",
     "text": [
      "Epoch 92/150:\n",
      "Train loss: 0.2747124007582665, accuracy: 0.87645\n",
      "Validation loss: 0.5147553125891504, accuracy: 0.7872\n"
     ]
    },
    {
     "name": "stderr",
     "output_type": "stream",
     "text": [
      "100%|██████████| 625/625 [00:06<00:00, 97.73it/s] \n"
     ]
    },
    {
     "name": "stdout",
     "output_type": "stream",
     "text": [
      "Epoch 93/150:\n",
      "Train loss: 0.2753389760732651, accuracy: 0.87515\n",
      "Validation loss: 0.52662182589875, accuracy: 0.7872\n"
     ]
    },
    {
     "name": "stderr",
     "output_type": "stream",
     "text": [
      "100%|██████████| 625/625 [00:03<00:00, 189.83it/s]\n"
     ]
    },
    {
     "name": "stdout",
     "output_type": "stream",
     "text": [
      "Epoch 94/150:\n",
      "Train loss: 0.2764479114115238, accuracy: 0.8746\n",
      "Validation loss: 0.49095012096664575, accuracy: 0.7928\n"
     ]
    },
    {
     "name": "stderr",
     "output_type": "stream",
     "text": [
      "100%|██████████| 625/625 [00:03<00:00, 195.00it/s]\n"
     ]
    },
    {
     "name": "stdout",
     "output_type": "stream",
     "text": [
      "Epoch 95/150:\n",
      "Train loss: 0.276247862637043, accuracy: 0.87395\n",
      "Validation loss: 0.5619440826622746, accuracy: 0.79\n"
     ]
    },
    {
     "name": "stderr",
     "output_type": "stream",
     "text": [
      "100%|██████████| 625/625 [00:03<00:00, 202.38it/s]\n"
     ]
    },
    {
     "name": "stdout",
     "output_type": "stream",
     "text": [
      "Epoch 96/150:\n",
      "Train loss: 0.26776532458066943, accuracy: 0.8814\n",
      "Validation loss: 0.5733054278394843, accuracy: 0.772\n"
     ]
    },
    {
     "name": "stderr",
     "output_type": "stream",
     "text": [
      "100%|██████████| 625/625 [00:03<00:00, 202.14it/s]\n"
     ]
    },
    {
     "name": "stdout",
     "output_type": "stream",
     "text": [
      "Epoch 97/150:\n",
      "Train loss: 0.27536646978855134, accuracy: 0.87675\n",
      "Validation loss: 0.5635714847830278, accuracy: 0.7848\n"
     ]
    },
    {
     "name": "stderr",
     "output_type": "stream",
     "text": [
      "100%|██████████| 625/625 [00:03<00:00, 193.85it/s]\n"
     ]
    },
    {
     "name": "stdout",
     "output_type": "stream",
     "text": [
      "Epoch 98/150:\n",
      "Train loss: 0.2640858223795891, accuracy: 0.88205\n",
      "Validation loss: 0.5373425942055786, accuracy: 0.79\n"
     ]
    },
    {
     "name": "stderr",
     "output_type": "stream",
     "text": [
      "100%|██████████| 625/625 [00:03<00:00, 197.08it/s]\n"
     ]
    },
    {
     "name": "stdout",
     "output_type": "stream",
     "text": [
      "Epoch 99/150:\n",
      "Train loss: 0.26540541507005694, accuracy: 0.8812\n",
      "Validation loss: 0.5220548487916777, accuracy: 0.784\n"
     ]
    },
    {
     "name": "stderr",
     "output_type": "stream",
     "text": [
      "100%|██████████| 625/625 [00:03<00:00, 201.54it/s]\n"
     ]
    },
    {
     "name": "stdout",
     "output_type": "stream",
     "text": [
      "Epoch 100/150:\n",
      "Train loss: 0.2590013172745705, accuracy: 0.88425\n",
      "Validation loss: 0.5555424282822428, accuracy: 0.788\n"
     ]
    },
    {
     "name": "stderr",
     "output_type": "stream",
     "text": [
      "100%|██████████| 625/625 [00:03<00:00, 203.66it/s]\n"
     ]
    },
    {
     "name": "stdout",
     "output_type": "stream",
     "text": [
      "Epoch 101/150:\n",
      "Train loss: 0.2537643573284149, accuracy: 0.8859\n",
      "Validation loss: 0.5687431906220279, accuracy: 0.788\n"
     ]
    },
    {
     "name": "stderr",
     "output_type": "stream",
     "text": [
      "100%|██████████| 625/625 [00:03<00:00, 193.81it/s]\n"
     ]
    },
    {
     "name": "stdout",
     "output_type": "stream",
     "text": [
      "Epoch 102/150:\n",
      "Train loss: 0.25115237127542495, accuracy: 0.8882\n",
      "Validation loss: 0.5991835611153252, accuracy: 0.7756\n"
     ]
    },
    {
     "name": "stderr",
     "output_type": "stream",
     "text": [
      "100%|██████████| 625/625 [00:03<00:00, 166.21it/s]\n"
     ]
    },
    {
     "name": "stdout",
     "output_type": "stream",
     "text": [
      "Epoch 103/150:\n",
      "Train loss: 0.2531000031799078, accuracy: 0.88695\n",
      "Validation loss: 0.590631735192824, accuracy: 0.7864\n"
     ]
    },
    {
     "name": "stderr",
     "output_type": "stream",
     "text": [
      "100%|██████████| 625/625 [00:03<00:00, 172.90it/s]\n"
     ]
    },
    {
     "name": "stdout",
     "output_type": "stream",
     "text": [
      "Epoch 104/150:\n",
      "Train loss: 0.24772348032295705, accuracy: 0.88725\n",
      "Validation loss: 0.55986971511871, accuracy: 0.7812\n"
     ]
    },
    {
     "name": "stderr",
     "output_type": "stream",
     "text": [
      "100%|██████████| 625/625 [00:03<00:00, 188.90it/s]\n"
     ]
    },
    {
     "name": "stdout",
     "output_type": "stream",
     "text": [
      "Epoch 105/150:\n",
      "Train loss: 0.24765040566921234, accuracy: 0.8884\n",
      "Validation loss: 0.5608144434569757, accuracy: 0.7888\n"
     ]
    },
    {
     "name": "stderr",
     "output_type": "stream",
     "text": [
      "100%|██████████| 625/625 [00:03<00:00, 190.05it/s]\n"
     ]
    },
    {
     "name": "stdout",
     "output_type": "stream",
     "text": [
      "Epoch 106/150:\n",
      "Train loss: 0.2399649370253086, accuracy: 0.8925\n",
      "Validation loss: 0.593180191667774, accuracy: 0.764\n"
     ]
    },
    {
     "name": "stderr",
     "output_type": "stream",
     "text": [
      "100%|██████████| 625/625 [00:03<00:00, 187.91it/s]\n"
     ]
    },
    {
     "name": "stdout",
     "output_type": "stream",
     "text": [
      "Epoch 107/150:\n",
      "Train loss: 0.24054075181484222, accuracy: 0.89265\n",
      "Validation loss: 0.5794097914160052, accuracy: 0.786\n"
     ]
    },
    {
     "name": "stderr",
     "output_type": "stream",
     "text": [
      "100%|██████████| 625/625 [00:03<00:00, 187.71it/s]\n"
     ]
    },
    {
     "name": "stdout",
     "output_type": "stream",
     "text": [
      "Epoch 108/150:\n",
      "Train loss: 0.2535317999601364, accuracy: 0.88675\n",
      "Validation loss: 0.5637273402837447, accuracy: 0.788\n"
     ]
    },
    {
     "name": "stderr",
     "output_type": "stream",
     "text": [
      "100%|██████████| 625/625 [00:03<00:00, 181.46it/s]\n"
     ]
    },
    {
     "name": "stdout",
     "output_type": "stream",
     "text": [
      "Epoch 109/150:\n",
      "Train loss: 0.23804912596940994, accuracy: 0.8933\n",
      "Validation loss: 0.5793865211779559, accuracy: 0.7768\n"
     ]
    },
    {
     "name": "stderr",
     "output_type": "stream",
     "text": [
      "100%|██████████| 625/625 [00:03<00:00, 194.51it/s]\n"
     ]
    },
    {
     "name": "stdout",
     "output_type": "stream",
     "text": [
      "Epoch 110/150:\n",
      "Train loss: 0.23012006725668907, accuracy: 0.8982\n",
      "Validation loss: 0.5989270717660083, accuracy: 0.7796\n"
     ]
    },
    {
     "name": "stderr",
     "output_type": "stream",
     "text": [
      "100%|██████████| 625/625 [00:06<00:00, 98.75it/s] \n"
     ]
    },
    {
     "name": "stdout",
     "output_type": "stream",
     "text": [
      "Epoch 111/150:\n",
      "Train loss: 0.2428238726437092, accuracy: 0.89175\n",
      "Validation loss: 0.601546933190732, accuracy: 0.7804\n"
     ]
    },
    {
     "name": "stderr",
     "output_type": "stream",
     "text": [
      "100%|██████████| 625/625 [00:03<00:00, 174.54it/s]\n"
     ]
    },
    {
     "name": "stdout",
     "output_type": "stream",
     "text": [
      "Epoch 112/150:\n",
      "Train loss: 0.22826918852925301, accuracy: 0.896\n",
      "Validation loss: 0.6502672818642629, accuracy: 0.7764\n"
     ]
    },
    {
     "name": "stderr",
     "output_type": "stream",
     "text": [
      "100%|██████████| 625/625 [00:03<00:00, 178.86it/s]\n"
     ]
    },
    {
     "name": "stdout",
     "output_type": "stream",
     "text": [
      "Epoch 113/150:\n",
      "Train loss: 0.23884589852690696, accuracy: 0.8914\n",
      "Validation loss: 0.5598953734093075, accuracy: 0.7784\n"
     ]
    },
    {
     "name": "stderr",
     "output_type": "stream",
     "text": [
      "100%|██████████| 625/625 [00:03<00:00, 192.97it/s]\n"
     ]
    },
    {
     "name": "stdout",
     "output_type": "stream",
     "text": [
      "Epoch 114/150:\n",
      "Train loss: 0.23004687414169311, accuracy: 0.89825\n",
      "Validation loss: 0.6296924940204318, accuracy: 0.784\n"
     ]
    },
    {
     "name": "stderr",
     "output_type": "stream",
     "text": [
      "100%|██████████| 625/625 [00:03<00:00, 186.56it/s]\n"
     ]
    },
    {
     "name": "stdout",
     "output_type": "stream",
     "text": [
      "Epoch 115/150:\n",
      "Train loss: 0.24012087403535842, accuracy: 0.89075\n",
      "Validation loss: 0.655721509003941, accuracy: 0.7756\n"
     ]
    },
    {
     "name": "stderr",
     "output_type": "stream",
     "text": [
      "100%|██████████| 625/625 [00:03<00:00, 190.80it/s]\n"
     ]
    },
    {
     "name": "stdout",
     "output_type": "stream",
     "text": [
      "Epoch 116/150:\n",
      "Train loss: 0.24458485244512557, accuracy: 0.89085\n",
      "Validation loss: 0.5442254243394996, accuracy: 0.7804\n"
     ]
    },
    {
     "name": "stderr",
     "output_type": "stream",
     "text": [
      "100%|██████████| 625/625 [00:03<00:00, 187.59it/s]\n"
     ]
    },
    {
     "name": "stdout",
     "output_type": "stream",
     "text": [
      "Epoch 117/150:\n",
      "Train loss: 0.22416504483819008, accuracy: 0.90115\n",
      "Validation loss: 0.5711356077013137, accuracy: 0.7788\n"
     ]
    },
    {
     "name": "stderr",
     "output_type": "stream",
     "text": [
      "100%|██████████| 625/625 [00:03<00:00, 170.46it/s]\n"
     ]
    },
    {
     "name": "stdout",
     "output_type": "stream",
     "text": [
      "Epoch 118/150:\n",
      "Train loss: 0.2179735026240349, accuracy: 0.9014\n",
      "Validation loss: 0.6269302979300294, accuracy: 0.774\n"
     ]
    },
    {
     "name": "stderr",
     "output_type": "stream",
     "text": [
      "100%|██████████| 625/625 [00:03<00:00, 178.91it/s]\n"
     ]
    },
    {
     "name": "stdout",
     "output_type": "stream",
     "text": [
      "Epoch 119/150:\n",
      "Train loss: 0.22136759994029998, accuracy: 0.8995\n",
      "Validation loss: 0.683119545065904, accuracy: 0.7728\n"
     ]
    },
    {
     "name": "stderr",
     "output_type": "stream",
     "text": [
      "100%|██████████| 625/625 [00:06<00:00, 98.36it/s] \n"
     ]
    },
    {
     "name": "stdout",
     "output_type": "stream",
     "text": [
      "Epoch 120/150:\n",
      "Train loss: 0.22063216007947922, accuracy: 0.90235\n",
      "Validation loss: 0.6981710044643546, accuracy: 0.7828\n"
     ]
    },
    {
     "name": "stderr",
     "output_type": "stream",
     "text": [
      "100%|██████████| 625/625 [00:03<00:00, 159.98it/s]\n"
     ]
    },
    {
     "name": "stdout",
     "output_type": "stream",
     "text": [
      "Epoch 121/150:\n",
      "Train loss: 0.22139471339583397, accuracy: 0.90085\n",
      "Validation loss: 0.6747973953621297, accuracy: 0.786\n"
     ]
    },
    {
     "name": "stderr",
     "output_type": "stream",
     "text": [
      "100%|██████████| 625/625 [00:04<00:00, 148.82it/s]\n"
     ]
    },
    {
     "name": "stdout",
     "output_type": "stream",
     "text": [
      "Epoch 122/150:\n",
      "Train loss: 0.2255308417081833, accuracy: 0.8973\n",
      "Validation loss: 0.7193448311543162, accuracy: 0.784\n"
     ]
    },
    {
     "name": "stderr",
     "output_type": "stream",
     "text": [
      "100%|██████████| 625/625 [00:04<00:00, 128.92it/s]\n"
     ]
    },
    {
     "name": "stdout",
     "output_type": "stream",
     "text": [
      "Epoch 123/150:\n",
      "Train loss: 0.20423948281705379, accuracy: 0.90825\n",
      "Validation loss: 0.7336990041068837, accuracy: 0.776\n"
     ]
    },
    {
     "name": "stderr",
     "output_type": "stream",
     "text": [
      "100%|██████████| 625/625 [00:04<00:00, 129.09it/s]\n"
     ]
    },
    {
     "name": "stdout",
     "output_type": "stream",
     "text": [
      "Epoch 124/150:\n",
      "Train loss: 0.19821230131983758, accuracy: 0.9116\n",
      "Validation loss: 0.6763484295033202, accuracy: 0.7684\n"
     ]
    },
    {
     "name": "stderr",
     "output_type": "stream",
     "text": [
      "100%|██████████| 625/625 [00:04<00:00, 133.94it/s]\n"
     ]
    },
    {
     "name": "stdout",
     "output_type": "stream",
     "text": [
      "Epoch 125/150:\n",
      "Train loss: 0.213669088062644, accuracy: 0.9064\n",
      "Validation loss: 0.5530199321764934, accuracy: 0.76\n"
     ]
    },
    {
     "name": "stderr",
     "output_type": "stream",
     "text": [
      "100%|██████████| 625/625 [00:04<00:00, 130.81it/s]\n"
     ]
    },
    {
     "name": "stdout",
     "output_type": "stream",
     "text": [
      "Epoch 126/150:\n",
      "Train loss: 0.2039983455568552, accuracy: 0.91\n",
      "Validation loss: 0.6870137241822255, accuracy: 0.784\n"
     ]
    },
    {
     "name": "stderr",
     "output_type": "stream",
     "text": [
      "100%|██████████| 625/625 [00:07<00:00, 81.42it/s] \n"
     ]
    },
    {
     "name": "stdout",
     "output_type": "stream",
     "text": [
      "Epoch 127/150:\n",
      "Train loss: 0.2073127033650875, accuracy: 0.9075\n",
      "Validation loss: 0.6762773752967014, accuracy: 0.7724\n"
     ]
    },
    {
     "name": "stderr",
     "output_type": "stream",
     "text": [
      "100%|██████████| 625/625 [00:04<00:00, 146.96it/s]\n"
     ]
    },
    {
     "name": "stdout",
     "output_type": "stream",
     "text": [
      "Epoch 128/150:\n",
      "Train loss: 0.21149340955615042, accuracy: 0.9063\n",
      "Validation loss: 0.6187729144209548, accuracy: 0.7808\n"
     ]
    },
    {
     "name": "stderr",
     "output_type": "stream",
     "text": [
      "100%|██████████| 625/625 [00:04<00:00, 136.65it/s]\n"
     ]
    },
    {
     "name": "stdout",
     "output_type": "stream",
     "text": [
      "Epoch 129/150:\n",
      "Train loss: 0.20228175755143166, accuracy: 0.91125\n",
      "Validation loss: 0.6987528306773946, accuracy: 0.7764\n"
     ]
    },
    {
     "name": "stderr",
     "output_type": "stream",
     "text": [
      "100%|██████████| 625/625 [00:04<00:00, 137.13it/s]\n"
     ]
    },
    {
     "name": "stdout",
     "output_type": "stream",
     "text": [
      "Epoch 130/150:\n",
      "Train loss: 0.19954926996827124, accuracy: 0.9112\n",
      "Validation loss: 0.7825458293096929, accuracy: 0.776\n"
     ]
    },
    {
     "name": "stderr",
     "output_type": "stream",
     "text": [
      "100%|██████████| 625/625 [00:04<00:00, 138.19it/s]\n"
     ]
    },
    {
     "name": "stdout",
     "output_type": "stream",
     "text": [
      "Epoch 131/150:\n",
      "Train loss: 0.18813339304327964, accuracy: 0.9165\n",
      "Validation loss: 0.7780125986171674, accuracy: 0.7712\n"
     ]
    },
    {
     "name": "stderr",
     "output_type": "stream",
     "text": [
      "100%|██████████| 625/625 [00:04<00:00, 139.23it/s]\n"
     ]
    },
    {
     "name": "stdout",
     "output_type": "stream",
     "text": [
      "Epoch 132/150:\n",
      "Train loss: 0.20106074951887132, accuracy: 0.9106\n",
      "Validation loss: 0.6672964370514773, accuracy: 0.7768\n"
     ]
    },
    {
     "name": "stderr",
     "output_type": "stream",
     "text": [
      "100%|██████████| 625/625 [00:04<00:00, 134.14it/s]\n"
     ]
    },
    {
     "name": "stdout",
     "output_type": "stream",
     "text": [
      "Epoch 133/150:\n",
      "Train loss: 0.18379398749768733, accuracy: 0.9179\n",
      "Validation loss: 0.9096298913200256, accuracy: 0.7652\n"
     ]
    },
    {
     "name": "stderr",
     "output_type": "stream",
     "text": [
      "100%|██████████| 625/625 [00:07<00:00, 83.91it/s] \n"
     ]
    },
    {
     "name": "stdout",
     "output_type": "stream",
     "text": [
      "Epoch 134/150:\n",
      "Train loss: 0.19978023692965508, accuracy: 0.91285\n",
      "Validation loss: 0.6933109682949283, accuracy: 0.7788\n"
     ]
    },
    {
     "name": "stderr",
     "output_type": "stream",
     "text": [
      "100%|██████████| 625/625 [00:04<00:00, 134.39it/s]\n"
     ]
    },
    {
     "name": "stdout",
     "output_type": "stream",
     "text": [
      "Epoch 135/150:\n",
      "Train loss: 0.18562621220350264, accuracy: 0.9181\n",
      "Validation loss: 0.700179795109773, accuracy: 0.772\n"
     ]
    },
    {
     "name": "stderr",
     "output_type": "stream",
     "text": [
      "100%|██████████| 625/625 [00:04<00:00, 131.46it/s]\n"
     ]
    },
    {
     "name": "stdout",
     "output_type": "stream",
     "text": [
      "Epoch 136/150:\n",
      "Train loss: 0.19138298671841622, accuracy: 0.916\n",
      "Validation loss: 0.743376989153367, accuracy: 0.7756\n"
     ]
    },
    {
     "name": "stderr",
     "output_type": "stream",
     "text": [
      "100%|██████████| 625/625 [00:04<00:00, 137.17it/s]\n"
     ]
    },
    {
     "name": "stdout",
     "output_type": "stream",
     "text": [
      "Epoch 137/150:\n",
      "Train loss: 0.1763349911391735, accuracy: 0.9231\n",
      "Validation loss: 0.8936256905899772, accuracy: 0.776\n"
     ]
    },
    {
     "name": "stderr",
     "output_type": "stream",
     "text": [
      "100%|██████████| 625/625 [00:04<00:00, 136.01it/s]\n"
     ]
    },
    {
     "name": "stdout",
     "output_type": "stream",
     "text": [
      "Epoch 138/150:\n",
      "Train loss: 0.18715274403691293, accuracy: 0.91575\n",
      "Validation loss: 0.7446656374237205, accuracy: 0.7756\n"
     ]
    },
    {
     "name": "stderr",
     "output_type": "stream",
     "text": [
      "100%|██████████| 625/625 [00:04<00:00, 139.04it/s]\n"
     ]
    },
    {
     "name": "stdout",
     "output_type": "stream",
     "text": [
      "Epoch 139/150:\n",
      "Train loss: 0.19841498092412949, accuracy: 0.9124\n",
      "Validation loss: 0.7856407525795924, accuracy: 0.7788\n"
     ]
    },
    {
     "name": "stderr",
     "output_type": "stream",
     "text": [
      "100%|██████████| 625/625 [00:07<00:00, 83.77it/s] \n"
     ]
    },
    {
     "name": "stdout",
     "output_type": "stream",
     "text": [
      "Epoch 140/150:\n",
      "Train loss: 0.17182109537422657, accuracy: 0.9246\n",
      "Validation loss: 0.7712259722661369, accuracy: 0.7716\n"
     ]
    },
    {
     "name": "stderr",
     "output_type": "stream",
     "text": [
      "100%|██████████| 625/625 [00:05<00:00, 123.88it/s]\n"
     ]
    },
    {
     "name": "stdout",
     "output_type": "stream",
     "text": [
      "Epoch 141/150:\n",
      "Train loss: 0.17668361256718634, accuracy: 0.9222\n",
      "Validation loss: 0.8363182814438131, accuracy: 0.772\n"
     ]
    },
    {
     "name": "stderr",
     "output_type": "stream",
     "text": [
      "100%|██████████| 625/625 [00:04<00:00, 135.76it/s]\n"
     ]
    },
    {
     "name": "stdout",
     "output_type": "stream",
     "text": [
      "Epoch 142/150:\n",
      "Train loss: 0.20837699563801287, accuracy: 0.9106\n",
      "Validation loss: 0.8323046219877049, accuracy: 0.7708\n"
     ]
    },
    {
     "name": "stderr",
     "output_type": "stream",
     "text": [
      "100%|██████████| 625/625 [00:04<00:00, 140.71it/s]\n"
     ]
    },
    {
     "name": "stdout",
     "output_type": "stream",
     "text": [
      "Epoch 143/150:\n",
      "Train loss: 0.1749156324326992, accuracy: 0.925\n",
      "Validation loss: 0.8147993525372276, accuracy: 0.7748\n"
     ]
    },
    {
     "name": "stderr",
     "output_type": "stream",
     "text": [
      "100%|██████████| 625/625 [00:04<00:00, 132.52it/s]\n"
     ]
    },
    {
     "name": "stdout",
     "output_type": "stream",
     "text": [
      "Epoch 144/150:\n",
      "Train loss: 0.17174310892224312, accuracy: 0.9245\n",
      "Validation loss: 0.7690226560152029, accuracy: 0.7736\n"
     ]
    },
    {
     "name": "stderr",
     "output_type": "stream",
     "text": [
      "100%|██████████| 625/625 [00:04<00:00, 133.95it/s]\n"
     ]
    },
    {
     "name": "stdout",
     "output_type": "stream",
     "text": [
      "Epoch 145/150:\n",
      "Train loss: 0.17498263417184354, accuracy: 0.9235\n",
      "Validation loss: 0.8330173979077158, accuracy: 0.7812\n"
     ]
    },
    {
     "name": "stderr",
     "output_type": "stream",
     "text": [
      "100%|██████████| 625/625 [00:04<00:00, 139.77it/s]\n"
     ]
    },
    {
     "name": "stdout",
     "output_type": "stream",
     "text": [
      "Epoch 146/150:\n",
      "Train loss: 0.1564470543682575, accuracy: 0.93135\n",
      "Validation loss: 0.8393912164470817, accuracy: 0.7724\n"
     ]
    },
    {
     "name": "stderr",
     "output_type": "stream",
     "text": [
      "100%|██████████| 625/625 [00:07<00:00, 84.66it/s] \n"
     ]
    },
    {
     "name": "stdout",
     "output_type": "stream",
     "text": [
      "Epoch 147/150:\n",
      "Train loss: 0.1545868335902691, accuracy: 0.9325\n",
      "Validation loss: 0.932135026288938, accuracy: 0.7536\n"
     ]
    },
    {
     "name": "stderr",
     "output_type": "stream",
     "text": [
      "100%|██████████| 625/625 [00:04<00:00, 135.56it/s]\n"
     ]
    },
    {
     "name": "stdout",
     "output_type": "stream",
     "text": [
      "Epoch 148/150:\n",
      "Train loss: 0.1971974193006754, accuracy: 0.91415\n",
      "Validation loss: 0.7100131816313237, accuracy: 0.7664\n"
     ]
    },
    {
     "name": "stderr",
     "output_type": "stream",
     "text": [
      "100%|██████████| 625/625 [00:04<00:00, 131.34it/s]\n"
     ]
    },
    {
     "name": "stdout",
     "output_type": "stream",
     "text": [
      "Epoch 149/150:\n",
      "Train loss: 0.1556635862350464, accuracy: 0.9322\n",
      "Validation loss: 0.8150233367953119, accuracy: 0.778\n"
     ]
    },
    {
     "name": "stderr",
     "output_type": "stream",
     "text": [
      "100%|██████████| 625/625 [00:04<00:00, 138.05it/s]\n"
     ]
    },
    {
     "name": "stdout",
     "output_type": "stream",
     "text": [
      "Epoch 150/150:\n",
      "Train loss: 0.15272085136547683, accuracy: 0.9346\n",
      "Validation loss: 0.7978965095892737, accuracy: 0.7752\n"
     ]
    }
   ],
   "source": [
    "model = RecurrentClassificationModelLSTM(vocab_size=10000, embed_size=50, maxlen=100, hidden_size=64)\n",
    "model.set_embedding(embedding_matrix)\n",
    "\n",
    "criterion = nn.BCELoss()\n",
    "optimizer = optim.Adam(model.parameters(), lr=0.0001)\n",
    "accuracy_history, loss_history, val_accuracy_history, val_loss_history = train_model(model, criterion, optimizer, train_loader, validation_loader)"
   ]
  },
  {
   "cell_type": "code",
   "execution_count": 233,
   "metadata": {},
   "outputs": [
    {
     "name": "stdout",
     "output_type": "stream",
     "text": [
      "Test accuracy: 0.7684\n",
      "Test loss: 0.8094374152678477\n"
     ]
    },
    {
     "data": {
      "text/plain": [
       "(0.7684, 0.8094374152678477)"
      ]
     },
     "execution_count": 233,
     "metadata": {},
     "output_type": "execute_result"
    }
   ],
   "source": [
    "test_model(model, criterion, test_loader)"
   ]
  },
  {
   "cell_type": "code",
   "execution_count": 234,
   "metadata": {},
   "outputs": [
    {
     "data": {
      "image/png": "[encoded data removed]",
      "text/plain": [
       "<Figure size 640x480 with 1 Axes>"
      ]
     },
     "metadata": {},
     "output_type": "display_data"
    },
    {
     "data": {
      "image/png": "[encoded data removed]",
      "text/plain": [
       "<Figure size 640x480 with 1 Axes>"
      ]
     },
     "metadata": {},
     "output_type": "display_data"
    }
   ],
   "source": [
    "plot_history(accuracy_history, loss_history, val_accuracy_history, val_loss_history)"
   ]
  }
 ],
 "metadata": {
  "kernelspec": {
   "display_name": ".venv",
   "language": "python",
   "name": "python3"
  },
  "language_info": {
   "codemirror_mode": {
    "name": "ipython",
    "version": 3
   },
   "file_extension": ".py",
   "mimetype": "text/x-python",
   "name": "python",
   "nbconvert_exporter": "python",
   "pygments_lexer": "ipython3",
   "version": "3.12.2"
  }
 },
 "nbformat": 4,
 "nbformat_minor": 2
}
